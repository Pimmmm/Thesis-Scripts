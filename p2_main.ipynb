{
 "cells": [
  {
   "cell_type": "markdown",
   "metadata": {},
   "source": [
    "# Part 2: CAVs and scenicness"
   ]
  },
  {
   "cell_type": "code",
   "execution_count": 1,
   "metadata": {},
   "outputs": [
    {
     "name": "stdout",
     "output_type": "stream",
     "text": [
      "Importing Jupyter notebook from p1_CreateTrainingDataframe.ipynb\n",
      "Importing Jupyter notebook from p1_CreateTestDataframe.ipynb\n",
      "Importing Jupyter notebook from p1_BrodenDataSet.ipynb\n",
      "Importing Jupyter notebook from p1_RescaleImage.ipynb\n",
      "Importing Jupyter notebook from p1_TransformToTensor.ipynb\n",
      "Importing Jupyter notebook from p1_GetVectorFromImage.ipynb\n",
      "Importing Jupyter notebook from p1_GetCosineSimilarityDistance.ipynb\n",
      "Importing Jupyter notebook from p1_MakeVectorDictionary.ipynb\n",
      "Importing Jupyter notebook from p1_SubsetConceptImages.ipynb\n",
      "Importing Jupyter notebook from p2_SoN_Dataset.ipynb\n"
     ]
    }
   ],
   "source": [
    "import os\n",
    "import numpy as np\n",
    "import pandas as pd\n",
    "import torch\n",
    "import matplotlib\n",
    "import matplotlib.pyplot as plt\n",
    "import random\n",
    "import pickle\n",
    "import collections\n",
    "import nbimporter\n",
    "import cv2\n",
    "import torch.nn.functional as F\n",
    "import math\n",
    "import glob\n",
    "import re\n",
    "\n",
    "\n",
    "from matplotlib.colors import ListedColormap\n",
    "from skimage import io, transform\n",
    "from torch.utils.data import DataLoader, Dataset\n",
    "from torchvision import utils, transforms, models\n",
    "from torch.autograd import Variable\n",
    "from PIL import Image\n",
    "from sklearn import linear_model, metrics\n",
    "from sklearn.model_selection import train_test_split\n",
    "from statistics import mean, stdev\n",
    "from scipy import stats, special\n",
    "from tqdm.notebook import tqdm, tnrange\n",
    "\n",
    "from p1_CreateTrainingDataframe import CreateTrainingDataframe\n",
    "from p1_CreateTestDataframe import CreateTestDataframe\n",
    "from p1_BrodenDataSet import BrodenDataset\n",
    "from p1_RescaleImage import Rescale\n",
    "from p1_TransformToTensor import ToTensor\n",
    "from p1_GetVectorFromImage import GetVector\n",
    "from p1_GetCosineSimilarityDistance import GetCosineSimilarityDistance\n",
    "from p1_MakeVectorDictionary import MakeVectorDictionary\n",
    "from p1_SubsetConceptImages import SubsetConceptImages\n",
    "\n",
    "from p2_SoN_Dataset import SonDataset"
   ]
  },
  {
   "cell_type": "markdown",
   "metadata": {},
   "source": [
    "Import necessary elements from part 1"
   ]
  },
  {
   "cell_type": "code",
   "execution_count": 2,
   "metadata": {},
   "outputs": [],
   "source": [
    "basenet = models.resnet50(pretrained=True, progress=True)\n",
    "out_layer = basenet._modules.get('avgpool')"
   ]
  },
  {
   "cell_type": "code",
   "execution_count": 3,
   "metadata": {},
   "outputs": [],
   "source": [
    "## my own laptop:\n",
    "# broden_dataset_path = '../data/broden1_384/'\n",
    "\n",
    "## on guanabana:\n",
    "broden_dataset_path = '/raid/data/datasets/broden1_384'\n",
    "\n",
    "index_file_path = os.path.join(broden_dataset_path, 'index.csv')\n",
    "label_file_path = os.path.join(broden_dataset_path, 'label.csv')"
   ]
  },
  {
   "cell_type": "markdown",
   "metadata": {},
   "source": [
    "## Preprocess the Scenic-Or-Not images"
   ]
  },
  {
   "cell_type": "code",
   "execution_count": 4,
   "metadata": {},
   "outputs": [],
   "source": [
    "son_path = '/raid/data/datasets/SoN/'\n",
    "csv_path = '../data/votes.tsv'\n",
    "image_path = son_path + 'images'"
   ]
  },
  {
   "cell_type": "markdown",
   "metadata": {},
   "source": [
    "Read the csv file and only use the columns with 'ID' and 'Average score'. The image names are equal to the ID + .jpg"
   ]
  },
  {
   "cell_type": "code",
   "execution_count": 5,
   "metadata": {},
   "outputs": [],
   "source": [
    "data_info = pd.read_csv(csv_path, delimiter ='\\t', encoding='utf-8')"
   ]
  },
  {
   "cell_type": "markdown",
   "metadata": {},
   "source": [
    "Certain images are to be deleted from the dataset as they are not correctly downloaded. These images are stored in the 'no exist' folder. These images are listed and their IDs are extracted. The image IDs are then linked to the dataframe indices, which are then removed. The index is reset afterwards and the dataframe is stored as .csv"
   ]
  },
  {
   "cell_type": "code",
   "execution_count": 6,
   "metadata": {},
   "outputs": [],
   "source": [
    "if os.path.exists('../data/updated_votes.csv'):\n",
    "    updated_votes = pd.read_csv('../data/updated_votes.csv', index_col = 0)\n",
    "    \n",
    "else:\n",
    "    deleted_imgs = [f for f in glob.glob('/raid/data/datasets/SoN/images/no_exist/' + \"*.jpg\", recursive=False)]\n",
    "    deleted_imgs = list(map(lambda x: [int(s) for s in re.findall(r'\\d+', x)][0], deleted_imgs))\n",
    "\n",
    "    remove_indices = tuple(map(lambda x: data_info.loc[data_info.ID == x].index[0], deleted_imgs))\n",
    "\n",
    "    updated_votes = data_info.drop(data_info.index[[remove_indices]])\n",
    "    updated_votes.reset_index(drop=True, inplace=True)\n",
    "    \n",
    "    updated_votes.to_csv('../data/updated_votes.csv')"
   ]
  },
  {
   "cell_type": "markdown",
   "metadata": {},
   "source": [
    "Create a Dataset for the Scenic-Or-Not images"
   ]
  },
  {
   "cell_type": "code",
   "execution_count": 7,
   "metadata": {},
   "outputs": [],
   "source": [
    "son_dataset = SonDataset('../data/updated_votes.csv', \n",
    "                         image_path, \n",
    "                         transform = transforms.Compose([transforms.Resize(224),\n",
    "                                                         transforms.ToTensor(),\n",
    "                                                         transforms.Normalize(mean=[0.485, 0.456, 0.406],\n",
    "                                                                              std=[0.229, 0.224, 0.225])\n",
    "                                                        ]))"
   ]
  },
  {
   "cell_type": "markdown",
   "metadata": {},
   "source": [
    "Run all the SoN images through the model and store the activations in a dictionary. In which the image index in de *updated_votes_df* are the keys and the activation tensors the values."
   ]
  },
  {
   "cell_type": "code",
   "execution_count": 8,
   "metadata": {},
   "outputs": [],
   "source": [
    "if os.path.exists('../data/son_tensors.pickle'):\n",
    "    with open('../data/son_tensors.pickle', 'rb') as handle:\n",
    "        son_tensors = pickle.load(handle)\n",
    "        \n",
    "else:\n",
    "    son_idxs = list(range(len(updated_votes)))\n",
    "    son_tensors = MakeVectorDictionary(basenet,\n",
    "                                      out_layer,\n",
    "                                      son_dataset,\n",
    "                                      son_idxs,\n",
    "                                      file_name = 'son_tensors.pickle')"
   ]
  },
  {
   "cell_type": "markdown",
   "metadata": {},
   "source": [
    "2 images are not able to get through the model and thus need to be removed from the *updated_votes_df*. The indices of the images are:\n",
    " - 52642\n",
    " - 201047"
   ]
  },
  {
   "cell_type": "code",
   "execution_count": 9,
   "metadata": {},
   "outputs": [],
   "source": [
    "updated_votes.drop([52642, 201047], inplace=True)"
   ]
  },
  {
   "cell_type": "markdown",
   "metadata": {},
   "source": [
    "For each SoN image the probability score for each concept from the Broden dataset is calculated. The probability score is calculated as follows: <br>\n",
    "$CAV_{Broden} * tensor_{image} + bias_{Broden}$\n",
    "\n",
    "The result is stored in a dataframe and written to a .csv file"
   ]
  },
  {
   "cell_type": "code",
   "execution_count": 10,
   "metadata": {},
   "outputs": [],
   "source": [
    "son_idxs = list(son_tensors.keys())"
   ]
  },
  {
   "cell_type": "code",
   "execution_count": 19,
   "metadata": {},
   "outputs": [],
   "source": [
    "with open('../data/filtered_broden_cavs.pickle', 'rb') as handle:\n",
    "        broden_cavs = pickle.load(handle)"
   ]
  },
  {
   "cell_type": "code",
   "execution_count": 20,
   "metadata": {},
   "outputs": [],
   "source": [
    "broden_concepts = list(broden_cavs.keys())"
   ]
  },
  {
   "cell_type": "code",
   "execution_count": 21,
   "metadata": {},
   "outputs": [],
   "source": [
    "concept_score_matrix = np.zeros((len(son_tensors), len(broden_concepts)))"
   ]
  },
  {
   "cell_type": "code",
   "execution_count": 22,
   "metadata": {},
   "outputs": [
    {
     "data": {
      "application/vnd.jupyter.widget-view+json": {
       "model_id": "35bfc1f5f5444682af6483f7edbfd435",
       "version_major": 2,
       "version_minor": 0
      },
      "text/plain": [
       "HBox(children=(IntProgress(value=0, max=212102), HTML(value='')))"
      ]
     },
     "metadata": {},
     "output_type": "display_data"
    },
    {
     "name": "stdout",
     "output_type": "stream",
     "text": [
      "\n"
     ]
    }
   ],
   "source": [
    "if os.path.exists('../data/concept_scores.csv'):\n",
    "    concept_score_df = pd.read_csv('../data/concept_scores.csv', index_col = 0)\n",
    "else:\n",
    "    for i in tqdm(range(len(son_tensors))):\n",
    "        son_img_activation = son_tensors[son_idxs[i]].numpy()\n",
    "    \n",
    "        for c in range(len(broden_concepts)):\n",
    "            cav = broden_cavs[broden_concepts[c]]['cav']\n",
    "            bias = broden_cavs[broden_concepts[c]]['bias']\n",
    "\n",
    "            concept_score = np.dot(cav, son_img_activation) + bias\n",
    "            concept_score_matrix[i][c] = concept_score\n",
    "            \n",
    "    concept_score_df = pd.DataFrame(concept_score_matrix, columns = broden_concepts)\n",
    "    concept_score_df.to_csv('../data/concept_scores.csv')\n",
    "        "
   ]
  },
  {
   "cell_type": "markdown",
   "metadata": {},
   "source": [
    "A Kendall's Tau test is applied to check if which concepts correlate with an increase in scenicness. \"Kendall’s tau is a measure of the correspondence between two rankings\""
   ]
  },
  {
   "cell_type": "code",
   "execution_count": 23,
   "metadata": {},
   "outputs": [],
   "source": [
    "scenic_score = np.asarray(updated_votes.Average)"
   ]
  },
  {
   "cell_type": "code",
   "execution_count": 24,
   "metadata": {},
   "outputs": [
    {
     "data": {
      "application/vnd.jupyter.widget-view+json": {
       "model_id": "64efe7fc970f4a9f8c7e8016a12cede7",
       "version_major": 2,
       "version_minor": 0
      },
      "text/plain": [
       "HBox(children=(IntProgress(value=0, max=722), HTML(value='')))"
      ]
     },
     "metadata": {},
     "output_type": "display_data"
    },
    {
     "name": "stdout",
     "output_type": "stream",
     "text": [
      "\n"
     ]
    }
   ],
   "source": [
    "all_concepts = list(concept_score_df.columns)\n",
    "kendall_tau_score = {'tau': [],\n",
    "                    'p_value': []}\n",
    "\n",
    "for concept in tqdm(all_concepts):\n",
    "    concept_score = np.asarray(concept_score_df.loc[:,concept])\n",
    "    tau, p_value = stats.kendalltau(concept_score, scenic_score)\n",
    "    kendall_tau_score['tau'].append(tau)\n",
    "    kendall_tau_score['p_value'].append(p_value)"
   ]
  },
  {
   "cell_type": "code",
   "execution_count": 25,
   "metadata": {},
   "outputs": [
    {
     "data": {
      "application/vnd.jupyter.widget-view+json": {
       "model_id": "a2ef06e13cae4a4c8abc9a6e354dbfdb",
       "version_major": 2,
       "version_minor": 0
      },
      "text/plain": [
       "HBox(children=(IntProgress(value=0, max=722), HTML(value='')))"
      ]
     },
     "metadata": {},
     "output_type": "display_data"
    },
    {
     "name": "stdout",
     "output_type": "stream",
     "text": [
      "\n"
     ]
    }
   ],
   "source": [
    "spearman_score = {'rho': [],\n",
    "                 'p_value' : []}\n",
    "\n",
    "for concept in tqdm(all_concepts):\n",
    "    concept_score = np.asarray(concept_score_df.loc[:,concept])\n",
    "    rho, p_value = stats.spearmanr(concept_score, scenic_score)\n",
    "    spearman_score['rho'].append(rho)\n",
    "    spearman_score['p_value'].append(p_value)"
   ]
  },
  {
   "cell_type": "code",
   "execution_count": 26,
   "metadata": {},
   "outputs": [],
   "source": [
    "kendall_tau_df = pd.DataFrame.from_dict(kendall_tau_score)\n",
    "spearman_df = pd.DataFrame.from_dict(spearman_score)"
   ]
  },
  {
   "cell_type": "code",
   "execution_count": 27,
   "metadata": {},
   "outputs": [],
   "source": [
    "kendall_tau_df['concept'] = all_concepts\n",
    "spearman_df['concept'] = all_concepts"
   ]
  },
  {
   "cell_type": "code",
   "execution_count": 28,
   "metadata": {},
   "outputs": [],
   "source": [
    "kendall_tau_df.sort_values(by=['tau'], ascending=True, inplace = True)\n",
    "spearman_df.sort_values(by=['rho'], ascending = True, inplace = True)"
   ]
  },
  {
   "cell_type": "code",
   "execution_count": 29,
   "metadata": {},
   "outputs": [
    {
     "data": {
      "text/html": [
       "<div>\n",
       "<style scoped>\n",
       "    .dataframe tbody tr th:only-of-type {\n",
       "        vertical-align: middle;\n",
       "    }\n",
       "\n",
       "    .dataframe tbody tr th {\n",
       "        vertical-align: top;\n",
       "    }\n",
       "\n",
       "    .dataframe thead th {\n",
       "        text-align: right;\n",
       "    }\n",
       "</style>\n",
       "<table border=\"1\" class=\"dataframe\">\n",
       "  <thead>\n",
       "    <tr style=\"text-align: right;\">\n",
       "      <th></th>\n",
       "      <th>tau</th>\n",
       "      <th>p_value</th>\n",
       "      <th>concept</th>\n",
       "    </tr>\n",
       "  </thead>\n",
       "  <tbody>\n",
       "    <tr>\n",
       "      <th>3</th>\n",
       "      <td>-0.388663</td>\n",
       "      <td>0.0</td>\n",
       "      <td>building</td>\n",
       "    </tr>\n",
       "    <tr>\n",
       "      <th>26</th>\n",
       "      <td>-0.373547</td>\n",
       "      <td>0.0</td>\n",
       "      <td>street-s</td>\n",
       "    </tr>\n",
       "    <tr>\n",
       "      <th>18</th>\n",
       "      <td>-0.366121</td>\n",
       "      <td>0.0</td>\n",
       "      <td>sidewalk</td>\n",
       "    </tr>\n",
       "    <tr>\n",
       "      <th>141</th>\n",
       "      <td>-0.360514</td>\n",
       "      <td>0.0</td>\n",
       "      <td>crosswalk</td>\n",
       "    </tr>\n",
       "    <tr>\n",
       "      <th>346</th>\n",
       "      <td>-0.345220</td>\n",
       "      <td>0.0</td>\n",
       "      <td>parking_lot-s</td>\n",
       "    </tr>\n",
       "    <tr>\n",
       "      <th>...</th>\n",
       "      <td>...</td>\n",
       "      <td>...</td>\n",
       "      <td>...</td>\n",
       "    </tr>\n",
       "    <tr>\n",
       "      <th>419</th>\n",
       "      <td>0.403432</td>\n",
       "      <td>0.0</td>\n",
       "      <td>ocean-s</td>\n",
       "    </tr>\n",
       "    <tr>\n",
       "      <th>347</th>\n",
       "      <td>0.406211</td>\n",
       "      <td>0.0</td>\n",
       "      <td>valley-s</td>\n",
       "    </tr>\n",
       "    <tr>\n",
       "      <th>389</th>\n",
       "      <td>0.412510</td>\n",
       "      <td>0.0</td>\n",
       "      <td>island</td>\n",
       "    </tr>\n",
       "    <tr>\n",
       "      <th>323</th>\n",
       "      <td>0.431492</td>\n",
       "      <td>0.0</td>\n",
       "      <td>cliff</td>\n",
       "    </tr>\n",
       "    <tr>\n",
       "      <th>559</th>\n",
       "      <td>0.468446</td>\n",
       "      <td>0.0</td>\n",
       "      <td>canyon-s</td>\n",
       "    </tr>\n",
       "  </tbody>\n",
       "</table>\n",
       "<p>722 rows × 3 columns</p>\n",
       "</div>"
      ],
      "text/plain": [
       "          tau  p_value        concept\n",
       "3   -0.388663      0.0       building\n",
       "26  -0.373547      0.0       street-s\n",
       "18  -0.366121      0.0       sidewalk\n",
       "141 -0.360514      0.0      crosswalk\n",
       "346 -0.345220      0.0  parking_lot-s\n",
       "..        ...      ...            ...\n",
       "419  0.403432      0.0        ocean-s\n",
       "347  0.406211      0.0       valley-s\n",
       "389  0.412510      0.0         island\n",
       "323  0.431492      0.0          cliff\n",
       "559  0.468446      0.0       canyon-s\n",
       "\n",
       "[722 rows x 3 columns]"
      ]
     },
     "execution_count": 29,
     "metadata": {},
     "output_type": "execute_result"
    }
   ],
   "source": [
    "kendall_tau_df"
   ]
  },
  {
   "cell_type": "markdown",
   "metadata": {},
   "source": [
    "## Mapping"
   ]
  },
  {
   "cell_type": "code",
   "execution_count": 105,
   "metadata": {},
   "outputs": [],
   "source": [
    "img_file = []\n",
    "img_name = '136'\n",
    "for directory, _ , _ in os.walk('/raid/data/datasets/SoN/images'):\n",
    "    img_file.extend(glob.glob(os.path.join(directory, img_name + '.jpg')))\n",
    "\n",
    "img_path = img_file[0]"
   ]
  },
  {
   "cell_type": "markdown",
   "metadata": {},
   "source": [
    "To plot the map "
   ]
  },
  {
   "cell_type": "code",
   "execution_count": 27,
   "metadata": {},
   "outputs": [],
   "source": [
    "max_lat = max(updated_votes.Lat)\n",
    "min_lat = min(updated_votes.Lat)\n",
    "\n",
    "max_lon = max(updated_votes.Lon)\n",
    "min_lon = min(updated_votes.Lon)"
   ]
  },
  {
   "cell_type": "code",
   "execution_count": 107,
   "metadata": {},
   "outputs": [],
   "source": [
    "updated_votes['y_pos'] = updated_votes.loc[:,'Lat'].apply(lambda x: round((max_lat - x) * 10))\n",
    "updated_votes['x_pos'] = updated_votes.loc[:,'Lon'].apply(lambda x: round((x + abs(min_lon)) * 10))\n",
    "\n",
    "son_df = pd.merge(updated_votes, concept_score_df, left_index=True, right_index=True)"
   ]
  },
  {
   "cell_type": "code",
   "execution_count": 152,
   "metadata": {},
   "outputs": [],
   "source": [
    "def custom_div_cmap(numcolors=11, name='custom_div_cmap',\n",
    "                    mincol='gray', midcol='white', maxcol='orange'):\n",
    "    \n",
    "    \"\"\" Create a custom diverging colormap with three colors\n",
    "    \n",
    "    Default is blue to white to red with 11 colors.  Colors can be specified\n",
    "    in any way understandable by matplotlib.colors.ColorConverter.to_rgb()\n",
    "    \"\"\"\n",
    "\n",
    "    from matplotlib.colors import LinearSegmentedColormap \n",
    "    \n",
    "    cmap = LinearSegmentedColormap.from_list(name=name, \n",
    "                                             colors =[mincol, midcol, maxcol],\n",
    "                                             N=numcolors)\n",
    "    return cmap"
   ]
  },
  {
   "cell_type": "code",
   "execution_count": 187,
   "metadata": {},
   "outputs": [],
   "source": [
    "newcmp = custom_div_cmap(11, 'custom_cmap', '0.15', 'gold', 'lightgoldenrodyellow')"
   ]
  },
  {
   "cell_type": "code",
   "execution_count": 237,
   "metadata": {},
   "outputs": [],
   "source": [
    "def plot_concept_score(concept, son_df,newcmp):\n",
    "    \n",
    "    # Intialize a matrix based on the maximum difference in longitude and latitude\n",
    "    grid = np.zeros((110, 110))\n",
    "    grid[:] = np.nan\n",
    "    \n",
    "    grid_count = np.zeros((110,110))\n",
    "    \n",
    "    if concept not in son_df.columns:\n",
    "        raise ValueError ('concept not present in dataset')\n",
    "    \n",
    "    #Loop through every image\n",
    "    for i in tqdm(range(len(son_df))):\n",
    "        try:\n",
    "            x = son_df.loc[i, 'x_pos']\n",
    "            y = son_df.loc[i, 'y_pos']\n",
    "            if np.isnan(grid[y][x]):\n",
    "                grid[y][x] = np.array([son_df.loc[i, concept]])\n",
    "                grid_count[y][x] += 1\n",
    "            else:\n",
    "                grid[y][x] += son_df.loc[i, concept]\n",
    "                grid_count[y][x] += 1\n",
    "\n",
    "        except:\n",
    "            continue\n",
    "    grid = special.expit((grid*100)/grid_count)\n",
    "    #grid = grid/grid_count\n",
    "    img_name = '../data/' + concept + '_concept_score.png'\n",
    "    # Plot the matrix as an image\n",
    "    %matplotlib inline\n",
    "    current_cmap = matplotlib.cm.get_cmap(newcmp)\n",
    "    current_cmap.set_bad(color='black')\n",
    "    plt.imshow(grid, cmap = current_cmap, interpolation='bilinear', vmin=0, vmax=1)\n",
    "    cbar = plt.colorbar()\n",
    "    cbar.set_label('concept score')\n",
    "    plt.title(concept)\n",
    "    plt.axis('off')\n",
    "    plt.savefig(img_name, bbox_inches='tight')\n",
    "    plt.show()"
   ]
  },
  {
   "cell_type": "code",
   "execution_count": 238,
   "metadata": {},
   "outputs": [
    {
     "data": {
      "application/vnd.jupyter.widget-view+json": {
       "model_id": "01789398272c4b92b45ad720c047d0f2",
       "version_major": 2,
       "version_minor": 0
      },
      "text/plain": [
       "HBox(children=(IntProgress(value=0, max=212100), HTML(value='')))"
      ]
     },
     "metadata": {},
     "output_type": "display_data"
    },
    {
     "name": "stdout",
     "output_type": "stream",
     "text": [
      "\n"
     ]
    },
    {
     "data": {
      "image/png": "[encoded data removed]",
      "text/plain": [
       "<Figure size 432x288 with 2 Axes>"
      ]
     },
     "metadata": {
      "needs_background": "light"
     },
     "output_type": "display_data"
    },
    {
     "data": {
      "application/vnd.jupyter.widget-view+json": {
       "model_id": "e340c467850643c0bc3a31d12d4f7cf1",
       "version_major": 2,
       "version_minor": 0
      },
      "text/plain": [
       "HBox(children=(IntProgress(value=0, max=212100), HTML(value='')))"
      ]
     },
     "metadata": {},
     "output_type": "display_data"
    },
    {
     "name": "stdout",
     "output_type": "stream",
     "text": [
      "\n"
     ]
    },
    {
     "data": {
      "image/png": "[encoded data removed]",
      "text/plain": [
       "<Figure size 432x288 with 2 Axes>"
      ]
     },
     "metadata": {
      "needs_background": "light"
     },
     "output_type": "display_data"
    },
    {
     "data": {
      "application/vnd.jupyter.widget-view+json": {
       "model_id": "c79c08645b714b3d9666ec410be5d6d4",
       "version_major": 2,
       "version_minor": 0
      },
      "text/plain": [
       "HBox(children=(IntProgress(value=0, max=212100), HTML(value='')))"
      ]
     },
     "metadata": {},
     "output_type": "display_data"
    },
    {
     "name": "stdout",
     "output_type": "stream",
     "text": [
      "\n"
     ]
    },
    {
     "data": {
      "image/png": "[encoded data removed]",
      "text/plain": [
       "<Figure size 432x288 with 2 Axes>"
      ]
     },
     "metadata": {
      "needs_background": "light"
     },
     "output_type": "display_data"
    },
    {
     "data": {
      "application/vnd.jupyter.widget-view+json": {
       "model_id": "2979952e63db4797907fe99cb660ffc3",
       "version_major": 2,
       "version_minor": 0
      },
      "text/plain": [
       "HBox(children=(IntProgress(value=0, max=212100), HTML(value='')))"
      ]
     },
     "metadata": {},
     "output_type": "display_data"
    },
    {
     "name": "stdout",
     "output_type": "stream",
     "text": [
      "\n"
     ]
    },
    {
     "data": {
      "image/png": "[encoded data removed]",
      "text/plain": [
       "<Figure size 432x288 with 2 Axes>"
      ]
     },
     "metadata": {
      "needs_background": "light"
     },
     "output_type": "display_data"
    },
    {
     "data": {
      "application/vnd.jupyter.widget-view+json": {
       "model_id": "753c009d10774217aef15b74b01d07d0",
       "version_major": 2,
       "version_minor": 0
      },
      "text/plain": [
       "HBox(children=(IntProgress(value=0, max=212100), HTML(value='')))"
      ]
     },
     "metadata": {},
     "output_type": "display_data"
    },
    {
     "name": "stdout",
     "output_type": "stream",
     "text": [
      "\n"
     ]
    },
    {
     "data": {
      "image/png": "[encoded data removed]",
      "text/plain": [
       "<Figure size 432x288 with 2 Axes>"
      ]
     },
     "metadata": {
      "needs_background": "light"
     },
     "output_type": "display_data"
    }
   ],
   "source": [
    "cl = ['beach-s', 'coast-s', 'mountain', 'lighthouse-s', 'building']\n",
    "for c in cl:\n",
    "    plot_concept_score(c, son_df, newcmp)"
   ]
  }
 ],
 "metadata": {
  "kernelspec": {
   "display_name": "Python 3",
   "language": "python",
   "name": "python3"
  },
  "language_info": {
   "codemirror_mode": {
    "name": "ipython",
    "version": 3
   },
   "file_extension": ".py",
   "mimetype": "text/x-python",
   "name": "python",
   "nbconvert_exporter": "python",
   "pygments_lexer": "ipython3",
   "version": "3.7.5"
  }
 },
 "nbformat": 4,
 "nbformat_minor": 2
}
