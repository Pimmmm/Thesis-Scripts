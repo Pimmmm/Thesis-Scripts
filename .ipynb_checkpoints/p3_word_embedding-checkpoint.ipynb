{
 "cells": [
  {
   "cell_type": "code",
   "execution_count": 2,
   "metadata": {},
   "outputs": [],
   "source": [
    "import os\n",
    "import pickle\n",
    "import numpy as np\n",
    "import matplotlib.pyplot as plt\n",
    "import random\n",
    "import pandas as pd\n",
    "import collections\n",
    "import heapq\n",
    "\n",
    "\n",
    "from scipy import linalg\n",
    "from tqdm.notebook import tqdm\n",
    "from sklearn.cross_decomposition import CCA\n",
    "from sklearn.metrics.pairwise import cosine_similarity\n",
    "from sklearn.preprocessing import normalize, scale\n",
    "from sklearn.neighbors import NearestNeighbors, kneighbors_graph\n",
    "from sklearn.model_selection import LeaveOneOut\n",
    "from sklearn.manifold import TSNE\n",
    "from sklearn.decomposition import PCA\n",
    "from sklearn.metrics.pairwise import cosine_similarity"
   ]
  },
  {
   "cell_type": "code",
   "execution_count": 3,
   "metadata": {},
   "outputs": [],
   "source": [
    "GLOVE_PATH = '/mnt/guanabana/raid/data/datasets/GloVe/pretrained/glove.6B.300d.txt'\n",
    "CAVS_PATH = '../data/filtered_broden_cavs.pickle'\n",
    "EMBEDDING_PATH = '../data/word_embedding_6B_300D.pickle'\n",
    "TEXTURE_PATH = \"/raid/data/datasets/broden1_384/c_texture.csv\""
   ]
  },
  {
   "cell_type": "code",
   "execution_count": 4,
   "metadata": {},
   "outputs": [],
   "source": [
    "textures = pd.read_csv(TEXTURE_PATH, index_col = 0)\n",
    "texture_list = list(textures['name'])"
   ]
  },
  {
   "cell_type": "markdown",
   "metadata": {},
   "source": [
    "Read the concept activation vectors from the Broden dataset as a dictionary"
   ]
  },
  {
   "cell_type": "code",
   "execution_count": 5,
   "metadata": {},
   "outputs": [],
   "source": [
    "with open(CAVS_PATH, 'rb') as handle:\n",
    "        cavs_broden = pickle.load(handle)"
   ]
  },
  {
   "cell_type": "markdown",
   "metadata": {},
   "source": [
    "Extract the word embeddings from the GloVe dataset. The word embeddings are stored in a dictionary, with the word as key and vector as value, and in a matrix (400 000 x 300). The dataset contains about 400K words."
   ]
  },
  {
   "cell_type": "code",
   "execution_count": 6,
   "metadata": {},
   "outputs": [],
   "source": [
    "if os.path.exists(EMBEDDING_PATH):\n",
    "    with open(EMBEDDING_PATH, 'rb') as handle:\n",
    "        embedding_dict = pickle.load(handle)\n",
    "\n",
    "    glove_embedding_matrix = np.load('../data/glove_embedding_matrix.npy')\n",
    "else:\n",
    "    embedding_dict = {}\n",
    "    glove_embedding_matrix = np.zeros((400000, 300))\n",
    "\n",
    "    with open(GLOVE_PATH, 'r', encoding=\"utf-8\") as f:\n",
    "        for i, line in tqdm(enumerate(f)):\n",
    "            \n",
    "            values = line.split()\n",
    "            word = values[0]\n",
    "            vector = np.asarray(values[1:], 'float32').reshape(1,-1)\n",
    "            embedding_dict[word] = vector\n",
    "\n",
    "            glove_embedding_matrix[i] = vector\n",
    "                        \n",
    "    with open(EMBEDDING_PATH, 'wb') as handle:\n",
    "        pickle.dump(embedding_dict, handle, protocol=pickle.HIGHEST_PROTOCOL)\n",
    "     \n",
    "    np.save('../data/glove_embedding_matrix.npy', glove_embedding_matrix)"
   ]
  },
  {
   "cell_type": "markdown",
   "metadata": {},
   "source": [
    "Select the concepts from the Broden dataset, which are also available as word embedding. Several concepts in the Broden dataset end with _'-s'_. This is removed to get more concepts linked with an embedding. "
   ]
  },
  {
   "cell_type": "code",
   "execution_count": 7,
   "metadata": {},
   "outputs": [],
   "source": [
    "# list all Broden concepts\n",
    "all_broden_concepts = list(cavs_broden.keys())\n",
    "\n",
    "# remove duplicates from concept list (e.g. mountain-s is stored when mountain and mountain-s are both in the dataset)\n",
    "# and remove the textures from the concepts\n",
    "no_dups_concepts = [c for c in all_broden_concepts if c +'-s' not in all_broden_concepts and c not in texture_list]"
   ]
  },
  {
   "cell_type": "code",
   "execution_count": 8,
   "metadata": {},
   "outputs": [],
   "source": [
    "# create a matrix of all cavs\n",
    "cav_matrix = np.zeros((len(no_dups_concepts), cavs_broden[no_dups_concepts[0]]['cav'].shape[1]))\n",
    "for i in range(len(no_dups_concepts)):\n",
    "    cav = cavs_broden[no_dups_concepts[i]]['cav']\n",
    "    cav_matrix[i] = cav\n",
    "\n",
    "# remove the '-s' from the concepts if present \n",
    "broden_concepts = [c[:-2] if c[-2:] == '-s' else c for c in no_dups_concepts]"
   ]
  },
  {
   "cell_type": "code",
   "execution_count": 9,
   "metadata": {},
   "outputs": [
    {
     "data": {
      "text/plain": [
       "(649, 2048)"
      ]
     },
     "execution_count": 9,
     "metadata": {},
     "output_type": "execute_result"
    }
   ],
   "source": [
    "cav_matrix.shape"
   ]
  },
  {
   "cell_type": "markdown",
   "metadata": {},
   "source": [
    "Remove the '-s' from the _scene_ concepts and store the matching cavs with the word embeddings. The index is stored to remove the unavailable concepts from the CAV matrix"
   ]
  },
  {
   "cell_type": "code",
   "execution_count": 10,
   "metadata": {},
   "outputs": [],
   "source": [
    "embedding_ix_concepts = [(idx, c) for idx, c in enumerate(broden_concepts) if c in embedding_dict.keys()]\n",
    "\n",
    "# store the indices of concepts which are present in both datasets\n",
    "embedding_idxs = [ix for ix, n in embedding_ix_concepts]\n",
    "embedding_concepts = [c for ix, c in embedding_ix_concepts]"
   ]
  },
  {
   "cell_type": "code",
   "execution_count": 11,
   "metadata": {},
   "outputs": [
    {
     "name": "stdout",
     "output_type": "stream",
     "text": [
      "The amount of CAVs with a corresponding word embedding:  373\n"
     ]
    }
   ],
   "source": [
    "print(\"The amount of CAVs with a corresponding word embedding: \", len(embedding_idxs))"
   ]
  },
  {
   "cell_type": "code",
   "execution_count": 12,
   "metadata": {},
   "outputs": [],
   "source": [
    "cavs_with_embedding = cav_matrix[embedding_idxs]"
   ]
  },
  {
   "cell_type": "code",
   "execution_count": 13,
   "metadata": {},
   "outputs": [
    {
     "data": {
      "text/plain": [
       "(373, 2048)"
      ]
     },
     "execution_count": 13,
     "metadata": {},
     "output_type": "execute_result"
    }
   ],
   "source": [
    "cavs_with_embedding.shape"
   ]
  },
  {
   "cell_type": "markdown",
   "metadata": {},
   "source": [
    "Create a matrix of the word embeddings for the concepts which also have a CAV."
   ]
  },
  {
   "cell_type": "code",
   "execution_count": 14,
   "metadata": {},
   "outputs": [],
   "source": [
    "embeddings_with_cav = np.zeros((len(embedding_idxs), 300))\n",
    "for i in range(len(embedding_concepts)):\n",
    "    word_vec = embedding_dict[embedding_concepts[i]].reshape(1,-1)\n",
    "    embeddings_with_cav[i] = word_vec"
   ]
  },
  {
   "cell_type": "code",
   "execution_count": 15,
   "metadata": {},
   "outputs": [
    {
     "data": {
      "text/plain": [
       "(373, 300)"
      ]
     },
     "execution_count": 15,
     "metadata": {},
     "output_type": "execute_result"
    }
   ],
   "source": [
    "embeddings_with_cav.shape"
   ]
  },
  {
   "cell_type": "markdown",
   "metadata": {},
   "source": [
    "## Manifold alignment"
   ]
  },
  {
   "cell_type": "markdown",
   "metadata": {},
   "source": [
    "Transpose the input data to column matrices"
   ]
  },
  {
   "cell_type": "code",
   "execution_count": 16,
   "metadata": {},
   "outputs": [],
   "source": [
    "cavs_norm = normalize(cavs_with_embedding)\n",
    "glove_norm = normalize(embeddings_with_cav)\n",
    "\n",
    "cavs_norm_col = cavs_norm.T\n",
    "glove_norm_col = glove_norm.T"
   ]
  },
  {
   "cell_type": "markdown",
   "metadata": {},
   "source": [
    "To perform manifold allignment the MatLab code from Devis Tuia is followed: https://github.com/dtuia/KEMA/blob/master/general_routine/KMA.m"
   ]
  },
  {
   "cell_type": "code",
   "execution_count": 17,
   "metadata": {},
   "outputs": [],
   "source": [
    "n_samples = len(embedding_concepts)\n",
    "MU = 0.5\n",
    "LAMBDA = 0.5"
   ]
  },
  {
   "cell_type": "code",
   "execution_count": 18,
   "metadata": {},
   "outputs": [],
   "source": [
    "cav_knn_graph = kneighbors_graph(cavs_norm, 3, mode = 'connectivity')\n",
    "cav_knn_graph = cav_knn_graph.toarray()"
   ]
  },
  {
   "cell_type": "code",
   "execution_count": 19,
   "metadata": {},
   "outputs": [],
   "source": [
    "glove_knn_graph = kneighbors_graph(glove_norm, 3, mode = 'connectivity')\n",
    "glove_knn_graph = glove_knn_graph.toarray()"
   ]
  },
  {
   "cell_type": "code",
   "execution_count": 20,
   "metadata": {},
   "outputs": [],
   "source": [
    "W = linalg.block_diag(cav_knn_graph, glove_knn_graph)"
   ]
  },
  {
   "cell_type": "markdown",
   "metadata": {},
   "source": [
    "Similarity matrix (Ws) encodes the samples belonging to the same class. In this research, there is a pairwise connections, every CAV only has a single match with a word embedding. This relation can be captured by the identity matrix. <br> The corresponding diagonal row sum matrix (Ds) results from summing Ws along the rows and converting the sums to a diagonal matrix.\n",
    "\n",
    "The dissimilarity matrix (Wd) encodes which samples do not belong to the same class. This is important to capture, otherwise every sample will end in the same location as this will capture the similarity between the samples. In this research it is assumed that every sample is dissimilar from every other sample except from itself."
   ]
  },
  {
   "cell_type": "code",
   "execution_count": 21,
   "metadata": {},
   "outputs": [
    {
     "data": {
      "text/plain": [
       "<matplotlib.image.AxesImage at 0x7fb71e151810>"
      ]
     },
     "execution_count": 21,
     "metadata": {},
     "output_type": "execute_result"
    },
    {
     "data": {
      "image/png": "[encoded data removed]",
      "text/plain": [
       "<Figure size 432x288 with 1 Axes>"
      ]
     },
     "metadata": {
      "needs_background": "light"
     },
     "output_type": "display_data"
    }
   ],
   "source": [
    "Ws = np.eye(n_samples)\n",
    "Ws = np.concatenate((Ws, Ws), axis = 1)\n",
    "Ws = np.concatenate((Ws, Ws), axis =0)\n",
    "Ws = Ws + np.eye(Ws.shape[0])\n",
    "\n",
    "plt.imshow(Ws)"
   ]
  },
  {
   "cell_type": "code",
   "execution_count": 22,
   "metadata": {},
   "outputs": [
    {
     "data": {
      "text/plain": [
       "<matplotlib.image.AxesImage at 0x7fb71e0c01d0>"
      ]
     },
     "execution_count": 22,
     "metadata": {},
     "output_type": "execute_result"
    },
    {
     "data": {
      "image/png": "[encoded data removed]",
      "text/plain": [
       "<Figure size 432x288 with 1 Axes>"
      ]
     },
     "metadata": {
      "needs_background": "light"
     },
     "output_type": "display_data"
    }
   ],
   "source": [
    "Wd = np.ones((n_samples, n_samples)) - np.eye(n_samples)\n",
    "Wd = np.concatenate((Wd, Wd), axis=1)\n",
    "Wd = np.concatenate((Wd, Wd), axis=0)\n",
    "Wd = Wd + np.eye(Wd.shape[0])\n",
    "\n",
    "plt.imshow(Wd)"
   ]
  },
  {
   "cell_type": "code",
   "execution_count": 23,
   "metadata": {},
   "outputs": [],
   "source": [
    "#WHY? --> normalize\n",
    "Sws = sum(sum(Ws))\n",
    "Swd = sum(sum(Wd))\n",
    "Sw = sum(sum(W))"
   ]
  },
  {
   "cell_type": "code",
   "execution_count": 24,
   "metadata": {},
   "outputs": [],
   "source": [
    "Ws = Ws / Sws * Sw\n",
    "Wd = Wd / Swd * Sw"
   ]
  },
  {
   "cell_type": "code",
   "execution_count": 25,
   "metadata": {},
   "outputs": [],
   "source": [
    "Dd = np.diag(np.sum(Wd, axis=1))\n",
    "Ds = np.diag(np.sum(Ws, axis = 1))\n",
    "D = np.diag(np.sum(W, axis=1))"
   ]
  },
  {
   "cell_type": "code",
   "execution_count": 26,
   "metadata": {},
   "outputs": [],
   "source": [
    "Ls = Ds - Ws # graph Laplacian of similarity \n",
    "Ld = Dd - Wd # Laplacian of dissimilarity\n",
    "\n",
    "L = D - W # Laplacian topology/geometry"
   ]
  },
  {
   "cell_type": "code",
   "execution_count": 27,
   "metadata": {},
   "outputs": [],
   "source": [
    "A = ((1 - MU) * L + MU * Ls) + LAMBDA * np.eye(Ls.shape[0])\n",
    "B = Ld"
   ]
  },
  {
   "cell_type": "code",
   "execution_count": 28,
   "metadata": {},
   "outputs": [
    {
     "data": {
      "text/plain": [
       "(746, 746)"
      ]
     },
     "execution_count": 28,
     "metadata": {},
     "output_type": "execute_result"
    }
   ],
   "source": [
    "A.shape"
   ]
  },
  {
   "cell_type": "code",
   "execution_count": 29,
   "metadata": {},
   "outputs": [],
   "source": [
    "kernel_cav = np.matmul(cavs_norm_col.T, cavs_norm_col)\n",
    "kernel_glove = np.matmul(glove_norm_col.T, glove_norm_col)"
   ]
  },
  {
   "cell_type": "code",
   "execution_count": 30,
   "metadata": {},
   "outputs": [],
   "source": [
    "K = linalg.block_diag(kernel_cav, kernel_glove)\n",
    "X = linalg.block_diag(cavs_norm_col, glove_norm_col)"
   ]
  },
  {
   "cell_type": "code",
   "execution_count": 31,
   "metadata": {},
   "outputs": [],
   "source": [
    "KA = np.matmul(K,A)\n",
    "KB = np.matmul(K,B)\n",
    "\n",
    "KAK = np.matmul(KA, K)\n",
    "KBK = np.matmul(KB, K)"
   ]
  },
  {
   "cell_type": "code",
   "execution_count": 32,
   "metadata": {},
   "outputs": [],
   "source": [
    "XA = np.matmul(X, A)\n",
    "XB = np.matmul(X, B)\n",
    "\n",
    "XAX = np.matmul(XA, X.T)\n",
    "XBX = np.matmul(XB, X.T)"
   ]
  },
  {
   "cell_type": "code",
   "execution_count": 33,
   "metadata": {},
   "outputs": [],
   "source": [
    "# using formula from the article\n",
    "Z = linalg.block_diag(cavs_norm_col, glove_norm_col)\n",
    "\n",
    "a = np.matmul(Z, (MU*L+Ls))\n",
    "a = np.matmul(a, Z.T)\n",
    "\n",
    "b = np.matmul(Z, Ld)\n",
    "b = np.matmul(b, Z.T)"
   ]
  },
  {
   "cell_type": "code",
   "execution_count": 34,
   "metadata": {},
   "outputs": [],
   "source": [
    "eigenvals, eigenvecs = linalg.eig(XAX, XBX)"
   ]
  },
  {
   "cell_type": "code",
   "execution_count": 35,
   "metadata": {},
   "outputs": [],
   "source": [
    "eigenvecs = eigenvecs.real\n",
    "eigenvals = eigenvals.real"
   ]
  },
  {
   "cell_type": "code",
   "execution_count": 37,
   "metadata": {},
   "outputs": [],
   "source": [
    "eigenvecs = eigenvecs * np.sign(eigenvals)[None,:]\n",
    "eigenvals = np.abs(eigenvals)\n",
    "eigenvecs_sorted = eigenvecs[:, eigenvals.argsort()[::-1]]"
   ]
  },
  {
   "cell_type": "code",
   "execution_count": 61,
   "metadata": {},
   "outputs": [
    {
     "data": {
      "text/plain": [
       "array([0.02404302, 0.08552849, 0.09047384, ...,        inf,        inf,\n",
       "              inf])"
      ]
     },
     "execution_count": 61,
     "metadata": {},
     "output_type": "execute_result"
    }
   ],
   "source": [
    "eigenvals[eigenvals.argsort()][::1]"
   ]
  },
  {
   "cell_type": "code",
   "execution_count": 54,
   "metadata": {},
   "outputs": [
    {
     "data": {
      "text/plain": [
       "<matplotlib.image.AxesImage at 0x7fb71df05f10>"
      ]
     },
     "execution_count": 54,
     "metadata": {},
     "output_type": "execute_result"
    },
    {
     "data": {
      "image/png": "[encoded data removed]",
      "text/plain": [
       "<Figure size 432x288 with 1 Axes>"
      ]
     },
     "metadata": {
      "needs_background": "light"
     },
     "output_type": "display_data"
    }
   ],
   "source": [
    "plt.imshow(eigenvecs)"
   ]
  },
  {
   "cell_type": "code",
   "execution_count": 40,
   "metadata": {},
   "outputs": [],
   "source": [
    "cav_eigenvecs = eigenvecs_sorted[:2048, :]\n",
    "glove_eigenvecs = eigenvecs_sorted[2048:, :]"
   ]
  },
  {
   "cell_type": "code",
   "execution_count": 41,
   "metadata": {},
   "outputs": [
    {
     "data": {
      "text/plain": [
       "False"
      ]
     },
     "execution_count": 41,
     "metadata": {},
     "output_type": "execute_result"
    }
   ],
   "source": [
    "np.array_equal(cav_eigenvecs[:,1], cav_eigenvecs[:,0])"
   ]
  },
  {
   "cell_type": "code",
   "execution_count": 42,
   "metadata": {},
   "outputs": [
    {
     "data": {
      "text/plain": [
       "(2048, 2348)"
      ]
     },
     "execution_count": 42,
     "metadata": {},
     "output_type": "execute_result"
    }
   ],
   "source": [
    "cav_eigenvecs.shape"
   ]
  },
  {
   "cell_type": "code",
   "execution_count": 43,
   "metadata": {},
   "outputs": [],
   "source": [
    "cavs_transformed = np.dot(cav_eigenvecs[:, :2].T, cavs_norm_col)\n",
    "glove_transformed = np.dot(glove_eigenvecs[:, :2].T, glove_norm_col)"
   ]
  },
  {
   "cell_type": "code",
   "execution_count": 45,
   "metadata": {},
   "outputs": [
    {
     "data": {
      "image/png": "[encoded data removed]",
      "text/plain": [
       "<Figure size 360x360 with 1 Axes>"
      ]
     },
     "metadata": {
      "needs_background": "light"
     },
     "output_type": "display_data"
    }
   ],
   "source": [
    "plt.figure(figsize=(5,5))\n",
    "plt.scatter(cavs_transformed[0,:10], cavs_transformed[1,:10], label = 'CAV')\n",
    "#plt.scatter(glove_transformed[0,:10], glove_transformed[1,:10], label = 'GloVe', alpha = 0.5)\n",
    "\n",
    "# for i, txt in enumerate(embedding_concepts[:10]):\n",
    "#     plt.annotate(str(txt), (cavs_transformed[0,:][i], cavs_transformed[1,:][i]))\n",
    "#     plt.annotate(str(txt), (glove_transformed[0,:][i], glove_transformed[1,:][i]))\n",
    "    \n",
    "plt.legend()\n",
    "plt.show()"
   ]
  },
  {
   "cell_type": "code",
   "execution_count": 262,
   "metadata": {},
   "outputs": [
    {
     "data": {
      "text/plain": [
       "array([[-1.58380253e-15, -6.42281367e-16],\n",
       "       [-1.60765498e-15, -5.97178557e-16]])"
      ]
     },
     "execution_count": 262,
     "metadata": {},
     "output_type": "execute_result"
    }
   ],
   "source": [
    "cavs_transformed[:,:2]"
   ]
  },
  {
   "cell_type": "code",
   "execution_count": null,
   "metadata": {},
   "outputs": [],
   "source": []
  },
  {
   "cell_type": "code",
   "execution_count": null,
   "metadata": {},
   "outputs": [],
   "source": []
  },
  {
   "cell_type": "code",
   "execution_count": null,
   "metadata": {},
   "outputs": [],
   "source": []
  },
  {
   "cell_type": "code",
   "execution_count": null,
   "metadata": {},
   "outputs": [],
   "source": []
  },
  {
   "cell_type": "code",
   "execution_count": null,
   "metadata": {},
   "outputs": [],
   "source": []
  },
  {
   "cell_type": "code",
   "execution_count": null,
   "metadata": {},
   "outputs": [],
   "source": []
  },
  {
   "cell_type": "code",
   "execution_count": null,
   "metadata": {},
   "outputs": [],
   "source": []
  },
  {
   "cell_type": "markdown",
   "metadata": {},
   "source": [
    "## Transform the data using CCA"
   ]
  },
  {
   "cell_type": "code",
   "execution_count": null,
   "metadata": {},
   "outputs": [],
   "source": [
    "cav_glove_concepts = [c for c in cavs_broden.keys() if c in embedding_dict.keys()]"
   ]
  },
  {
   "cell_type": "code",
   "execution_count": null,
   "metadata": {},
   "outputs": [],
   "source": [
    "matrix_cav = np.zeros((len(cav_glove_concepts), 2048))\n",
    "matrix_glove = np.zeros((len(cav_glove_concepts), 300))\n",
    "\n",
    "for t in range(len(cav_glove_concepts)):\n",
    "    matrix_cav[t] = cavs_broden[cav_glove_concepts[t]]['cav'].reshape(1,-1)\n",
    "    matrix_glove[t] = embedding_dict[cav_glove_concepts[t]].reshape(1,-1)"
   ]
  },
  {
   "cell_type": "code",
   "execution_count": null,
   "metadata": {},
   "outputs": [],
   "source": [
    "matrix_cav.shape"
   ]
  },
  {
   "cell_type": "code",
   "execution_count": null,
   "metadata": {},
   "outputs": [],
   "source": [
    "n_concepts = 20\n",
    "ccat = CCA(n_components = 2, scale=True, max_iter = 10000, tol=1e-06)\n",
    "\n",
    "xca, yca = ccat.fit_transform(matrix_glove[:n_concepts], matrix_cav[:n_concepts])\n",
    "xc = scale(xca)\n",
    "yc = scale(yca)\n",
    "\n",
    "test_glove = matrix_glove[n_concepts + 1].reshape(1,-1)\n",
    "test_cav = matrix_cav[n_concepts + 1].reshape(1,-1)\n",
    "gc, cc = ccat.transform(test_glove, test_cav)\n",
    "\n",
    "gc = (gc - xca.mean(axis=0)) / xca.std(axis = 0)\n",
    "cc = (cc - yca.mean(axis=0)) / yca.std(axis = 0)"
   ]
  },
  {
   "cell_type": "code",
   "execution_count": null,
   "metadata": {},
   "outputs": [],
   "source": [
    "print(yca.std(axis=0))\n",
    "print(xca.std(axis=0))"
   ]
  },
  {
   "cell_type": "code",
   "execution_count": null,
   "metadata": {},
   "outputs": [],
   "source": [
    "ccat.x_std_.shape"
   ]
  },
  {
   "cell_type": "code",
   "execution_count": null,
   "metadata": {},
   "outputs": [],
   "source": [
    "ccat"
   ]
  },
  {
   "cell_type": "code",
   "execution_count": null,
   "metadata": {},
   "outputs": [],
   "source": [
    "plt.figure(figsize=(6,6))\n",
    "plt.scatter(xc[:,0], xc[:,1], label = 'GloVe')\n",
    "plt.scatter(yc[:,0], yc[:,1], label = 'CAV', alpha = 0.5)\n",
    "plt.scatter(gc[:,0], gc[:,1], label = 'GloVe LOO')\n",
    "plt.scatter(cc[:,0], cc[:,1], label = 'CAV LOO')\n",
    "\n",
    "for i, txt in enumerate(cav_glove_concepts[:n_concepts]):\n",
    "    plt.annotate(str(txt), (xc[:,0][i], xc[:,1][i]))\n",
    "    plt.annotate(str(txt), (yc[:,0][i], yc[:,1][i]))\n",
    "\n",
    "plt.legend()\n",
    "plt.show()"
   ]
  },
  {
   "cell_type": "markdown",
   "metadata": {},
   "source": [
    "### Some more testing -- CCA doesn't seem to work"
   ]
  },
  {
   "cell_type": "code",
   "execution_count": null,
   "metadata": {},
   "outputs": [],
   "source": [
    "n_concepts = 160\n",
    "test_concepts = embedding_concepts[:n_concepts]\n",
    "\n",
    "test_embeddings = embeddings_with_cav[:n_concepts]\n",
    "test_cavs = cavs_with_embedding[:n_concepts]\n",
    "\n",
    "pca_t = PCA(n_components=10)\n",
    "\n",
    "emb_pca = pca_t.fit_transform(test_embeddings)\n",
    "cav_pca = pca_t.fit_transform(test_cavs)"
   ]
  },
  {
   "cell_type": "markdown",
   "metadata": {},
   "source": [
    "Initialize a canonical correlation model"
   ]
  },
  {
   "cell_type": "code",
   "execution_count": null,
   "metadata": {},
   "outputs": [],
   "source": [
    "n_dimensions = 2\n",
    "cca_t = CCA(n_components = n_dimensions, scale = True, max_iter = 10000, tol=1e-06)"
   ]
  },
  {
   "cell_type": "code",
   "execution_count": null,
   "metadata": {},
   "outputs": [],
   "source": [
    "cca_t.fit(test_embeddings, test_cavs)"
   ]
  },
  {
   "cell_type": "markdown",
   "metadata": {},
   "source": [
    "The transform function of the CCA does not seem to work properly as the data is not scaled. Therefore, the data is manually transformed by applying the dot product of the fitted weights and the input data after which it is scaled."
   ]
  },
  {
   "cell_type": "code",
   "execution_count": null,
   "metadata": {},
   "outputs": [],
   "source": [
    "test_emb_c, test_cavs_c = cca_t.transform(test_embeddings, test_cavs)\n",
    "\n",
    "test_emb_cs = scale(test_emb_c)\n",
    "test_cavs_cs = scale(test_cavs_c)"
   ]
  },
  {
   "cell_type": "code",
   "execution_count": null,
   "metadata": {},
   "outputs": [],
   "source": [
    "x_loo = embeddings_with_cav[21].reshape(1,-1)\n",
    "y_loo = cavs_with_embedding[21].reshape(1,-1)\n",
    "\n",
    "x_loo_c = (x_loo - test_embeddings.mean(axis=0)) / test_embeddings.std(axis = 0, ddof = 1)\n",
    "x_loo_c = np.dot(x_loo_c, cca_t.x_rotations_)\n",
    "x_loo_c = (x_loo_c - test_emb_c.mean(axis = 0) / test_emb_c.std(axis = 0))\n",
    "\n",
    "y_loo_c = (y_loo - test_cavs.mean(axis=0)) / test_cavs.std(axis = 0, ddof = 1)\n",
    "y_loo_c = np.dot(y_loo_c, cca_t.y_rotations_)\n",
    "y_loo_c = (y_loo_c - test_cavs_c.mean(axis=0) / test_cavs_c.std(axis = 0))"
   ]
  },
  {
   "cell_type": "code",
   "execution_count": null,
   "metadata": {},
   "outputs": [],
   "source": [
    "plt.figure(figsize=(8,8))\n",
    "plt.scatter(test_emb_cs[:,0], test_emb_cs[:,1], label='GloVe', alpha = 1)\n",
    "plt.scatter(test_cavs_cs[:,0], test_cavs_cs[:,1], label='CAV', alpha = 0.5)\n",
    "\n",
    "#plt.scatter(test_emb_c[n_concepts-1,0], test_emb_c[n_concepts - 1, 1], label='GloVe LOO')\n",
    "#plt.scatter(test_cavs_c[n_concepts-1,0], test_cavs_c[n_concepts - 1, 1], label = 'CAV LOO')\n",
    "plt.scatter(x_loo_c[:,0], x_loo_c[:,1], label = 'X LOO')\n",
    "plt.scatter(y_loo_c[:,0], y_loo_c[:,1], label = 'Y LOO')\n",
    "\n",
    "for i, txt in enumerate(test_concepts):\n",
    "    plt.annotate(str(txt), (test_emb_cs[:,0][i], test_emb_cs[:,1][i]))\n",
    "    plt.annotate(str(txt), (test_cavs_cs[:,0][i], test_cavs_cs[:,1][i]))\n",
    "\n",
    "\n",
    "plt.legend()\n",
    "plt.show()"
   ]
  },
  {
   "cell_type": "markdown",
   "metadata": {},
   "source": [
    "## Perform Leave-One-Out cross validation"
   ]
  },
  {
   "cell_type": "code",
   "execution_count": null,
   "metadata": {},
   "outputs": [],
   "source": [
    "num_concepts = 50\n",
    "n_dim_cca = 20\n",
    "n_comp_glove_pca = 25\n",
    "n_comp_cav_pca= 50\n",
    "num_iter = 1\n",
    "plot=False"
   ]
  },
  {
   "cell_type": "markdown",
   "metadata": {},
   "source": [
    "Select the first amount of concepts"
   ]
  },
  {
   "cell_type": "code",
   "execution_count": null,
   "metadata": {},
   "outputs": [],
   "source": [
    "glove_vectors = embeddings_with_cav[:num_concepts]\n",
    "cav_vectors = cavs_with_embedding[:num_concepts]"
   ]
  },
  {
   "cell_type": "markdown",
   "metadata": {},
   "source": [
    "Reduce the dimensions of the vectors by applying PCA"
   ]
  },
  {
   "cell_type": "code",
   "execution_count": null,
   "metadata": {},
   "outputs": [],
   "source": [
    "pca_glove = PCA(n_components = 25)\n",
    "pca_cav = PCA(n_components = 50)\n",
    "\n",
    "glove_pca_concepts = pca_glove.fit_transform(glove_vectors)\n",
    "cav_pca_concepts = pca_cav.fit_transform(cav_vectors)"
   ]
  },
  {
   "cell_type": "markdown",
   "metadata": {},
   "source": [
    "Apply CCA to map the embeddings and CAVs to a latent feature space"
   ]
  },
  {
   "cell_type": "code",
   "execution_count": null,
   "metadata": {},
   "outputs": [],
   "source": [
    "cca = CCA(n_components = 2, scale = True, max_iter = 10000)\n",
    "\n",
    "glove_cca, cav_cca = cca.fit_transform(glove_pca_concepts, cav_pca_concepts)\n",
    "\n",
    "glove_ccas = scale(glove_cca)\n",
    "cav_ccas = scale(cav_cca)"
   ]
  },
  {
   "cell_type": "code",
   "execution_count": null,
   "metadata": {},
   "outputs": [],
   "source": [
    "plt.figure(figsize=(4,4))\n",
    "plt.scatter(glove_ccas[:50,0], glove_ccas[:50,1], label='GloVe')\n",
    "plt.scatter(cav_ccas[:50,0], cav_ccas[:50,1], label='CAVs', alpha = 0.5)\n",
    "\n",
    "plt.legend()\n",
    "\n",
    "# for i, txt in enumerate(embedding_concepts[:num_concepts]):\n",
    "#     plt.annotate(str(txt), (glove_m[:,0][i], glove_m[:,1][i]))\n",
    "#     plt.annotate(str(txt), (cav_m[:,0][i], cav_m[:,1][i]))\n",
    "\n",
    "plt.show()"
   ]
  },
  {
   "cell_type": "markdown",
   "metadata": {},
   "source": [
    "Choose a new concept and extract the vectors"
   ]
  },
  {
   "cell_type": "code",
   "execution_count": null,
   "metadata": {},
   "outputs": [],
   "source": [
    "glove_test_concept = embeddings_with_cav[num_concepts+1].reshape(1,-1)\n",
    "cav_test_concept = cavs_with_embedding[num_concepts+1].reshape(1,-1)"
   ]
  },
  {
   "cell_type": "code",
   "execution_count": null,
   "metadata": {},
   "outputs": [],
   "source": [
    "glove_test_pca = pca_glove.transform(glove_test_concept)\n",
    "cav_test_pca = pca_cav.transform(cav_test_concept)\n",
    "\n",
    "glove_test_cca, cav_test_cca = cca.transform(glove_test_pca, cav_test_pca)\n",
    "\n",
    "glove_test_ccas = (glove_test_cca - glove_cca.mean(axis=0)) / glove_cca.std(axis = 0)\n",
    "cav_test_ccas = (cav_test_cca - cav_cca.mean(axis=0)) / cav_cca.std(axis = 0)"
   ]
  },
  {
   "cell_type": "code",
   "execution_count": null,
   "metadata": {},
   "outputs": [],
   "source": [
    "cav_test_pca.shape"
   ]
  },
  {
   "cell_type": "code",
   "execution_count": null,
   "metadata": {},
   "outputs": [],
   "source": [
    "plt.figure(figsize=(4,4))\n",
    "plt.scatter(glove_ccas[:50,0], glove_ccas[:50,1], label='GloVe')\n",
    "plt.scatter(cav_ccas[:50,0], cav_ccas[:50,1], label='CAVs', alpha = 0.5)\n",
    "plt.scatter(glove_test_ccas[:,0], glove_test_ccas[:,1], label='LOO GloVe')\n",
    "plt.scatter(cav_test_ccas[:,0], cav_test_ccas[:,1], label = 'LOO CAV')\n",
    "plt.legend()\n",
    "\n",
    "# for i, txt in enumerate(embedding_concepts[:num_concepts]):\n",
    "#     plt.annotate(str(txt), (glove_m[:,0][i], glove_m[:,1][i]))\n",
    "#     plt.annotate(str(txt), (cav_m[:,0][i], cav_m[:,1][i]))\n",
    "\n",
    "plt.show()"
   ]
  },
  {
   "cell_type": "code",
   "execution_count": null,
   "metadata": {},
   "outputs": [],
   "source": []
  }
 ],
 "metadata": {
  "kernelspec": {
   "display_name": "Python 3",
   "language": "python",
   "name": "python3"
  },
  "language_info": {
   "codemirror_mode": {
    "name": "ipython",
    "version": 3
   },
   "file_extension": ".py",
   "mimetype": "text/x-python",
   "name": "python",
   "nbconvert_exporter": "python",
   "pygments_lexer": "ipython3",
   "version": "3.7.5"
  }
 },
 "nbformat": 4,
 "nbformat_minor": 2
}
