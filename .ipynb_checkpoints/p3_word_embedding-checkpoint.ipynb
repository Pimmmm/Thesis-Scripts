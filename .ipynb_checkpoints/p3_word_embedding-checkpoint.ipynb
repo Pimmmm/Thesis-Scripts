{
 "cells": [
  {
   "cell_type": "code",
   "execution_count": 1,
   "metadata": {},
   "outputs": [],
   "source": [
    "import os\n",
    "import pickle\n",
    "import numpy as np\n",
    "import matplotlib.pyplot as plt\n",
    "import heapq\n",
    "import random\n",
    "\n",
    "from tqdm.notebook import tqdm\n",
    "from sklearn.model_selection import train_test_split\n",
    "from sklearn.cross_decomposition import CCA\n",
    "from sklearn.metrics.pairwise import cosine_similarity\n",
    "from sklearn.manifold import TSNE\n",
    "from sklearn.preprocessing import normalize, scale, StandardScaler"
   ]
  },
  {
   "cell_type": "code",
   "execution_count": 2,
   "metadata": {},
   "outputs": [],
   "source": [
    "GLOVE_PATH = '/mnt/guanabana/raid/data/datasets/GloVe/pretrained/glove.6B.300d.txt'\n",
    "CAVS_PATH = '../data/filtered_broden_cavs.pickle'\n",
    "EMBEDDING_PATH = '../data/word_embedding_6B_300D.pickle'"
   ]
  },
  {
   "cell_type": "markdown",
   "metadata": {},
   "source": [
    "Read the concept activation vectors from the Broden dataset as a dictionary"
   ]
  },
  {
   "cell_type": "code",
   "execution_count": 3,
   "metadata": {},
   "outputs": [],
   "source": [
    "with open(CAVS_PATH, 'rb') as handle:\n",
    "        cavs_broden = pickle.load(handle)"
   ]
  },
  {
   "cell_type": "markdown",
   "metadata": {},
   "source": [
    "Extract the word embeddings from the GloVe dataset. The word embeddings are stored in a dictionary, with the word as key and vector as value, and in a matrix (400 000 x 300). The dataset contains about 400K words."
   ]
  },
  {
   "cell_type": "code",
   "execution_count": 4,
   "metadata": {},
   "outputs": [],
   "source": [
    "if os.path.exists(EMBEDDING_PATH):\n",
    "    with open(EMBEDDING_PATH, 'rb') as handle:\n",
    "        embedding_dict = pickle.load(handle)\n",
    "\n",
    "    glove_embedding_matrix = np.load('../data/glove_embedding_matrix.npy')\n",
    "else:\n",
    "    embedding_dict = {}\n",
    "    glove_embedding_matrix = np.asarray(range(300)).reshape(1,-1)\n",
    "\n",
    "    with open(GLOVE_PATH, 'r', encoding=\"utf-8\") as f:\n",
    "        for line in tqdm(f):\n",
    "            \n",
    "            values = line.split()\n",
    "            word = values[0]\n",
    "            vector = np.asarray(values[1:], 'float32')\n",
    "            embedding_dict[word] = vector\n",
    "\n",
    "            glove_embedding_matrix = np.append(glove_embedding_matrix, vector.reshape(1,-1),0)\n",
    "                        \n",
    "    with open(EMBEDDING_PATH, 'wb') as handle:\n",
    "        pickle.dump(embedding_dict, handle, protocol=pickle.HIGHEST_PROTOCOL)\n",
    "    \n",
    "    glove_embedding_matrix = glove_embedding_matrix[1:]   \n",
    "    np.save('../data/glove_embedding_matrix.npy', glove_embedding_matrix)"
   ]
  },
  {
   "cell_type": "markdown",
   "metadata": {},
   "source": [
    "Select the concepts from the Broden dataset, which are also available as word embedding. Several concepts in the Broden dataset end with _'-s'_. This is removed to get more concepts linked with an embedding. "
   ]
  },
  {
   "cell_type": "code",
   "execution_count": 5,
   "metadata": {},
   "outputs": [],
   "source": [
    "concepts = list(cavs_broden.keys())\n",
    "\n",
    "# create a matrix of all cavs\n",
    "cav_matrix = cavs_broden[concepts[0]]['cav']\n",
    "for i in range(1, len(concepts)):\n",
    "    cav = cavs_broden[concepts[i]]['cav']\n",
    "    cav_matrix = np.concatenate((cav_matrix, cav), 0)"
   ]
  },
  {
   "cell_type": "code",
   "execution_count": 6,
   "metadata": {},
   "outputs": [
    {
     "data": {
      "text/plain": [
       "(722, 2048)"
      ]
     },
     "execution_count": 6,
     "metadata": {},
     "output_type": "execute_result"
    }
   ],
   "source": [
    "cav_matrix.shape"
   ]
  },
  {
   "cell_type": "markdown",
   "metadata": {},
   "source": [
    "Remove the '-s' from the _scene_ concepts and store the matching cavs with the word embeddings. The index is stored to remove the unavailable concepts from the CAV matrix"
   ]
  },
  {
   "cell_type": "code",
   "execution_count": 7,
   "metadata": {},
   "outputs": [],
   "source": [
    "concepts = [c[:-2] if c[-2:] == '-s' else c for c in concepts]\n",
    "concepts = list(set(concepts))\n",
    "\n",
    "embedding_concepts = [(idx, c) for idx, c in enumerate(concepts) if c in embedding_dict.keys()]\n",
    "\n",
    "# store the indices of concepts which are present in both datasets\n",
    "embedding_idxs = [ix for ix, n in embedding_concepts]"
   ]
  },
  {
   "cell_type": "code",
   "execution_count": 8,
   "metadata": {},
   "outputs": [
    {
     "name": "stdout",
     "output_type": "stream",
     "text": [
      "The amount of CAVs with a corresponding word embedding:  418\n"
     ]
    }
   ],
   "source": [
    "print(\"The amount of CAVs with a corresponding word embedding: \", len(embedding_idxs))"
   ]
  },
  {
   "cell_type": "code",
   "execution_count": 9,
   "metadata": {},
   "outputs": [],
   "source": [
    "cavs_with_embedding = cav_matrix[embedding_idxs]"
   ]
  },
  {
   "cell_type": "code",
   "execution_count": 10,
   "metadata": {},
   "outputs": [
    {
     "data": {
      "text/plain": [
       "(418, 2048)"
      ]
     },
     "execution_count": 10,
     "metadata": {},
     "output_type": "execute_result"
    }
   ],
   "source": [
    "cavs_with_embedding.shape"
   ]
  },
  {
   "cell_type": "markdown",
   "metadata": {},
   "source": [
    "Create a matrix of the word embeddings for the concepts which also have a CAV."
   ]
  },
  {
   "cell_type": "code",
   "execution_count": 11,
   "metadata": {},
   "outputs": [],
   "source": [
    "emb_with_cav = embedding_dict[embedding_concepts[0][1]].reshape(1,-1) #reshape the vector to a single row vector\n",
    "for i in range(1, len(embedding_concepts)):\n",
    "    word_vec = embedding_dict[embedding_concepts[i][1]].reshape(1,-1)\n",
    "    emb_with_cav = np.concatenate((emb_with_cav, word_vec))"
   ]
  },
  {
   "cell_type": "code",
   "execution_count": 12,
   "metadata": {},
   "outputs": [
    {
     "data": {
      "text/plain": [
       "(418, 300)"
      ]
     },
     "execution_count": 12,
     "metadata": {},
     "output_type": "execute_result"
    }
   ],
   "source": [
    "emb_with_cav.shape"
   ]
  },
  {
   "cell_type": "code",
   "execution_count": 13,
   "metadata": {},
   "outputs": [],
   "source": [
    "indices = list(range(len(emb_with_cav)))"
   ]
  },
  {
   "cell_type": "code",
   "execution_count": 14,
   "metadata": {},
   "outputs": [],
   "source": [
    "test_idxs = np.asarray(random.sample(indices, 42))"
   ]
  },
  {
   "cell_type": "markdown",
   "metadata": {},
   "source": [
    "Divide the matrices into train and test data with a 10% split"
   ]
  },
  {
   "cell_type": "code",
   "execution_count": 15,
   "metadata": {},
   "outputs": [],
   "source": [
    "# use the GloVe word embeddings as input data\n",
    "X_train = np.delete(emb_with_cav, test_idxs, axis=0)\n",
    "X_test = emb_with_cav[test_idxs]\n",
    "    \n",
    "# use the CAVs as 'labels' for the word embedding\n",
    "y_train = np.delete(cavs_with_embedding, test_idxs, axis=0)\n",
    "y_test = cavs_with_embedding[test_idxs]"
   ]
  },
  {
   "cell_type": "markdown",
   "metadata": {},
   "source": [
    "Initialize a canonical correlation model"
   ]
  },
  {
   "cell_type": "code",
   "execution_count": null,
   "metadata": {},
   "outputs": [],
   "source": [
    "# test_concepts = concepts[:10]\n",
    "\n",
    "# test_cav_matrix = cavs_with_embedding[:10]\n",
    "# test_glove_matrix = emb_with_cav[:10]"
   ]
  },
  {
   "cell_type": "code",
   "execution_count": 17,
   "metadata": {},
   "outputs": [],
   "source": [
    "n_dimensions = 2\n",
    "cca = CCA(n_components = n_dimensions, scale = True, max_iter = 10000, tol=1e-06)"
   ]
  },
  {
   "cell_type": "code",
   "execution_count": 18,
   "metadata": {},
   "outputs": [
    {
     "data": {
      "text/plain": [
       "CCA(copy=True, max_iter=10000, n_components=2, scale=True, tol=1e-06)"
      ]
     },
     "execution_count": 18,
     "metadata": {},
     "output_type": "execute_result"
    }
   ],
   "source": [
    "cca.fit(X_train, y_train)"
   ]
  },
  {
   "cell_type": "code",
   "execution_count": 24,
   "metadata": {},
   "outputs": [],
   "source": [
    "#X_train_c, y_train_c = cca.transform(test_cav_matrix, test_glove_matrix)\n",
    "X_train_c = np.dot(X_train, cca.x_weights_)\n",
    "y_train_c = np.dot(y_train, cca.y_weights_)\n",
    "\n",
    "x_scaler = StandardScaler()\n",
    "y_scaler = StandardScaler()\n",
    "\n",
    "X_train_c = x_scaler.fit_transform(X_train_c)\n",
    "y_train_c = y_scaler.fit_transform(y_train_c)"
   ]
  },
  {
   "cell_type": "code",
   "execution_count": 23,
   "metadata": {},
   "outputs": [
    {
     "data": {
      "text/plain": [
       "<matplotlib.legend.Legend at 0x7f4ba20d8050>"
      ]
     },
     "execution_count": 23,
     "metadata": {},
     "output_type": "execute_result"
    },
    {
     "data": {
      "image/png": "[encoded data removed]",
      "text/plain": [
       "<Figure size 432x288 with 1 Axes>"
      ]
     },
     "metadata": {
      "needs_background": "light"
     },
     "output_type": "display_data"
    }
   ],
   "source": [
    "labels = concepts[:100]\n",
    "\n",
    "plt.scatter(y_train_c[:,0], y_train_c[:,1], label='CAV')\n",
    "plt.scatter(X_train_c[:,0], X_train_c[:,1], label='GloVe')\n",
    "\n",
    "plt.legend()\n",
    "\n",
    "# for i, txt in enumerate(concepts):\n",
    "#     plt.annotate(str(txt), (X_train_c[:,0][i], X_train_c[:,1][i]))\n",
    "#     plt.annotate(str(txt), (y_train_c[:,0][i], y_train_c[:,1][i]))"
   ]
  },
  {
   "cell_type": "code",
   "execution_count": 33,
   "metadata": {},
   "outputs": [],
   "source": [
    "X_test_c = np.dot(X_test, cca.x_weights_)\n",
    "y_test_c = np.dot(y_test, cca.y_weights_)\n",
    "\n",
    "X_test_c = x_scaler.fit_transform(X_test_c)\n",
    "y_test_c = y_scaler.fit_transform(y_test_c)"
   ]
  },
  {
   "cell_type": "code",
   "execution_count": 36,
   "metadata": {},
   "outputs": [
    {
     "data": {
      "text/plain": [
       "array([[-3.39695793e-01, -1.84420454e-01,  7.96136808e-01,\n",
       "         9.95357192e-01, -9.61620146e-01,  3.41081365e-01,\n",
       "        -4.37745614e-01,  7.30601324e-01, -9.08344867e-02,\n",
       "        -9.95363678e-01, -1.85764757e-01,  4.47808542e-01,\n",
       "         5.85063453e-01,  3.22241377e-01, -7.80395397e-01,\n",
       "        -6.57155676e-01, -8.15484109e-02, -9.33642043e-01,\n",
       "         7.54067998e-01,  7.42405912e-01, -7.13717593e-02,\n",
       "         4.98028735e-01,  5.67120474e-01, -9.73338160e-01,\n",
       "         6.78038235e-01, -8.74821863e-01, -4.36562004e-01,\n",
       "         9.92812486e-01,  8.89641149e-02,  1.41306485e-01,\n",
       "        -7.18159146e-01, -8.12332116e-01, -7.59865817e-01,\n",
       "         9.48149019e-01, -7.93700971e-01,  9.04198852e-01,\n",
       "        -8.19538313e-01, -1.35509863e-01,  9.78068565e-01,\n",
       "        -5.87151003e-01,  6.53387657e-01, -7.47930995e-01,\n",
       "        -6.11571658e-01, -6.12632506e-01,  9.94020483e-01,\n",
       "        -9.73011893e-01, -7.97059465e-01,  1.45311976e-01,\n",
       "        -5.53892990e-01,  8.17605739e-01, -6.53414179e-01,\n",
       "        -5.73106162e-01,  9.12307854e-01, -3.34785825e-01,\n",
       "        -3.51476459e-01,  2.01727782e-01, -8.13471053e-01,\n",
       "         9.64642316e-01, -9.47636391e-01,  5.22375203e-01,\n",
       "         9.94966206e-01, -9.30410590e-01, -9.82016408e-01,\n",
       "         2.49554924e-01,  9.67172710e-01,  9.99962163e-01,\n",
       "        -8.82575804e-01,  4.13082904e-01, -1.74908411e-01,\n",
       "        -8.27518869e-01, -8.77932919e-01, -4.17955264e-02,\n",
       "        -9.74055160e-01,  4.99418302e-01, -4.51759175e-01,\n",
       "         9.35034135e-01,  8.66898247e-01, -6.23663943e-01,\n",
       "         9.95670873e-01,  9.06413430e-01,  9.32751388e-01,\n",
       "        -2.83614844e-01,  4.15588754e-01,  9.88204113e-01,\n",
       "        -2.58103427e-02,  3.59235821e-01, -7.87665570e-01,\n",
       "         9.83813275e-01, -4.90964757e-01,  2.52418373e-01,\n",
       "        -9.67463492e-01, -2.14079554e-01, -7.97966494e-01,\n",
       "         5.18924570e-01,  6.76555446e-01, -5.13852379e-01,\n",
       "         3.95402117e-01, -6.73409675e-01,  9.56525979e-01,\n",
       "         8.64130490e-01, -9.40412941e-01,  9.99676176e-01,\n",
       "         3.86910123e-01, -4.73157260e-01, -9.63873934e-01,\n",
       "         2.14063268e-01, -1.23935446e-01, -7.87852851e-01,\n",
       "        -6.78046147e-01,  9.87332308e-01,  4.70033345e-01,\n",
       "         1.03437617e-01, -3.48638418e-01,  7.90703770e-01,\n",
       "         3.64005807e-01,  7.71329847e-01,  9.83645251e-01,\n",
       "        -9.02672287e-01,  4.90143975e-02, -8.05690337e-01,\n",
       "         4.63397681e-01, -8.88952786e-01,  8.96718735e-01,\n",
       "         8.27446059e-01, -9.23193997e-01, -3.80666618e-01,\n",
       "        -9.83532504e-01, -3.96616737e-01, -9.88892499e-01,\n",
       "        -9.88043472e-01,  9.88922444e-01,  4.46927628e-01,\n",
       "        -9.99962490e-01,  9.89496568e-01,  7.76173502e-01,\n",
       "        -2.31564887e-01, -9.81143734e-01,  4.69977096e-01,\n",
       "        -9.28698506e-01, -9.98096822e-01,  2.26292237e-01,\n",
       "         8.92157219e-01,  4.92304759e-01,  6.04110519e-01,\n",
       "        -8.96362519e-01, -9.88772971e-01,  2.94708985e-01,\n",
       "        -5.27508690e-01, -6.07967605e-02,  5.57740863e-01,\n",
       "         6.27483908e-01,  9.53718884e-01, -9.98517566e-01,\n",
       "         9.96378391e-01,  8.07805291e-01,  2.67674792e-01,\n",
       "        -9.99988960e-01, -1.49267109e-01,  4.48914707e-01,\n",
       "        -5.24089404e-01, -6.44831244e-01,  7.93630372e-01,\n",
       "        -1.90956599e-01,  2.77543927e-01, -4.82971634e-01,\n",
       "         9.51661656e-01,  3.14432246e-01, -3.58459094e-01,\n",
       "         1.79701752e-01, -7.32737857e-01,  1.31683879e-01,\n",
       "        -4.51136952e-01, -9.70718143e-01,  9.98723200e-01,\n",
       "        -5.40256296e-01, -9.61316563e-02, -8.01653955e-01,\n",
       "        -5.34875671e-01,  9.57128324e-01,  5.92218599e-01,\n",
       "        -6.18452029e-01, -8.84379698e-01,  3.22959274e-01,\n",
       "        -9.91940737e-01, -7.81141209e-01,  7.81087604e-01,\n",
       "         8.09507690e-01,  5.65659288e-01, -4.76468431e-01,\n",
       "         9.92533058e-01,  8.02789091e-01, -9.87832504e-01,\n",
       "         9.46309575e-01,  9.97001183e-01, -5.94309794e-01,\n",
       "        -8.57254474e-01,  4.93515182e-01,  6.08594331e-01,\n",
       "        -6.88514193e-01,  3.60357613e-01, -2.78591310e-01,\n",
       "        -4.38155918e-01, -9.91405989e-01, -3.24517846e-01,\n",
       "         1.01935248e-01,  8.00150155e-01, -5.44933482e-01,\n",
       "        -9.99722948e-01,  9.71894585e-01,  7.91392572e-01,\n",
       "        -9.50333500e-01,  9.13501639e-01,  7.27203599e-01,\n",
       "        -9.88373222e-01,  4.33523645e-01, -3.25822163e-02,\n",
       "         9.46022182e-01, -8.97781122e-01,  1.86199200e-01,\n",
       "        -4.25373473e-01, -9.78977235e-01,  1.49246372e-01,\n",
       "        -2.17513141e-01, -4.78304598e-01, -5.11582483e-01,\n",
       "         9.85933530e-01,  9.99811775e-01, -9.78220824e-01,\n",
       "         9.99965564e-01,  8.01349109e-01, -7.41598274e-01,\n",
       "         9.76628250e-01, -3.24203879e-01,  2.41895379e-01,\n",
       "         9.40525032e-01, -9.99274988e-01, -9.93509799e-01,\n",
       "         6.15546468e-01,  9.56648204e-01, -7.01262865e-01,\n",
       "         5.11675062e-01, -9.97244906e-02, -9.17257795e-01,\n",
       "        -4.79674571e-01,  9.14661479e-01, -9.37898546e-01,\n",
       "        -9.97410354e-01, -3.69350406e-01, -6.53489431e-02,\n",
       "         1.21838186e-01, -8.17425719e-01,  9.78772703e-01,\n",
       "        -2.01947474e-01, -9.97988625e-01,  4.52484239e-02,\n",
       "        -3.14588400e-01,  6.58954513e-01, -9.91704652e-01,\n",
       "         6.36618114e-01, -8.84817242e-01, -9.84826669e-01,\n",
       "         4.33673110e-01,  9.60940799e-01,  9.97567344e-01,\n",
       "         2.74731880e-01, -9.99997903e-01,  3.97672934e-01,\n",
       "        -7.46865906e-01, -5.49315302e-02,  7.54022720e-01,\n",
       "         9.08677937e-01,  8.24571212e-01, -9.51891250e-01,\n",
       "        -8.88019689e-01,  4.19614076e-01,  6.86311931e-01,\n",
       "        -9.64037412e-01,  4.34409755e-01,  9.61313862e-01,\n",
       "        -9.40683925e-01,  8.70180491e-01,  9.18703657e-01,\n",
       "        -2.66525976e-01,  2.74082735e-01,  9.44766599e-01,\n",
       "         7.32636232e-01,  3.65412266e-01,  8.56115627e-01,\n",
       "         9.46590468e-01,  9.60136578e-01, -6.62481046e-02,\n",
       "         7.05809943e-01, -9.98607882e-01, -4.74933253e-01,\n",
       "         8.49665656e-01,  9.61913316e-01, -1.82673798e-01,\n",
       "        -9.88485944e-01,  6.72880640e-01,  1.44935871e-01,\n",
       "        -2.59759799e-01, -9.92313086e-01,  9.32728878e-01,\n",
       "         7.68969220e-01,  7.36974378e-01,  8.95665642e-01,\n",
       "         6.71081452e-01, -9.74900302e-01,  9.79692446e-01,\n",
       "        -9.29747105e-01, -2.18419156e-01,  9.34913513e-01,\n",
       "        -9.32859514e-01,  8.60956877e-01,  1.58883659e-01,\n",
       "        -9.64889849e-01,  4.99799977e-01,  7.53708544e-01,\n",
       "        -6.10837900e-05,  6.20920294e-01, -6.11833029e-01,\n",
       "        -2.25649318e-01, -2.63955148e-02,  3.07414747e-01,\n",
       "        -7.53552074e-01,  9.35730094e-01,  9.05584054e-01,\n",
       "         8.87776551e-01,  9.90801910e-01,  1.60059600e-01,\n",
       "         8.51871707e-01,  6.91318723e-01, -7.56266614e-01,\n",
       "         2.48991285e-01,  8.25883280e-01,  9.41878967e-01,\n",
       "         4.13366925e-01,  8.11829480e-01,  1.91831678e-01,\n",
       "        -4.35404512e-02,  4.68031043e-01, -8.85010042e-01,\n",
       "        -5.06294237e-01,  6.72272050e-01,  9.94021429e-01,\n",
       "         7.94956058e-01, -2.43649079e-02, -3.69921153e-01,\n",
       "        -8.88246603e-01,  7.20809229e-01, -2.87487701e-01,\n",
       "         1.03325204e-01, -9.13862521e-01, -5.65055453e-02,\n",
       "        -4.45370688e-01,  8.10712858e-01,  4.12083495e-01,\n",
       "         1.08060352e-02, -7.22740902e-01,  9.85879524e-01,\n",
       "        -9.78039473e-01, -4.29422020e-01,  1.52045753e-04,\n",
       "         5.98636657e-01, -1.67157595e-01,  8.70303076e-01,\n",
       "        -8.92818101e-01, -3.60361130e-01, -1.56557787e-02,\n",
       "         6.88266471e-01,  1.62018373e-01,  9.85163746e-01,\n",
       "         9.53436029e-01, -9.83160207e-01,  9.99289808e-01,\n",
       "         5.19101778e-01]])"
      ]
     },
     "execution_count": 36,
     "metadata": {},
     "output_type": "execute_result"
    }
   ],
   "source": []
  },
  {
   "cell_type": "code",
   "execution_count": null,
   "metadata": {},
   "outputs": [],
   "source": [
    "cca.x_std_\n"
   ]
  },
  {
   "cell_type": "code",
   "execution_count": null,
   "metadata": {},
   "outputs": [],
   "source": [
    "print(cavs_c[0,:5], embeddings_c[0,:5])"
   ]
  },
  {
   "cell_type": "code",
   "execution_count": null,
   "metadata": {},
   "outputs": [],
   "source": []
  },
  {
   "cell_type": "code",
   "execution_count": null,
   "metadata": {},
   "outputs": [],
   "source": []
  },
  {
   "cell_type": "code",
   "execution_count": null,
   "metadata": {},
   "outputs": [],
   "source": [
    "ix = 8\n",
    "print(concepts[test_idxs[ix]])"
   ]
  },
  {
   "cell_type": "code",
   "execution_count": null,
   "metadata": {},
   "outputs": [],
   "source": [
    "X_pred = cca.predict(X_test[ix].reshape(1,-1))\n",
    "\n",
    "X_pred.shape"
   ]
  },
  {
   "cell_type": "code",
   "execution_count": null,
   "metadata": {},
   "outputs": [],
   "source": [
    "test_arr = cosine_similarity(X_pred, y_test)"
   ]
  },
  {
   "cell_type": "code",
   "execution_count": null,
   "metadata": {},
   "outputs": [],
   "source": [
    "similar_concepts = heapq.nlargest(5, range(len(test_arr.flatten())), test_arr.flatten().take)"
   ]
  },
  {
   "cell_type": "code",
   "execution_count": null,
   "metadata": {},
   "outputs": [],
   "source": [
    "for c in similar_concepts:\n",
    "    print(concepts[test_idxs[c]])"
   ]
  },
  {
   "cell_type": "code",
   "execution_count": null,
   "metadata": {},
   "outputs": [],
   "source": [
    "similar_concepts"
   ]
  },
  {
   "cell_type": "code",
   "execution_count": null,
   "metadata": {},
   "outputs": [],
   "source": [
    "concepts[test_idxs[43]]"
   ]
  },
  {
   "cell_type": "code",
   "execution_count": null,
   "metadata": {},
   "outputs": [],
   "source": [
    "unique(concepts)"
   ]
  },
  {
   "cell_type": "code",
   "execution_count": null,
   "metadata": {},
   "outputs": [],
   "source": [
    "len(set(concepts))"
   ]
  },
  {
   "cell_type": "code",
   "execution_count": null,
   "metadata": {},
   "outputs": [],
   "source": []
  }
 ],
 "metadata": {
  "kernelspec": {
   "display_name": "Python 3",
   "language": "python",
   "name": "python3"
  },
  "language_info": {
   "codemirror_mode": {
    "name": "ipython",
    "version": 3
   },
   "file_extension": ".py",
   "mimetype": "text/x-python",
   "name": "python",
   "nbconvert_exporter": "python",
   "pygments_lexer": "ipython3",
   "version": "3.7.5"
  }
 },
 "nbformat": 4,
 "nbformat_minor": 2
}
