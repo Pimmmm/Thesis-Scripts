{
 "cells": [
  {
   "cell_type": "code",
   "execution_count": 3,
   "metadata": {},
   "outputs": [],
   "source": [
    "def GetClassesFromImage(img, image_dir):\n",
    "    \n",
    "    \"\"\"\n",
    "    Reads an image to numpy arrays and extract the per-pixel lables. The per-pixel labels are stored in as follows:\n",
    "    red channel + 256 * green channel. The unique values are the labels attached to the image.\n",
    "        \n",
    "    Args:\n",
    "    img: image filename\n",
    "    image_dir: path of the directory containing the photos\n",
    "\n",
    "    returns: numpy array of the classes \n",
    "    \"\"\"\n",
    "    \n",
    "    \n",
    "    from PIL import Image\n",
    "    import numpy as np\n",
    "    import os\n",
    "    \n",
    "    image = Image.open(os.path.join(image_dir, img))\n",
    "    r, g, b = image.split()\n",
    "\n",
    "    g_array = np.array(g, dtype=np.uint16)\n",
    "    r_array = np.array(r, dtype=np.uint16)\n",
    "\n",
    "    px_labels = r_array + 256 * g_array\n",
    "    classes = np.unique(px_labels)\n",
    "    classes = np.delete(classes, np.where(classes == 0)) #removes the class '0', it does not have a label\n",
    "    \n",
    "    return classes"
   ]
  }
 ],
 "metadata": {
  "kernelspec": {
   "display_name": "Python 3",
   "language": "python",
   "name": "python3"
  },
  "language_info": {
   "codemirror_mode": {
    "name": "ipython",
    "version": 3
   },
   "file_extension": ".py",
   "mimetype": "text/x-python",
   "name": "python",
   "nbconvert_exporter": "python",
   "pygments_lexer": "ipython3",
   "version": "3.7.4"
  }
 },
 "nbformat": 4,
 "nbformat_minor": 2
}
