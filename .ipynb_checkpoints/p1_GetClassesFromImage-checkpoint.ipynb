{
 "cells": [
  {
   "cell_type": "code",
   "execution_count": 2,
   "metadata": {},
   "outputs": [],
   "source": [
    "def GetClassesFromImage(img, image_dir, percent_threshold):\n",
    "    \n",
    "    \"\"\"\n",
    "    Reads an image to numpy arrays and extract the per-pixel lables. The per-pixel labels are stored in the image as \n",
    "    follows:    red channel + 256 * green channel. The unique values are the labels attached to the image. \n",
    "    If a certain class contains less then 3% of the pixels, the class is removed and thus not linked to the image. \n",
    "        \n",
    "    Args:\n",
    "    img: image filename\n",
    "    image_dir: path of the directory containing the photos\n",
    "    percent_threshold (int): the percentage of image coverage which the pixel label must at least cover in the image \n",
    "                             to be regarded as a label\n",
    "\n",
    "    returns: numpy array of the classes \n",
    "    \"\"\"\n",
    "    \n",
    "    \n",
    "    from PIL import Image\n",
    "    import numpy as np\n",
    "    import os\n",
    "    \n",
    "    image = Image.open(os.path.join(image_dir, img))\n",
    "    r, g, b = image.split()\n",
    "\n",
    "    g_array = np.array(g, dtype=np.uint16)\n",
    "    r_array = np.array(r, dtype=np.uint16)\n",
    "\n",
    "    px_labels = r_array + 256 * g_array\n",
    "    unique_count, freq_count = np.unique(px_labels, return_counts = True)\n",
    "    \n",
    "    minimal_coverage = ((384**2)/100*percent_threshold)\n",
    "    \n",
    "    classes = unique_count[freq_count >= minimal_coverage]\n",
    "    classes = np.delete(classes, np.where(classes == 0)) #removes the class '0', it does not have a label\n",
    "    \n",
    "    return classes"
   ]
  },
  {
   "cell_type": "code",
   "execution_count": null,
   "metadata": {},
   "outputs": [],
   "source": []
  }
 ],
 "metadata": {
  "kernelspec": {
   "display_name": "Python 3",
   "language": "python",
   "name": "python3"
  },
  "language_info": {
   "codemirror_mode": {
    "name": "ipython",
    "version": 3
   },
   "file_extension": ".py",
   "mimetype": "text/x-python",
   "name": "python",
   "nbconvert_exporter": "python",
   "pygments_lexer": "ipython3",
   "version": "3.7.4"
  }
 },
 "nbformat": 4,
 "nbformat_minor": 2
}
