{
 "cells": [
  {
   "cell_type": "code",
   "execution_count": 16,
   "metadata": {},
   "outputs": [],
   "source": [
    "from torch.utils.data import Dataset\n",
    "from PIL import Image\n",
    "from torchvision import transforms, utils\n",
    "\n",
    "import pandas as pd\n",
    "import numpy as np\n",
    "import os\n",
    "import torch\n",
    "import glob"
   ]
  },
  {
   "cell_type": "code",
   "execution_count": 17,
   "metadata": {},
   "outputs": [],
   "source": [
    "class SonDataset(Dataset):\n",
    "    \n",
    "    def __init__(self, updated_csv_path, img_path, transform = None):\n",
    "        self.img_path = img_path\n",
    "        self.votes_df = pd.read_csv(updated_csv_path)\n",
    "        self.transform = transform\n",
    "    \n",
    "    def __getitem__(self, idx):\n",
    "        self.img_score = self.votes_df.loc[idx, 'Average']\n",
    "        self.img_name = self.votes_df.loc[idx, 'ID'].astype(str)\n",
    "        self.img_file = []\n",
    "        \n",
    "        for directory, _ , _ in os.walk(self.img_path):\n",
    "            self.img_file.extend(glob.glob(os.path.join(directory, self.img_name + '.jpg')))\n",
    "            \n",
    "        im = Image.open(self.img_file[0])\n",
    "        img_as_img = im.convert('RGB')\n",
    "        \n",
    "        if self.transform:\n",
    "            img_as_img = self.transform(img_as_img)\n",
    "            \n",
    "        sample = {'image' : img_as_img,\n",
    "                  'image_name' : self.img_name,\n",
    "                  'image_path' : self.img_file[0],\n",
    "                  'image_score' : self.img_score}\n",
    "        return sample\n",
    "    \n",
    "    def __len__(self):\n",
    "        return len(votes_df)\n",
    "        \n",
    "        \n",
    "    "
   ]
  },
  {
   "cell_type": "code",
   "execution_count": 18,
   "metadata": {},
   "outputs": [],
   "source": [
    "#test the dataset\n",
    "son_dataset = SonDataset('../data/updated_votes.csv', \n",
    "                         '/raid/data/datasets/SoN/images', \n",
    "                         transform = transforms.Compose([transforms.CenterCrop(224),\n",
    "                                                         transforms.ToTensor(),\n",
    "                                                         transforms.Normalize(mean=[0.485, 0.456, 0.406],\n",
    "                                                                              std=[0.229, 0.224, 0.225])\n",
    "                                                        ]))"
   ]
  },
  {
   "cell_type": "code",
   "execution_count": null,
   "metadata": {},
   "outputs": [],
   "source": []
  },
  {
   "cell_type": "code",
   "execution_count": null,
   "metadata": {},
   "outputs": [],
   "source": []
  }
 ],
 "metadata": {
  "kernelspec": {
   "display_name": "Python 3",
   "language": "python",
   "name": "python3"
  },
  "language_info": {
   "codemirror_mode": {
    "name": "ipython",
    "version": 3
   },
   "file_extension": ".py",
   "mimetype": "text/x-python",
   "name": "python",
   "nbconvert_exporter": "python",
   "pygments_lexer": "ipython3",
   "version": "3.7.5"
  }
 },
 "nbformat": 4,
 "nbformat_minor": 2
}
