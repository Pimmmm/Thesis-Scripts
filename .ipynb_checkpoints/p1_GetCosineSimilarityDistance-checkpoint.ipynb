{
 "cells": [
  {
   "cell_type": "code",
   "execution_count": 86,
   "metadata": {},
   "outputs": [],
   "source": [
    "import random\n",
    "import torch\n",
    "import torch.nn.functional as F"
   ]
  },
  {
   "cell_type": "code",
   "execution_count": 131,
   "metadata": {},
   "outputs": [],
   "source": [
    "def GetCosineSimilarityDistance(image_index, img_vector_dict, similarity_value):\n",
    "    \n",
    "    \"\"\"\n",
    "    Calculates the cosine similarity distance between the tensors stored in the dictionary\n",
    "    \n",
    "    Args:\n",
    "        image_index (string): the index of the image in the training dataframe which will be used as reference image\n",
    "        img_vector_dict (dictionary): a dictionary with the row index of images as key and their belonging tensor as value\n",
    "        similarity_value (float): ranging from 1 to -1, determines how similar the tensors must be. A value of 1 will return \n",
    "        1 tensor as only the reference tensor is equal to itself. A value of -1 will return all tensors. \n",
    "        \n",
    "    Returns:\n",
    "        index value of reference image (integer)\n",
    "        index values of tensors which have a cosine similarity which is larger or equal the similarity value (list)\n",
    "    \"\"\"\n",
    "    \n",
    "    # raise an error if the similarity value does not range between 1 and -1\n",
    "    if similarity_value >= 1 and similarity_value < -1:\n",
    "        raise ValueError ('the similarity_value must range between 1 to -1, but got %f instead' %similarity_value)\n",
    "    \n",
    "    # get the tensor belonging the key and reshape it to the right dimensions\n",
    "    reference_vector = img_vector_dict[image_index].unsqueeze(0)\n",
    "    \n",
    "    # create a list of all the keys in the dictionary\n",
    "    list_of_keys = [key for key in img_vector_dict.keys()]\n",
    "    \n",
    "    # stack all the tensors \n",
    "    vector_stack = torch.stack([img_vector_dict[key] for key in list_of_keys])\n",
    "    \n",
    "    # calculate the cosine similarity between the reference vector and all other vectors\n",
    "    cos_distance = F.cosine_similarity(vector_stack, reference_vector)\n",
    "    \n",
    "    # sort the cosine similarity\n",
    "    cos_sim, index = cos_distance.sort(descending = True)\n",
    "    \n",
    "    # subset the images which fall within the range of the similarity value and convert the indices to a list\n",
    "    img_key_indices = index[:len(cos_sim[cos_sim >= similarity_value])].tolist()\n",
    "    \n",
    "    # the indices represent the index of the tensor in the list of keys, these must be converted to the image indices\n",
    "    img_indices = []\n",
    "    for ix in img_key_indices:\n",
    "        img_indices.append(list_of_keys[ix])\n",
    "    \n",
    "    return img_indices"
   ]
  },
  {
   "cell_type": "code",
   "execution_count": null,
   "metadata": {},
   "outputs": [],
   "source": []
  }
 ],
 "metadata": {
  "kernelspec": {
   "display_name": "Python 3",
   "language": "python",
   "name": "python3"
  },
  "language_info": {
   "codemirror_mode": {
    "name": "ipython",
    "version": 3
   },
   "file_extension": ".py",
   "mimetype": "text/x-python",
   "name": "python",
   "nbconvert_exporter": "python",
   "pygments_lexer": "ipython3",
   "version": "3.7.4"
  }
 },
 "nbformat": 4,
 "nbformat_minor": 2
}
