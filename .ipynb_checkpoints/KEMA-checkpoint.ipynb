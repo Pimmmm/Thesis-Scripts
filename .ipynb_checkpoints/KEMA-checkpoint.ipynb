{
 "cells": [
  {
   "cell_type": "code",
   "execution_count": 1,
   "metadata": {},
   "outputs": [],
   "source": [
    "import numpy as np\n",
    "from scipy import linalg, sparse, stats\n",
    "from tqdm.notebook import tqdm, trange\n",
    "from sklearn.metrics.pairwise import cosine_similarity\n",
    "\n",
    "def kernel_manifold_alignment(data1, data2, mu, lanbda, n_neighbors, n_eigs, n_correspondence):\n",
    "    \"\"\"\n",
    "    Aligns the manifolds of two datasets (d x n matrix), where d equals the number of dimensions and \n",
    "    n equals the amount of samples.\n",
    "    \n",
    "    Parameters:\n",
    "    \n",
    "    data1: column matrix (n_features x n_samples)\n",
    "    data2: column matrix (n_features x n_samples)\n",
    "    mu: float (0-1)\n",
    "    lanbda: float (0-1)\n",
    "    n_neighbors: the amount of neighbours to use when determining the topology Laplacian (integer)\n",
    "    n_eigs: the number of dimensions of the latent feature space (integer)\n",
    "    n_correpspondence: the number of datapoints having a correspondence in both datasets (integer)\n",
    "    \n",
    "    Returns:\n",
    "    \n",
    "    Phi1TtoF: column matrix of data1 transformed to the latent feature space (n_eigs, n_samples)\n",
    "    Phi2TtoF: column matrix of data2 transformed to the latent feature space (n_eigs, n_samples)\n",
    "    ALPHA: eigenvectors\n",
    "    LAMBDA: eigenvalues\n",
    "    \"\"\"\n",
    "    \n",
    "    d1, n1 = data1.shape\n",
    "    d2, n2 = data2.shape\n",
    "    \n",
    "    tot_samples = n1 + n2\n",
    "    \n",
    "    # build topography Laplacian\n",
    "    print('Computing neighbours')\n",
    "    x1_graph = np.zeros((n1, n1))\n",
    "    for n in trange(n1):\n",
    "        x1_nn = cosine_similarity(data1.T, data1.T[n].reshape(1,-1))\n",
    "        x1_nn_ixs = x1_nn.argsort(axis=0)[::-1][1:n_neighbors+1].flatten()\n",
    "        x1_graph[n,x1_nn_ixs] = 1\n",
    "        \n",
    "    x2_graph = np.zeros((n2, n2))\n",
    "    for c in trange(n2):\n",
    "        x2_nn = cosine_similarity(data2.T, data2.T[c].reshape(1,-1))\n",
    "        x2_nn_ixs = x2_nn.argsort(axis=0)[::-1][1:n_neighbors+1].flatten()\n",
    "        x2_graph[c, x2_nn_ixs] = 1\n",
    "    \n",
    "    print(\"Building graph Laplacians\")\n",
    "    #topology matrix\n",
    "    W = linalg.block_diag(x1_graph, x2_graph)\n",
    "    W = (W + W.T)/2\n",
    "    \n",
    "    # similarity matrix\n",
    "    Ws = np.zeros((tot_samples, tot_samples))\n",
    "\n",
    "    Ws1 = np.eye(n1)\n",
    "    Ws2 = np.eye(n2)\n",
    "    Ws3 = np.eye(n_correspondence)\n",
    "\n",
    "    Ws[:n1, :n1] = Ws1\n",
    "    Ws[n1:, n1:] = Ws2\n",
    "    Ws[n1:(n1+n_correspondence), :n_correspondence] = Ws3\n",
    "    Ws[:n_correspondence, n1:(n1+n_correspondence)] = Ws3\n",
    "\n",
    "    Ws = Ws + np.eye(tot_samples)\n",
    "    \n",
    "    #dissimilarity matrix\n",
    "    Wd = np.ones((tot_samples, tot_samples))\n",
    "    np.fill_diagonal(Wd, 0)\n",
    "\n",
    "    Wd1 = np.ones((n_correspondence, n_correspondence))\n",
    "    np.fill_diagonal(Wd1, 0)\n",
    "\n",
    "    Wd[:n_correspondence, n1:(n1+n_correspondence)] = Wd1\n",
    "    Wd[n1:(n1+n_correspondence), :n_correspondence] = Wd1\n",
    "\n",
    "    Wd = Wd + np.eye(Wd.shape[0])\n",
    "    \n",
    "    #normalize the (dis)similarity matrices\n",
    "    Sws = sum(sum(Ws))\n",
    "    Swd = sum(sum(Wd))\n",
    "    Sw = sum(sum(W))\n",
    "\n",
    "    Ws = Ws / Sws * Sw\n",
    "    Wd = Wd / Swd * Sw\n",
    "    \n",
    "    #extract diagonals from the matrices\n",
    "    Dd = np.diag(np.sum(Wd, axis=1))\n",
    "    Ds = np.diag(np.sum(Ws, axis = 1))\n",
    "    D = np.diag(np.sum(W, axis=1))\n",
    "    \n",
    "    #build Laplacians\n",
    "    Ls = Ds - Ws # graph Laplacian of similarity \n",
    "    Ld = Dd - Wd # Laplacian of dissimilarity\n",
    "    L = D - W # Laplacian topology/geometry\n",
    "    \n",
    "    #tweak the algorithm\n",
    "    A = ((1 - mu) * L + mu * Ls) + lanbda * np.eye(Ls.shape[0])\n",
    "    B = Ld\n",
    "    \n",
    "    #compute kernels\n",
    "    kernel_data1 = np.matmul(data1.T, data1)\n",
    "    kernel_data2 = np.matmul(data2.T, data2)\n",
    "    \n",
    "    K = linalg.block_diag(kernel_data1, kernel_data2)\n",
    "    \n",
    "    KA = np.matmul(K,A)\n",
    "    KB = np.matmul(K,B)\n",
    "    KAK = np.matmul(KA, K)\n",
    "    KBK = np.matmul(KB, K)\n",
    "    \n",
    "    print(\"Solving generalized eigenvalue decomposition\")\n",
    "    #determine matrix rank\n",
    "    rank_A = np.linalg.matrix_rank(KAK)\n",
    "    rank_B = np.linalg.matrix_rank(KBK)\n",
    "    \n",
    "    ALPHA, LAMBDA,n_eig = gen_eig(KAK, KBK, 'LM', n_eigs, rank_A, rank_B)\n",
    "    \n",
    "    print(\"Rotating axis if needed\")\n",
    "    lambda_idxs = np.diag(LAMBDA).argsort()\n",
    "    LAMBDA = np.sort(np.diag(LAMBDA))\n",
    "    LAMBDA = LAMBDA.reshape(LAMBDA.shape[0],1)\n",
    "    \n",
    "    ALPHA = ALPHA[:, lambda_idxs]\n",
    "    \n",
    "    E1 = ALPHA[:n1, :] #eigenvectors for the first dataset (CAV)\n",
    "    E2 = ALPHA[n1:, :] #eigenvectors for the second dataset (GloVe)\n",
    "    \n",
    "    #Compare the rotated axis with the 'normal' axis\n",
    "    sourceXpInv = (-1 * np.matmul(E1.T, kernel_data1)).T\n",
    "    sourceXp = np.matmul(E1.T, kernel_data1).T\n",
    "    targetXp = np.matmul(E2.T, kernel_data2).T\n",
    "    \n",
    "    sourceXpInv = stats.zscore(sourceXpInv)\n",
    "    sourceXp = stats.zscore(sourceXp)\n",
    "    targetXp = stats.zscore(targetXp)\n",
    "    \n",
    "    ErrRec = np.zeros((n1, ALPHA.shape[1]))\n",
    "    ErrRecInv = np.zeros((n1, ALPHA.shape[1]))\n",
    "    \n",
    "    m1 = np.zeros((n1, ALPHA.shape[1]))\n",
    "    m1inv = np.zeros((n1, ALPHA.shape[1]))\n",
    "    m2 = np.zeros((n1, ALPHA.shape[1]))\n",
    "    \n",
    "    for j in range(ALPHA.shape[1]):\n",
    "        for i in range(n1):\n",
    "            m1inv[i,j] = np.mean(sourceXpInv[i, j])\n",
    "            m1[i,j] = np.mean(sourceXp[i, j])\n",
    "            m2[i,j] = np.mean(targetXp[i, j])\n",
    "\n",
    "            ErrRec[i,j] = np.square(np.power(np.mean(sourceXp[i, j]) - np.mean(targetXp[i, j]), 2))\n",
    "\n",
    "            ErrRecInv[i,j] = np.square(np.power(np.mean(sourceXpInv[i, j]) - np.mean(targetXp[i, j]),2))\n",
    "            \n",
    "    Sc = ErrRec.max(axis=0) > ErrRecInv.max(axis=0)\n",
    "    \n",
    "    print(\"Inverting axis\")\n",
    "    \n",
    "    ALPHA[:n1, Sc] = ALPHA[:n1, Sc] * -1\n",
    "    \n",
    "    Nf = 100\n",
    "    nVectLin = min(Nf, rank_B)\n",
    "    nVectLin = min(nVectLin, rank_A)\n",
    "    \n",
    "    T1 = n1\n",
    "    T2 = n1\n",
    "    \n",
    "    print(\"Transforming data to the common feature space\")\n",
    "    for Nf in range(nVectLin):\n",
    "        E1 = ALPHA[:n1, :Nf+1]\n",
    "        E2 = ALPHA[n1:, :Nf+1]\n",
    "\n",
    "        Phi1toF = np.matmul(E1.T, kernel_data1)\n",
    "        Phi2toF = np.matmul(E2.T, kernel_data2)\n",
    "\n",
    "        Phi1TtoF = np.matmul(E1.T, kernel_data1) \n",
    "        Phi2TtoF = np.matmul(E2.T, kernel_data2) \n",
    "\n",
    "        m1 = np.mean(Phi1toF.T, axis = 0)\n",
    "        m2 = np.mean(Phi2toF.T, axis = 0)\n",
    "        s1 = np.std(Phi1toF.T, axis = 0)\n",
    "        s2 = np.std(Phi2toF.T, axis =0)\n",
    "\n",
    "        Phi1TtoF = np.divide((Phi1TtoF.T - np.matlib.repmat(m1, T1, 1)), \n",
    "                             np.matlib.repmat(s1, T1, 1)).T\n",
    "\n",
    "        Phi2TtoF = np.divide((Phi2TtoF.T - np.matlib.repmat(m2, T2 ,1)),\n",
    "                             np.matlib.repmat(s2, T2, 1)).T\n",
    "        \n",
    "    return Phi1TtoF, Phi2TtoF, ALPHA, LAMBDA\n",
    "    "
   ]
  },
  {
   "cell_type": "code",
   "execution_count": 2,
   "metadata": {},
   "outputs": [],
   "source": [
    "def gen_eig(A, B, option, n_eig, rankA, rankB):\n",
    "    \"\"\"\n",
    "    Extracts generalized eigenvalues for problem A * U = B * U * landa\n",
    "    \"\"\"\n",
    "    \n",
    "    \n",
    "    n_eig = min(n_eig, rankA, rankB)\n",
    "    \n",
    "    B = (B + B.T) / 2\n",
    "    R = B.shape[0]\n",
    "    rango = rankB\n",
    "    \n",
    "    if rango == R:\n",
    "        U = np.zeros((R, n_eig))\n",
    "        D = np.zeros((n_eig, n_eig))\n",
    "        inv_B = np.linalg.inv(B)\n",
    "        for k in tqdm(range(n_eig)):\n",
    "            d, a = sparse.linalg.eigs(np.matmul(inv_B, A),1, which=option) #'a' are the eigenvectors in the matlab code\n",
    "            d = d.real\n",
    "            a = a.real\n",
    "            \n",
    "            ab = np.matmul(a.T, B)\n",
    "            a = np.divide(a, np.sqrt(np.matmul(ab, a)))\n",
    "            U[:,k] = a.flatten()\n",
    "            D[k,k] = d\n",
    "            \n",
    "            ba = np.matmul(B, a)\n",
    "            aTb = np.matmul(a.T, B)\n",
    "            dba = d * ba\n",
    "            A = A - np.matmul(dba, aTb)\n",
    "        \n",
    "        return U, D, n_eig\n",
    "    \n",
    "    else:\n",
    "        print('Calculating d and v')\n",
    "        d, v = sparse.linalg.eigs(B, rango)\n",
    "        d = d.real\n",
    "        v = v.real\n",
    "        \n",
    "        B = np.matmul(v.T, B)\n",
    "        B = np.matmul(B, v)\n",
    "        \n",
    "        A = np.matmul(v.T, A)\n",
    "        A = np.matmul(A, v)\n",
    "        \n",
    "        U2 = np.zeros((rango, n_eig))\n",
    "        D = np.zeros((n_eig, n_eig))\n",
    "        print('Calculation inverse of B')\n",
    "        inv_B = np.linalg.inv(B)\n",
    "        \n",
    "        for k in tqdm(range(n_eig)):\n",
    "            \n",
    "            d, a = sparse.linalg.eigs(np.matmul(inv_B, A),1, which=option)\n",
    "            d = d.real\n",
    "            a = a.real\n",
    "            \n",
    "            ab = np.matmul(a.T, B)\n",
    "            aba = np.matmul(ab, a)\n",
    "            a = np.divide(a, np.sqrt(aba))\n",
    "            \n",
    "            U2[:,k] = a.flatten()\n",
    "        \n",
    "            D[k,k] = d\n",
    "            \n",
    "            ba = np.matmul(B, a)\n",
    "            aTb = np.matmul(a.T, B)\n",
    "            \n",
    "            dba = d * ba\n",
    "            A = A - np.matmul(dba, aTb)\n",
    "        \n",
    "        U = np.matmul(v, U2)\n",
    "        return U, D, n_eig"
   ]
  },
  {
   "cell_type": "code",
   "execution_count": 18,
   "metadata": {},
   "outputs": [],
   "source": [
    "import numpy as np\n",
    "import numpy.matlib\n",
    "from scipy import linalg, sparse, stats\n",
    "from tqdm.notebook import tqdm, trange\n",
    "from sklearn.metrics.pairwise import cosine_similarity\n",
    "\n",
    "def manifold_alignment_wang(data1, data2, mu, lanbda, n_neighbors, n_eigs, n_correspondence, n_cavs):\n",
    "\n",
    "    d1, n1 = data1.shape\n",
    "    d2, n2 = data2.shape\n",
    "\n",
    "    T1 = n1\n",
    "    T2 = n2\n",
    "    \n",
    "    tot_samples = n1 + n2\n",
    "    print(\"Shape of data1:\", data1.shape)\n",
    "    print(\"Shape of data2:\", data2.shape)\n",
    "    \n",
    "    # Transform data to normal distribution\n",
    "    mean_data1 = np.mean(data1.T, axis = 0)\n",
    "    mean_data2 = np.mean(data2.T, axis = 0)\n",
    "    std_data1 = np.std(data1.T, axis = 0)\n",
    "    std_data2 = np.std(data2.T, axis =0)\n",
    "\n",
    "\n",
    "    data1 = np.divide((data1.T - np.matlib.repmat(mean_data1, T1, 1)), \n",
    "                         np.matlib.repmat(std_data1, T1, 1)).T\n",
    "\n",
    "    data2 = np.divide((data2.T - np.matlib.repmat(mean_data2, T2 ,1)),\n",
    "                         np.matlib.repmat(std_data2, T2, 1)).T\n",
    "    \n",
    "    Z = linalg.block_diag(data1, data2) #dimensions (d1+d2, n1+n2)\n",
    "    \n",
    "    # create k-Nearest neighbor graph for data structures \n",
    "    print(\"Computing neighbors dataset 1\")\n",
    "\n",
    "    x1_graph = np.zeros((n1, n1))\n",
    "\n",
    "    #get the nearest neighbors of the data to the CAVS\n",
    "    for n in trange(n1):\n",
    "        x1_cavs_nn = cosine_similarity(data1.T[:n_cavs], data1.T[n].reshape(1,-1))\n",
    "\n",
    "        if n < n_cavs:\n",
    "            x1_cavs_nn_ixs = x1_cavs_nn.argsort(axis=0)[::-1][1:n_neighbors+1].flatten()\n",
    "        else:\n",
    "            x1_cavs_nn_ixs = x1_cavs_nn.argsort(axis=0)[::-1][:n_neighbors+10].flatten()\n",
    "\n",
    "        x1_graph[n,x1_cavs_nn_ixs] = 1\n",
    "\n",
    "    # force CAVs to indicate their nearest image neighbours\n",
    "    for t in trange(n1):\n",
    "        x1_imgs_nn = cosine_similarity(data1.T[n_cavs:], data1.T[t].reshape(1,-1))\n",
    "        if t < n_cavs:\n",
    "            x1_imgs_nn_ixs = x1_imgs_nn.argsort(axis=0)[::-1][:n_neighbors].flatten()\n",
    "\n",
    "        else:\n",
    "            x1_imgs_nn_ixs = x1_imgs_nn.argsort(axis=0)[::-1][1:n_neighbors+1].flatten()\n",
    "\n",
    "        x1_imgs_nn_ixs += n_cavs\n",
    "        x1_graph[t, x1_imgs_nn_ixs] = 1\n",
    "\n",
    "    print('Computing neighbors dataset 2')\n",
    "    x2_graph = np.zeros((n2, n2))\n",
    "    for c in trange(n2):\n",
    "        x2_nn = cosine_similarity(data2.T, data2.T[c].reshape(1,-1))\n",
    "        x2_nn_ixs = x2_nn.argsort(axis=0)[::-1][1:n_neighbors+1].flatten()\n",
    "        x2_graph[c, x2_nn_ixs] = 1\n",
    "        if not np.array_equal(np.where(x2_graph[c] == 1)[0], np.sort(x2_nn_ixs)):\n",
    "            print('The neighbors of dataset 2 do not correspond')\n",
    "    \n",
    "    \n",
    "    # Computing the Laplacians\n",
    "    print('Building Laplacians')\n",
    "    # create topology Laplacian\n",
    "    W = linalg.block_diag(x1_graph, x2_graph)\n",
    "    W = (W + W.T)/2\n",
    "\n",
    "    # create simmilarity matrix\n",
    "    Ws = np.zeros((tot_samples, tot_samples))\n",
    "\n",
    "    Ws1 = np.eye(n1)\n",
    "    Ws2 = np.eye(n2)\n",
    "    Ws3 = np.eye(n_correspondence)\n",
    "\n",
    "    Ws[:n1, :n1] = Ws1\n",
    "    Ws[n1:, n1:] = Ws2\n",
    "    Ws[n1:(n1+n_correspondence), :n_correspondence] = Ws3\n",
    "    Ws[:n_correspondence, n1:(n1+n_correspondence)] = Ws3\n",
    "\n",
    "    Ws = Ws + np.eye(Ws.shape[0])\n",
    "\n",
    "    #create dissimilarity matrix\n",
    "    Wd = np.ones((tot_samples, tot_samples))\n",
    "    np.fill_diagonal(Wd, 0)\n",
    "\n",
    "    Wd1 = np.ones((n_correspondence, n_correspondence))\n",
    "    np.fill_diagonal(Wd1, 0)\n",
    "\n",
    "    Wd[:n_correspondence, n1:(n1+n_correspondence)] = Wd1\n",
    "    Wd[n1:(n1+n_correspondence), :n_correspondence] = Wd1\n",
    "\n",
    "    Wd = Wd + np.eye(Wd.shape[0])\n",
    "\n",
    "    # normalize data\n",
    "    Sws = sum(sum(Ws))\n",
    "    Swd = sum(sum(Wd))\n",
    "    Sw = sum(sum(W))\n",
    "\n",
    "    Ws = Ws / Sws * Sw\n",
    "    Wd = Wd / Swd * Sw\n",
    "\n",
    "    # extract the diagonals\n",
    "    Dd = np.diag(np.sum(Wd, axis=1))\n",
    "    Ds = np.diag(np.sum(Ws, axis = 1))\n",
    "    D = np.diag(np.sum(W, axis=1))\n",
    "\n",
    "    # create laplacians\n",
    "    Ls = Ds - Ws # graph Laplacian of similarity \n",
    "    Ld = Dd - Wd # Laplacian of dissimilarity\n",
    "    L = D - W # Laplacian topology/geometry\n",
    "    \n",
    "    # tune the generalized eigenproblem\n",
    "    A = ((1 - mu) * L + mu * Ls) + lanbda * np.eye((Ls.shape[0]))\n",
    "    B = Ld\n",
    "\n",
    "    ZA = np.matmul(Z, A)\n",
    "    ZB = np.matmul(Z, B)\n",
    "\n",
    "    ZAZ = np.matmul(ZA, Z.T)\n",
    "    ZBZ = np.matmul(ZB, Z.T)\n",
    "    \n",
    "    rank_A = np.linalg.matrix_rank(ZAZ)\n",
    "    rank_B = np.linalg.matrix_rank(ZBZ)\n",
    "    \n",
    "    print(\"Solving generalized eigenvalue decomposition\")\n",
    "    # V = eigenvectors, D = eigenvalues\n",
    "    V, D, n_eig = gen_eig(ZAZ, ZBZ, 'LM', n_eigs, rank_A, rank_B)\n",
    "    \n",
    "    D_idxs = np.diag(D).argsort()\n",
    "    D = np.sort(np.diag(D))\n",
    "    D = D.reshape(D.shape[0],1)\n",
    "    V = V[:, D_idxs]\n",
    "\n",
    "    print(\"Rotating axis if needed\")\n",
    "    #rotate axis if needed\n",
    "    E1 = V[:d1,:]\n",
    "    E2 = V[d1:,:]\n",
    "\n",
    "    sourceXpInv = (-1 * np.matmul(E1.T, data1)).T\n",
    "    sourceXp = np.matmul(E1.T, data1).T\n",
    "    targetXp = np.matmul(E2.T, data2).T\n",
    "\n",
    "    sourceXpInv = stats.zscore(sourceXpInv)\n",
    "    sourceXp = stats.zscore(sourceXp)\n",
    "    targetXp = stats.zscore(targetXp)\n",
    "\n",
    "#     ErrRec = np.zeros((n_correspondence, V.shape[1]))\n",
    "#     ErrRecInv = np.zeros((n_correspondence, V.shape[1]))\n",
    "\n",
    "#     m1 = np.zeros((n_correspondence, V.shape[1]))\n",
    "#     m1inv = np.zeros((n_correspondence, V.shape[1]))\n",
    "#     m2 = np.zeros((n_correspondence, V.shape[1]))\n",
    "\n",
    "#     cls = np.arange(n_correspondence)\n",
    "    \n",
    "#     for j in trange(V.shape[1]):\n",
    "#         for i in range(n_correspondence):\n",
    "#             m1inv[i,j] = np.mean(sourceXpInv[cls[i], j])\n",
    "#             #print('m1inv: ', m1inv)\n",
    "#             m1[i,j] = np.mean(sourceXp[cls[i], j])\n",
    "#             #print('m1: ', m1)\n",
    "#             m2[i,j] = np.mean(targetXp[cls[i], j])\n",
    "#             #print('m2: ', m2)\n",
    "\n",
    "#             ErrRec[i,j] = np.square(np.power(np.mean(sourceXp[cls[i], j]) - np.mean(targetXp[cls[i], j]), 2))\n",
    "\n",
    "#             ErrRecInv[i,j] = np.square(np.power(np.mean(sourceXpInv[cls[i], j]) - np.mean(targetXp[cls[i], j]),2))\n",
    "    \n",
    "    #store cosine similarity values \n",
    "    \n",
    "    cs1 = np.zeros((n_correspondence, V.shape[1]))\n",
    "    cs1_inv = np.zeros((n_correspondence, V.shape[1]))\n",
    "        \n",
    "    for j in trange(V.shape[1]):\n",
    "        E1_inv = np.copy(E1)\n",
    "        E1_inv[:,j] = -1*E1_inv[:,j]\n",
    "        \n",
    "        sourceInv = np.matmul(E1_inv.T, data1).T\n",
    "        sourceInv = stats.zscore(sourceInv)\n",
    "        \n",
    "        for i in range(n_correspondence):\n",
    "            cs1[i,j] = cosine_similarity(sourceXp[i].reshape(1,-1), targetXp[i].reshape(1,-1))\n",
    "            cs1_inv[i,j] = cosine_similarity(sourceInv[i].reshape(1,-1), targetXp[i].reshape(1,-1))\n",
    "        \n",
    "    ErrRec = np.mean(cs1, axis = 0)\n",
    "    ErrRecInv = np.mean(cs1_inv, axis=0)\n",
    "    \n",
    "    Sc = ErrRec < ErrRecInv\n",
    "    V[:d1, Sc] = V[:d1, Sc] * -1\n",
    "    \n",
    "    Nf = d1+d2\n",
    "    E1 = V[:d1, :Nf]\n",
    "    E2 = V[d1:, :Nf]\n",
    "\n",
    "    X1toF = np.matmul(E1.T, data1)\n",
    "    X2toF = np.matmul(E2.T, data2)\n",
    "\n",
    "    m1 = np.mean(X1toF.T, axis = 0)\n",
    "    m2 = np.mean(X2toF.T, axis = 0)\n",
    "    s1 = np.std(X1toF.T, axis = 0)\n",
    "    s2 = np.std(X2toF.T, axis =0)\n",
    "\n",
    "\n",
    "    XT1toF = np.divide((X1toF.T - np.matlib.repmat(m1, T1, 1)), \n",
    "                         np.matlib.repmat(s1, T1, 1)).T\n",
    "\n",
    "    XT2toF = np.divide((X2toF.T - np.matlib.repmat(m2, T2 ,1)),\n",
    "                         np.matlib.repmat(s2, T2, 1)).T\n",
    "    \n",
    "    return XT1toF, XT2toF, V, D, m1, s1"
   ]
  },
  {
   "cell_type": "code",
   "execution_count": 4,
   "metadata": {},
   "outputs": [],
   "source": [
    "def FindNeighbours(A, n_neighbours, B=None, include_self=False):\n",
    "    \"\"\"\n",
    "    A: matrix (n_features, n_samples_A)\n",
    "    n_neighbours: number of neighbours (int)\n",
    "    B: matrix (n_features, n_samples_B)\n",
    "    \n",
    "    Returns:\n",
    "    neighbor_matrix (n_samples_A x n_samples_A) if B=None, otherwise (n_samples_B x n_samples_A)\n",
    "    \"\"\"\n",
    "    \n",
    "    if type(B) != numpy.ndarray:\n",
    "        cosine_dist = cosine_similarity(A.T, A.T)\n",
    "    else:\n",
    "        cosine_dist = cosine_similarity(A.T, B.T)\n",
    "    \n",
    "    neighbor_matrix = np.zeros(cosine_dist.shape)\n",
    "    \n",
    "    for i in range(cosine_dist.shape[1]):\n",
    "        cos_idx = cosine_dist[:,i].argsort(axis=0)[::-1].flatten()\n",
    "        if include_self:\n",
    "            top_nn = cos_idx[:n_neighbours]\n",
    "        else:\n",
    "            top_nn = cos_idx[1:n_neighbours+1]\n",
    "        neighbor_matrix[top_nn, i] = 1\n",
    "    \n",
    "    return neighbor_matrix\n",
    "    "
   ]
  },
  {
   "cell_type": "code",
   "execution_count": 5,
   "metadata": {},
   "outputs": [],
   "source": [
    "%store -r glove_sorted_t\n",
    "%store -r cavs_sorted_t "
   ]
  },
  {
   "cell_type": "code",
   "execution_count": 6,
   "metadata": {},
   "outputs": [
    {
     "name": "stdout",
     "output_type": "stream",
     "text": [
      "(2048, 5447)\n",
      "(300, 3009)\n"
     ]
    }
   ],
   "source": [
    "print(cavs_sorted_t.shape)\n",
    "print(glove_sorted_t.shape)"
   ]
  },
  {
   "cell_type": "code",
   "execution_count": 7,
   "metadata": {},
   "outputs": [],
   "source": [
    "from sklearn.decomposition import PCA"
   ]
  },
  {
   "cell_type": "code",
   "execution_count": 8,
   "metadata": {},
   "outputs": [],
   "source": [
    "pca = PCA(n_components=100)\n",
    "cavs_pca = pca.fit_transform(cavs_sorted_t.T)"
   ]
  },
  {
   "cell_type": "code",
   "execution_count": null,
   "metadata": {},
   "outputs": [],
   "source": [
    "# x1, x2, eigenvectors, eigenvalues = kernel_manifold_alignment(cavs_sorted_t, glove_sorted_t, mu = 0.9,\n",
    "#                                                               lanbda = 0.5, n_neighbors = 10, n_eigs = 2, \n",
    "#                                                               n_correspondence = 363)"
   ]
  },
  {
   "cell_type": "code",
   "execution_count": 13,
   "metadata": {},
   "outputs": [
    {
     "name": "stdout",
     "output_type": "stream",
     "text": [
      "Automatic pdb calling has been turned OFF\n"
     ]
    }
   ],
   "source": [
    "%pdb"
   ]
  },
  {
   "cell_type": "code",
   "execution_count": 16,
   "metadata": {},
   "outputs": [],
   "source": [
    "# z1, z2, eigenvectors, eigenvalues, mean1, std1 = manifold_alignment_wang(cavs_pca.T, glove_sorted_t, mu = 0.9,\n",
    "#                                                                 lanbda = 0.5, n_neighbors = 10, \n",
    "#                                                                 n_eigs = 400, \n",
    "#                                                                 n_correspondence = 363, n_cavs = 649)"
   ]
  },
  {
   "cell_type": "code",
   "execution_count": null,
   "metadata": {},
   "outputs": [],
   "source": [
    "np.zeros((1,263)).shape"
   ]
  },
  {
   "cell_type": "code",
   "execution_count": 33,
   "metadata": {
    "scrolled": true
   },
   "outputs": [
    {
     "data": {
      "application/vnd.jupyter.widget-view+json": {
       "model_id": "6aea0069718f44208bddcb00a03c7134",
       "version_major": 2,
       "version_minor": 0
      },
      "text/plain": [
       "HBox(children=(IntProgress(value=0, max=5), HTML(value='')))"
      ]
     },
     "metadata": {},
     "output_type": "display_data"
    },
    {
     "name": "stdout",
     "output_type": "stream",
     "text": [
      "Shape of data1: (100, 5447)\n",
      "Shape of data2: (300, 3009)\n",
      "Computing neighbors dataset 1\n"
     ]
    },
    {
     "data": {
      "application/vnd.jupyter.widget-view+json": {
       "model_id": "471aabc185044a05b66860acb8ade773",
       "version_major": 2,
       "version_minor": 0
      },
      "text/plain": [
       "HBox(children=(IntProgress(value=0, max=5447), HTML(value='')))"
      ]
     },
     "metadata": {},
     "output_type": "display_data"
    },
    {
     "name": "stdout",
     "output_type": "stream",
     "text": [
      "\n"
     ]
    },
    {
     "data": {
      "application/vnd.jupyter.widget-view+json": {
       "model_id": "48c64137b2a948a0a0ed82db683a17cf",
       "version_major": 2,
       "version_minor": 0
      },
      "text/plain": [
       "HBox(children=(IntProgress(value=0, max=5447), HTML(value='')))"
      ]
     },
     "metadata": {},
     "output_type": "display_data"
    },
    {
     "name": "stdout",
     "output_type": "stream",
     "text": [
      "\n",
      "Computing neighbors dataset 2\n"
     ]
    },
    {
     "data": {
      "application/vnd.jupyter.widget-view+json": {
       "model_id": "86216f1d9bb1473491476b39dba4ed03",
       "version_major": 2,
       "version_minor": 0
      },
      "text/plain": [
       "HBox(children=(IntProgress(value=0, max=3009), HTML(value='')))"
      ]
     },
     "metadata": {},
     "output_type": "display_data"
    },
    {
     "name": "stdout",
     "output_type": "stream",
     "text": [
      "\n",
      "Building Laplacians\n",
      "Solving generalized eigenvalue decomposition\n"
     ]
    },
    {
     "data": {
      "application/vnd.jupyter.widget-view+json": {
       "model_id": "72a6b959115a461c9d2f116b8c00effe",
       "version_major": 2,
       "version_minor": 0
      },
      "text/plain": [
       "HBox(children=(IntProgress(value=0, max=400), HTML(value='')))"
      ]
     },
     "metadata": {},
     "output_type": "display_data"
    },
    {
     "name": "stdout",
     "output_type": "stream",
     "text": [
      "\n",
      "Rotating axis if needed\n"
     ]
    },
    {
     "data": {
      "application/vnd.jupyter.widget-view+json": {
       "model_id": "02c4656580b74444a424c6929c3c54d5",
       "version_major": 2,
       "version_minor": 0
      },
      "text/plain": [
       "HBox(children=(IntProgress(value=0, max=400), HTML(value='')))"
      ]
     },
     "metadata": {},
     "output_type": "display_data"
    },
    {
     "name": "stdout",
     "output_type": "stream",
     "text": [
      "\n",
      "Shape of data1: (100, 5447)\n",
      "Shape of data2: (300, 3009)\n",
      "Computing neighbors dataset 1\n"
     ]
    },
    {
     "data": {
      "application/vnd.jupyter.widget-view+json": {
       "model_id": "0fcabe9c23d54755b891714cc64bbaad",
       "version_major": 2,
       "version_minor": 0
      },
      "text/plain": [
       "HBox(children=(IntProgress(value=0, max=5447), HTML(value='')))"
      ]
     },
     "metadata": {},
     "output_type": "display_data"
    },
    {
     "name": "stdout",
     "output_type": "stream",
     "text": [
      "\n"
     ]
    },
    {
     "data": {
      "application/vnd.jupyter.widget-view+json": {
       "model_id": "779123ffec924b73bf2f021c1b2389c7",
       "version_major": 2,
       "version_minor": 0
      },
      "text/plain": [
       "HBox(children=(IntProgress(value=0, max=5447), HTML(value='')))"
      ]
     },
     "metadata": {},
     "output_type": "display_data"
    },
    {
     "name": "stdout",
     "output_type": "stream",
     "text": [
      "\n",
      "Computing neighbors dataset 2\n"
     ]
    },
    {
     "data": {
      "application/vnd.jupyter.widget-view+json": {
       "model_id": "268f45b5b9d34d9f962188ef82f39b8e",
       "version_major": 2,
       "version_minor": 0
      },
      "text/plain": [
       "HBox(children=(IntProgress(value=0, max=3009), HTML(value='')))"
      ]
     },
     "metadata": {},
     "output_type": "display_data"
    },
    {
     "name": "stdout",
     "output_type": "stream",
     "text": [
      "\n",
      "Building Laplacians\n",
      "Solving generalized eigenvalue decomposition\n"
     ]
    },
    {
     "data": {
      "application/vnd.jupyter.widget-view+json": {
       "model_id": "f4030ef4f82345caa5468c2970d2b910",
       "version_major": 2,
       "version_minor": 0
      },
      "text/plain": [
       "HBox(children=(IntProgress(value=0, max=400), HTML(value='')))"
      ]
     },
     "metadata": {},
     "output_type": "display_data"
    },
    {
     "name": "stdout",
     "output_type": "stream",
     "text": [
      "\n",
      "Rotating axis if needed\n"
     ]
    },
    {
     "data": {
      "application/vnd.jupyter.widget-view+json": {
       "model_id": "295acaf7bab8482ab8125c98f89ebcc3",
       "version_major": 2,
       "version_minor": 0
      },
      "text/plain": [
       "HBox(children=(IntProgress(value=0, max=400), HTML(value='')))"
      ]
     },
     "metadata": {},
     "output_type": "display_data"
    },
    {
     "name": "stdout",
     "output_type": "stream",
     "text": [
      "\n",
      "Shape of data1: (100, 5447)\n",
      "Shape of data2: (300, 3009)\n",
      "Computing neighbors dataset 1\n"
     ]
    },
    {
     "data": {
      "application/vnd.jupyter.widget-view+json": {
       "model_id": "6ad11e1af93b4ffdad9324bb21185878",
       "version_major": 2,
       "version_minor": 0
      },
      "text/plain": [
       "HBox(children=(IntProgress(value=0, max=5447), HTML(value='')))"
      ]
     },
     "metadata": {},
     "output_type": "display_data"
    },
    {
     "name": "stdout",
     "output_type": "stream",
     "text": [
      "\n"
     ]
    },
    {
     "data": {
      "application/vnd.jupyter.widget-view+json": {
       "model_id": "693dbcc5c0b845ccb6e8d06229afc5ce",
       "version_major": 2,
       "version_minor": 0
      },
      "text/plain": [
       "HBox(children=(IntProgress(value=0, max=5447), HTML(value='')))"
      ]
     },
     "metadata": {},
     "output_type": "display_data"
    },
    {
     "name": "stdout",
     "output_type": "stream",
     "text": [
      "\n",
      "Computing neighbors dataset 2\n"
     ]
    },
    {
     "data": {
      "application/vnd.jupyter.widget-view+json": {
       "model_id": "55c1efd78e7f4e97806cc06a325b3364",
       "version_major": 2,
       "version_minor": 0
      },
      "text/plain": [
       "HBox(children=(IntProgress(value=0, max=3009), HTML(value='')))"
      ]
     },
     "metadata": {},
     "output_type": "display_data"
    },
    {
     "name": "stdout",
     "output_type": "stream",
     "text": [
      "\n",
      "Building Laplacians\n",
      "Solving generalized eigenvalue decomposition\n"
     ]
    },
    {
     "data": {
      "application/vnd.jupyter.widget-view+json": {
       "model_id": "bee7d73b8bc5401091642b00c1bf05e2",
       "version_major": 2,
       "version_minor": 0
      },
      "text/plain": [
       "HBox(children=(IntProgress(value=0, max=400), HTML(value='')))"
      ]
     },
     "metadata": {},
     "output_type": "display_data"
    },
    {
     "name": "stdout",
     "output_type": "stream",
     "text": [
      "\n",
      "Rotating axis if needed\n"
     ]
    },
    {
     "data": {
      "application/vnd.jupyter.widget-view+json": {
       "model_id": "a637e067da9c424aa52845987316a169",
       "version_major": 2,
       "version_minor": 0
      },
      "text/plain": [
       "HBox(children=(IntProgress(value=0, max=400), HTML(value='')))"
      ]
     },
     "metadata": {},
     "output_type": "display_data"
    },
    {
     "name": "stdout",
     "output_type": "stream",
     "text": [
      "\n",
      "Shape of data1: (100, 5447)\n",
      "Shape of data2: (300, 3009)\n",
      "Computing neighbors dataset 1\n"
     ]
    },
    {
     "data": {
      "application/vnd.jupyter.widget-view+json": {
       "model_id": "566d9b411a654d949a406a751fd80662",
       "version_major": 2,
       "version_minor": 0
      },
      "text/plain": [
       "HBox(children=(IntProgress(value=0, max=5447), HTML(value='')))"
      ]
     },
     "metadata": {},
     "output_type": "display_data"
    },
    {
     "name": "stdout",
     "output_type": "stream",
     "text": [
      "\n"
     ]
    },
    {
     "data": {
      "application/vnd.jupyter.widget-view+json": {
       "model_id": "085bc6cf8fb74097a063b166b982b8a7",
       "version_major": 2,
       "version_minor": 0
      },
      "text/plain": [
       "HBox(children=(IntProgress(value=0, max=5447), HTML(value='')))"
      ]
     },
     "metadata": {},
     "output_type": "display_data"
    },
    {
     "name": "stdout",
     "output_type": "stream",
     "text": [
      "\n",
      "Computing neighbors dataset 2\n"
     ]
    },
    {
     "data": {
      "application/vnd.jupyter.widget-view+json": {
       "model_id": "17eac89bbeed45b2a9d5291500126a90",
       "version_major": 2,
       "version_minor": 0
      },
      "text/plain": [
       "HBox(children=(IntProgress(value=0, max=3009), HTML(value='')))"
      ]
     },
     "metadata": {},
     "output_type": "display_data"
    },
    {
     "name": "stdout",
     "output_type": "stream",
     "text": [
      "\n",
      "Building Laplacians\n",
      "Solving generalized eigenvalue decomposition\n"
     ]
    },
    {
     "data": {
      "application/vnd.jupyter.widget-view+json": {
       "model_id": "c5ad9b6ebe814ecfa1746bfb02bf53e0",
       "version_major": 2,
       "version_minor": 0
      },
      "text/plain": [
       "HBox(children=(IntProgress(value=0, max=400), HTML(value='')))"
      ]
     },
     "metadata": {},
     "output_type": "display_data"
    },
    {
     "name": "stdout",
     "output_type": "stream",
     "text": [
      "\n",
      "Rotating axis if needed\n"
     ]
    },
    {
     "data": {
      "application/vnd.jupyter.widget-view+json": {
       "model_id": "b98c8af906d34db69430e64c56162a2a",
       "version_major": 2,
       "version_minor": 0
      },
      "text/plain": [
       "HBox(children=(IntProgress(value=0, max=400), HTML(value='')))"
      ]
     },
     "metadata": {},
     "output_type": "display_data"
    },
    {
     "name": "stdout",
     "output_type": "stream",
     "text": [
      "\n",
      "Shape of data1: (100, 5447)\n",
      "Shape of data2: (300, 3009)\n",
      "Computing neighbors dataset 1\n"
     ]
    },
    {
     "data": {
      "application/vnd.jupyter.widget-view+json": {
       "model_id": "137aeac29cb043b29e3f15bf0545811b",
       "version_major": 2,
       "version_minor": 0
      },
      "text/plain": [
       "HBox(children=(IntProgress(value=0, max=5447), HTML(value='')))"
      ]
     },
     "metadata": {},
     "output_type": "display_data"
    },
    {
     "name": "stdout",
     "output_type": "stream",
     "text": [
      "\n"
     ]
    },
    {
     "data": {
      "application/vnd.jupyter.widget-view+json": {
       "model_id": "41f436987c0643f3b56ae25d9d27c01c",
       "version_major": 2,
       "version_minor": 0
      },
      "text/plain": [
       "HBox(children=(IntProgress(value=0, max=5447), HTML(value='')))"
      ]
     },
     "metadata": {},
     "output_type": "display_data"
    },
    {
     "name": "stdout",
     "output_type": "stream",
     "text": [
      "\n",
      "Computing neighbors dataset 2\n"
     ]
    },
    {
     "data": {
      "application/vnd.jupyter.widget-view+json": {
       "model_id": "3a9e7437e845432f9db01fffdc6767f7",
       "version_major": 2,
       "version_minor": 0
      },
      "text/plain": [
       "HBox(children=(IntProgress(value=0, max=3009), HTML(value='')))"
      ]
     },
     "metadata": {},
     "output_type": "display_data"
    },
    {
     "name": "stdout",
     "output_type": "stream",
     "text": [
      "\n",
      "Building Laplacians\n",
      "Solving generalized eigenvalue decomposition\n"
     ]
    },
    {
     "data": {
      "application/vnd.jupyter.widget-view+json": {
       "model_id": "862904a69c9e4e23afcd6d9c671d5cfe",
       "version_major": 2,
       "version_minor": 0
      },
      "text/plain": [
       "HBox(children=(IntProgress(value=0, max=400), HTML(value='')))"
      ]
     },
     "metadata": {},
     "output_type": "display_data"
    },
    {
     "name": "stdout",
     "output_type": "stream",
     "text": [
      "\n",
      "Rotating axis if needed\n"
     ]
    },
    {
     "data": {
      "application/vnd.jupyter.widget-view+json": {
       "model_id": "a7beb55acbd647d384e304578414dbe7",
       "version_major": 2,
       "version_minor": 0
      },
      "text/plain": [
       "HBox(children=(IntProgress(value=0, max=400), HTML(value='')))"
      ]
     },
     "metadata": {},
     "output_type": "display_data"
    },
    {
     "name": "stdout",
     "output_type": "stream",
     "text": [
      "\n",
      "\n"
     ]
    }
   ],
   "source": [
    "accuracy_dict = {'Accuracy' : [],\n",
    "                'Mu value' : [],\n",
    "                'Type' : [],\n",
    "                }\n",
    "for mu in tqdm([0.5, 0.6, 0.7, 0.8, 0.9]):\n",
    "    \n",
    "    pca = PCA(n_components=100)\n",
    "    cavs_pca = pca.fit_transform(cavs_sorted_t.T)\n",
    "    \n",
    "    z1, z2, eigenvectors, eigenvalues, mean1, std1 = manifold_alignment_wang(cavs_pca.T, glove_sorted_t, mu = mu,\n",
    "                                                                lanbda = 0.5, n_neighbors = 10, \n",
    "                                                                n_eigs = 400, \n",
    "                                                                n_correspondence = 363, n_cavs = 649)\n",
    "    for i in range(363):\n",
    "        accuracy = cosine_similarity(z1.T[i].reshape(1,-1), z2.T[i].reshape(1,-1))[0].item()\n",
    "        \n",
    "        accuracy_dict['Accuracy'].append(accuracy) \n",
    "        accuracy_dict['Mu value'].append(mu)\n",
    "        accuracy_dict['Type'].append(str(i))\n",
    "            \n",
    "#     # Original neighbours\n",
    "#     glove_nn = FindNeighbours(glove_sorted_t, 10)\n",
    "#     cav_nn = FindNeighbours(cavs_sorted_t, 10)\n",
    "\n",
    "\n",
    "#     # CAV neighbours in the common feature space\n",
    "#     cav_cav = FindNeighbours(z1, 10)\n",
    "\n",
    "#     cav_cav_accuracy = 0\n",
    "#     for i in trange(cavs_sorted_t.shape[1]):\n",
    "#         correct_nn = 0\n",
    "#         for j in np.nditer(np.where(cav_cav[:,i] ==1)[0]):\n",
    "#             if j in np.where(cav_nn[:,i] ==1)[0]:\n",
    "#                 correct_nn += 1\n",
    "#         correct_nn /= 10\n",
    "#         cav_cav_accuracy += correct_nn\n",
    "\n",
    "#     cav_cav_accuracy /= cavs_sorted_t.shape[1]\n",
    "    \n",
    "#     accuracy_dict['Accuracy'].append(cav_cav_accuracy) \n",
    "#     accuracy_dict['Mu value'].append(mu)\n",
    "#     accuracy_dict['Type'].append('CAV_CAV')\n",
    "\n",
    "#     # GloVe neighbours in the common feature space\n",
    "#     common_glove_nn = FindNeighbours(z2, 10)\n",
    "\n",
    "#     glove_glove_accuracy = 0\n",
    "\n",
    "#     for i in range(glove_sorted_t.shape[1]):\n",
    "#         correct_nn = 0\n",
    "#         for j in np.nditer(np.where(common_glove_nn[:,i] ==1)[0]):\n",
    "#             if j in np.where(glove_nn[:,i] ==1)[0]:\n",
    "#                 correct_nn += 1\n",
    "#         correct_nn /= 10\n",
    "#         glove_glove_accuracy += correct_nn\n",
    "\n",
    "#     glove_glove_accuracy /= glove_sorted_t.shape[1]\n",
    "    \n",
    "#     accuracy_dict['Accuracy'].append(glove_glove_accuracy) \n",
    "#     accuracy_dict['Mu value'].append(mu)\n",
    "#     accuracy_dict['Type'].append('GloVe_GloVe')\n",
    "\n",
    "    \n",
    "#     # CAV to GloVe accuracy in the common feature space\n",
    "#     cav_glove_nn = FindNeighbours(z2, 10, z1)\n",
    "\n",
    "#     cav_glove_accuracy = 0\n",
    "\n",
    "#     for i in trange(363):\n",
    "#         correct_nn = 0\n",
    "#         for j in np.nditer(np.where(cav_glove_nn[:,i] == 1)[0]):\n",
    "#             if j in np.where(common_glove_nn[:,1] == 1)[0]:\n",
    "#                 correct_nn += 1\n",
    "#         correct_nn / 10\n",
    "#         cav_glove_accuracy += correct_nn\n",
    "\n",
    "#     cav_glove_accuracy /= 373\n",
    "    \n",
    "#     accuracy_dict['Accuracy'].append(cav_glove_accuracy) \n",
    "#     accuracy_dict['Mu value'].append(mu)\n",
    "#     accuracy_dict['Type'].append('CAV_GloVe')"
   ]
  },
  {
   "cell_type": "code",
   "execution_count": 37,
   "metadata": {},
   "outputs": [
    {
     "ename": "AttributeError",
     "evalue": "'dict' object has no attribute 'iloc'",
     "output_type": "error",
     "traceback": [
      "\u001b[0;31m---------------------------------------------------------------------------\u001b[0m",
      "\u001b[0;31mAttributeError\u001b[0m                            Traceback (most recent call last)",
      "\u001b[0;32m<ipython-input-37-6e26eed779db>\u001b[0m in \u001b[0;36m<module>\u001b[0;34m\u001b[0m\n\u001b[1;32m      3\u001b[0m \u001b[0;32mimport\u001b[0m \u001b[0mmatplotlib\u001b[0m\u001b[0;34m.\u001b[0m\u001b[0mpyplot\u001b[0m \u001b[0;32mas\u001b[0m \u001b[0mplt\u001b[0m\u001b[0;34m\u001b[0m\u001b[0;34m\u001b[0m\u001b[0m\n\u001b[1;32m      4\u001b[0m \u001b[0msns\u001b[0m\u001b[0;34m.\u001b[0m\u001b[0mset\u001b[0m\u001b[0;34m(\u001b[0m\u001b[0;34m)\u001b[0m\u001b[0;34m\u001b[0m\u001b[0;34m\u001b[0m\u001b[0m\n\u001b[0;32m----> 5\u001b[0;31m \u001b[0mfig\u001b[0m \u001b[0;34m=\u001b[0m \u001b[0msns\u001b[0m\u001b[0;34m.\u001b[0m\u001b[0mlineplot\u001b[0m\u001b[0;34m(\u001b[0m\u001b[0mx\u001b[0m \u001b[0;34m=\u001b[0m \u001b[0;34m'Mu value'\u001b[0m\u001b[0;34m,\u001b[0m \u001b[0my\u001b[0m \u001b[0;34m=\u001b[0m \u001b[0;34m'Accuracy'\u001b[0m\u001b[0;34m,\u001b[0m \u001b[0mhue\u001b[0m \u001b[0;34m=\u001b[0m \u001b[0;34m'Type'\u001b[0m\u001b[0;34m,\u001b[0m \u001b[0mdata\u001b[0m\u001b[0;34m=\u001b[0m\u001b[0maccuracy_dict\u001b[0m\u001b[0;34m.\u001b[0m\u001b[0miloc\u001b[0m\u001b[0;34m[\u001b[0m\u001b[0;34m:\u001b[0m\u001b[0;36m20\u001b[0m\u001b[0;34m,\u001b[0m\u001b[0;34m:\u001b[0m\u001b[0;34m]\u001b[0m\u001b[0;34m)\u001b[0m\u001b[0;34m\u001b[0m\u001b[0;34m\u001b[0m\u001b[0m\n\u001b[0m\u001b[1;32m      6\u001b[0m \u001b[0mplt\u001b[0m\u001b[0;34m.\u001b[0m\u001b[0mtitle\u001b[0m\u001b[0;34m(\u001b[0m\u001b[0;34m\"Accuracy of manifold alignment\"\u001b[0m\u001b[0;34m)\u001b[0m\u001b[0;34m\u001b[0m\u001b[0;34m\u001b[0m\u001b[0m\n\u001b[1;32m      7\u001b[0m \u001b[0mfig\u001b[0m\u001b[0;34m.\u001b[0m\u001b[0mset\u001b[0m\u001b[0;34m(\u001b[0m\u001b[0mxlabel\u001b[0m\u001b[0;34m=\u001b[0m\u001b[0;34m\"Mu value\"\u001b[0m\u001b[0;34m,\u001b[0m \u001b[0mylabel\u001b[0m\u001b[0;34m=\u001b[0m\u001b[0;34m'Cosine similarity'\u001b[0m\u001b[0;34m)\u001b[0m\u001b[0;34m\u001b[0m\u001b[0;34m\u001b[0m\u001b[0m\n",
      "\u001b[0;31mAttributeError\u001b[0m: 'dict' object has no attribute 'iloc'"
     ]
    }
   ],
   "source": [
    "%matplotlib inline\n",
    "import seaborn as sns\n",
    "import matplotlib.pyplot as plt\n",
    "sns.set()\n",
    "fig = sns.lineplot(x = 'Mu value', y = 'Accuracy', hue = 'Type', data=accuracy_dict.query(\"\"))\n",
    "plt.title(\"Accuracy of manifold alignment\")\n",
    "fig.set(xlabel=\"Mu value\", ylabel='Cosine similarity')\n",
    "plt.show()"
   ]
  },
  {
   "cell_type": "code",
   "execution_count": null,
   "metadata": {},
   "outputs": [],
   "source": [
    "np.arange(363).reshape(1,-1).shape"
   ]
  },
  {
   "cell_type": "code",
   "execution_count": 32,
   "metadata": {},
   "outputs": [
    {
     "data": {
      "text/plain": [
       "<function ndarray.item>"
      ]
     },
     "execution_count": 32,
     "metadata": {},
     "output_type": "execute_result"
    }
   ],
   "source": [
    "accuracy"
   ]
  },
  {
   "cell_type": "code",
   "execution_count": 38,
   "metadata": {},
   "outputs": [],
   "source": [
    "x = accuracy_dict['Accuracy']"
   ]
  },
  {
   "cell_type": "code",
   "execution_count": 39,
   "metadata": {},
   "outputs": [
    {
     "data": {
      "text/plain": [
       "1815"
      ]
     },
     "execution_count": 39,
     "metadata": {},
     "output_type": "execute_result"
    }
   ],
   "source": [
    "len(x)"
   ]
  },
  {
   "cell_type": "code",
   "execution_count": null,
   "metadata": {},
   "outputs": [],
   "source": []
  }
 ],
 "metadata": {
  "kernelspec": {
   "display_name": "Python 3",
   "language": "python",
   "name": "python3"
  },
  "language_info": {
   "codemirror_mode": {
    "name": "ipython",
    "version": 3
   },
   "file_extension": ".py",
   "mimetype": "text/x-python",
   "name": "python",
   "nbconvert_exporter": "python",
   "pygments_lexer": "ipython3",
   "version": "3.7.5"
  }
 },
 "nbformat": 4,
 "nbformat_minor": 2
}
