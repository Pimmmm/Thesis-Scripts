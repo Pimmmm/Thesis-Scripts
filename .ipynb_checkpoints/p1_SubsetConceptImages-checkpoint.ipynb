{
 "cells": [
  {
   "cell_type": "code",
   "execution_count": 2,
   "metadata": {},
   "outputs": [
    {
     "name": "stdout",
     "output_type": "stream",
     "text": [
      "Importing Jupyter notebook from p1_GetCosineSimilarityDistance.ipynb\n"
     ]
    }
   ],
   "source": [
    "import collections\n",
    "import nbimporter\n",
    "\n",
    "from p1_GetCosineSimilarityDistance import GetCosineSimilarityDistance"
   ]
  },
  {
   "cell_type": "code",
   "execution_count": 3,
   "metadata": {},
   "outputs": [],
   "source": [
    "def SubsetConceptImages(reference_image_dict, concept, vector_dictionary, similarity_threshold, overlap):\n",
    "    \"\"\"\n",
    "    Subsets images which have the concept label, based on the cosine similarity with the reference images, the similarity threshold\n",
    "    and the amount of times it falls within the similarity threshold\n",
    "    \n",
    "    Args:\n",
    "        reference_imaga_dict (dictionary): a dictionary containing concepts as key and list of reference images a value\n",
    "        \n",
    "        concept (string): concept in the Broden dataset\n",
    "        \n",
    "        vector_dictionary (dictionary): a dictionary as created by the function 'MakeVectorDictionary'\n",
    "        \n",
    "        similarity_threshold (float): value ranging from 1 to -1, not including '1'. This defines how similar the tensors must be compared to the \n",
    "            reference tensors. A cosine similarity closer to 1 is more similar to the reference vector. All tensors between the\n",
    "            similarity threshold - 1 are selected\n",
    "            \n",
    "        overlap (list): the amount of times a tensor falls within the similarity threshold. E.g when 5 reference images are used and \n",
    "            the overlap = [4,5], only the tensors which are within the similarity threshold of 4 or 5 reference images are selected \n",
    "        \n",
    "    Returns:\n",
    "        list of indices as strings of the images matching the similarity threshold and the overlap criteria \n",
    "    \"\"\"\n",
    "    \n",
    "    imgs_idx = []\n",
    "\n",
    "    for img in reference_image_dict[concept]:\n",
    "        imgs_idx.extend(GetCosineSimilarityDistance(img, vector_dictionary, similarity_threshold))\n",
    "\n",
    "    cnt = collections.Counter(imgs_idx)\n",
    "    concept_imgs = [key for key in cnt if cnt[key] in overlap]\n",
    "    \n",
    "    return concept_imgs\n",
    "    \n",
    "    \n"
   ]
  },
  {
   "cell_type": "code",
   "execution_count": null,
   "metadata": {},
   "outputs": [],
   "source": []
  }
 ],
 "metadata": {
  "kernelspec": {
   "display_name": "Python 3",
   "language": "python",
   "name": "python3"
  },
  "language_info": {
   "codemirror_mode": {
    "name": "ipython",
    "version": 3
   },
   "file_extension": ".py",
   "mimetype": "text/x-python",
   "name": "python",
   "nbconvert_exporter": "python",
   "pygments_lexer": "ipython3",
   "version": "3.7.4"
  }
 },
 "nbformat": 4,
 "nbformat_minor": 2
}
