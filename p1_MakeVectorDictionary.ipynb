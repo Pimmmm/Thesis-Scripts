{
 "cells": [
  {
   "cell_type": "code",
   "execution_count": 8,
   "metadata": {},
   "outputs": [],
   "source": [
    "import torch\n",
    "from tqdm import tqdm_notebook\n",
    "import pickle\n",
    "import nbimporter\n",
    "import os\n",
    "\n",
    "from p1_GetVectorFromImage import GetVector"
   ]
  },
  {
   "cell_type": "code",
   "execution_count": 3,
   "metadata": {},
   "outputs": [],
   "source": [
    "def MakeVectorDictionary(nn, out_layer, dataset, index_values, file_name=None):\n",
    "    \"\"\"\n",
    "    Creates a dictionary with the row indices as key and the output tensor as value. The CNN is set to evaluation mode\n",
    "    after which every image is run through the CNN. The output tensor of the 'avgpool' layer is stored as value in the \n",
    "    dictionary. After every image has been passed through the network, the dictionary is saved on the local harddrive.\n",
    "    \n",
    "    Args:\n",
    "        nn (torchvision.model): a CNN which has a 'avgpool' layer before the fully connected layers\n",
    "        out_layer: a layer of the nn, from which the output will be extracted\n",
    "        dataset (torch.utils.data.Dataset): a dataset made with the function 'BrodenDataset'\n",
    "        index_values (list): a list of integers refering to the row indices of the images labelled with a specific concept\n",
    "                            in the training dataframe\n",
    "        file_name (.pickle): default is None, the dictionary will not be stored.\n",
    "                            If specified, the name with which the dictionary will be stored on the local harddrive. \n",
    "                            It must end with '.pickle'. The file will be stored in the data folder\n",
    "        \n",
    "    \n",
    "    Returns:\n",
    "        dictionary\n",
    "    \"\"\"\n",
    "    \n",
    "    #check if a GPU is available, otherwise run it on CPU\n",
    "    device = torch.device('cuda') if torch.cuda.is_available() else torch.device('cpu')\n",
    "    nn.to(device)\n",
    "    # set the neural network to evaluation mode\n",
    "    nn.eval()\n",
    "    \n",
    "    # create a dictionary in which the tensors will be stored\n",
    "    vector_dict = {}\n",
    "    \n",
    "    # loop through every index, push the image belonging to the index through the network and extract the tensor from\n",
    "    # the desired output layer\n",
    "    for idx in tqdm_notebook(index_values):\n",
    "        try:\n",
    "            sample = dataset[idx]\n",
    "            img = sample['image']\n",
    "            if torch.cuda.is_available():\n",
    "                img = img.float().cuda()\n",
    "            else:\n",
    "                img = img.float()\n",
    "            vector_img = GetVector(img, nn, out_layer)\n",
    "            vector_dict[str(idx)] = vector_img\n",
    "        except:\n",
    "            print('index:', idx)\n",
    "            \n",
    "    # write the dictionary to the local harddrive\n",
    "    if file_name is not None:\n",
    "        with open(os.path.join('../data/', file_name), 'wb') as handle:\n",
    "            pickle.dump(vector_dict, handle, protocol=pickle.HIGHEST_PROTOCOL)\n",
    "    \n",
    "    return vector_dict"
   ]
  },
  {
   "cell_type": "code",
   "execution_count": null,
   "metadata": {},
   "outputs": [],
   "source": []
  }
 ],
 "metadata": {
  "kernelspec": {
   "display_name": "Python 3",
   "language": "python",
   "name": "python3"
  },
  "language_info": {
   "codemirror_mode": {
    "name": "ipython",
    "version": 3
   },
   "file_extension": ".py",
   "mimetype": "text/x-python",
   "name": "python",
   "nbconvert_exporter": "python",
   "pygments_lexer": "ipython3",
   "version": "3.7.5"
  }
 },
 "nbformat": 4,
 "nbformat_minor": 2
}
