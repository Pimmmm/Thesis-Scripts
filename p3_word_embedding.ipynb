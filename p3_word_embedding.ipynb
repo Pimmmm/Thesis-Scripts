{
 "cells": [
  {
   "cell_type": "code",
   "execution_count": 121,
   "metadata": {},
   "outputs": [],
   "source": [
    "import os\n",
    "import pickle\n",
    "import numpy as np\n",
    "import matplotlib.pyplot as plt\n",
    "import random\n",
    "\n",
    "from tqdm.notebook import tqdm\n",
    "from sklearn.cross_decomposition import CCA\n",
    "from sklearn.metrics.pairwise import cosine_similarity\n",
    "from sklearn.preprocessing import normalize, scale\n",
    "from sklearn.neighbors import NearestNeighbors\n",
    "from sklearn.model_selection import LeaveOneOut"
   ]
  },
  {
   "cell_type": "code",
   "execution_count": 2,
   "metadata": {},
   "outputs": [],
   "source": [
    "GLOVE_PATH = '/mnt/guanabana/raid/data/datasets/GloVe/pretrained/glove.6B.300d.txt'\n",
    "CAVS_PATH = '../data/filtered_broden_cavs.pickle'\n",
    "EMBEDDING_PATH = '../data/word_embedding_6B_300D.pickle'"
   ]
  },
  {
   "cell_type": "markdown",
   "metadata": {},
   "source": [
    "Read the concept activation vectors from the Broden dataset as a dictionary"
   ]
  },
  {
   "cell_type": "code",
   "execution_count": 3,
   "metadata": {},
   "outputs": [],
   "source": [
    "with open(CAVS_PATH, 'rb') as handle:\n",
    "        cavs_broden = pickle.load(handle)"
   ]
  },
  {
   "cell_type": "markdown",
   "metadata": {},
   "source": [
    "Extract the word embeddings from the GloVe dataset. The word embeddings are stored in a dictionary, with the word as key and vector as value, and in a matrix (400 000 x 300). The dataset contains about 400K words."
   ]
  },
  {
   "cell_type": "code",
   "execution_count": 4,
   "metadata": {},
   "outputs": [],
   "source": [
    "if os.path.exists(EMBEDDING_PATH):\n",
    "    with open(EMBEDDING_PATH, 'rb') as handle:\n",
    "        embedding_dict = pickle.load(handle)\n",
    "\n",
    "    glove_embedding_matrix = np.load('../data/glove_embedding_matrix.npy')\n",
    "else:\n",
    "    embedding_dict = {}\n",
    "    glove_embedding_matrix = np.asarray(range(300)).reshape(1,-1)\n",
    "\n",
    "    with open(GLOVE_PATH, 'r', encoding=\"utf-8\") as f:\n",
    "        for line in tqdm(f):\n",
    "            \n",
    "            values = line.split()\n",
    "            word = values[0]\n",
    "            vector = np.asarray(values[1:], 'float32')\n",
    "            embedding_dict[word] = vector\n",
    "\n",
    "            glove_embedding_matrix = np.append(glove_embedding_matrix, vector.reshape(1,-1),0)\n",
    "                        \n",
    "    with open(EMBEDDING_PATH, 'wb') as handle:\n",
    "        pickle.dump(embedding_dict, handle, protocol=pickle.HIGHEST_PROTOCOL)\n",
    "    \n",
    "    glove_embedding_matrix = glove_embedding_matrix[1:]   \n",
    "    np.save('../data/glove_embedding_matrix.npy', glove_embedding_matrix)"
   ]
  },
  {
   "cell_type": "markdown",
   "metadata": {},
   "source": [
    "Select the concepts from the Broden dataset, which are also available as word embedding. Several concepts in the Broden dataset end with _'-s'_. This is removed to get more concepts linked with an embedding. "
   ]
  },
  {
   "cell_type": "code",
   "execution_count": 333,
   "metadata": {},
   "outputs": [],
   "source": [
    "concepts = list(cavs_broden.keys())\n",
    "\n",
    "# create a matrix of all cavs\n",
    "cav_matrix = cavs_broden[concepts[0]]['cav']\n",
    "for i in range(1, len(concepts)):\n",
    "    cav = cavs_broden[concepts[i]]['cav']\n",
    "    cav_matrix = np.concatenate((cav_matrix, cav), 0)"
   ]
  },
  {
   "cell_type": "code",
   "execution_count": 334,
   "metadata": {},
   "outputs": [
    {
     "data": {
      "text/plain": [
       "(722, 2048)"
      ]
     },
     "execution_count": 334,
     "metadata": {},
     "output_type": "execute_result"
    }
   ],
   "source": [
    "cav_matrix.shape"
   ]
  },
  {
   "cell_type": "markdown",
   "metadata": {},
   "source": [
    "Remove the '-s' from the _scene_ concepts and store the matching cavs with the word embeddings. The index is stored to remove the unavailable concepts from the CAV matrix"
   ]
  },
  {
   "cell_type": "code",
   "execution_count": 335,
   "metadata": {},
   "outputs": [],
   "source": [
    "concepts = [c[:-2] if c[-2:] == '-s' else c for c in concepts]\n",
    "concepts = list(set(concepts))\n",
    "\n",
    "embedding_concepts = [(idx, c) for idx, c in enumerate(concepts) if c in embedding_dict.keys()]\n",
    "\n",
    "# store the indices of concepts which are present in both datasets\n",
    "embedding_idxs = [ix for ix, n in embedding_concepts]"
   ]
  },
  {
   "cell_type": "code",
   "execution_count": 336,
   "metadata": {},
   "outputs": [
    {
     "name": "stdout",
     "output_type": "stream",
     "text": [
      "The amount of CAVs with a corresponding word embedding:  418\n"
     ]
    }
   ],
   "source": [
    "print(\"The amount of CAVs with a corresponding word embedding: \", len(embedding_idxs))"
   ]
  },
  {
   "cell_type": "code",
   "execution_count": 337,
   "metadata": {},
   "outputs": [],
   "source": [
    "cavs_with_embedding = cav_matrix[embedding_idxs]"
   ]
  },
  {
   "cell_type": "code",
   "execution_count": 338,
   "metadata": {},
   "outputs": [
    {
     "data": {
      "text/plain": [
       "(418, 2048)"
      ]
     },
     "execution_count": 338,
     "metadata": {},
     "output_type": "execute_result"
    }
   ],
   "source": [
    "cavs_with_embedding.shape"
   ]
  },
  {
   "cell_type": "markdown",
   "metadata": {},
   "source": [
    "Create a matrix of the word embeddings for the concepts which also have a CAV."
   ]
  },
  {
   "cell_type": "code",
   "execution_count": 339,
   "metadata": {},
   "outputs": [],
   "source": [
    "emb_with_cav = embedding_dict[embedding_concepts[0][1]].reshape(1,-1) #reshape the vector to a single row vector\n",
    "for i in range(1, len(embedding_concepts)):\n",
    "    word_vec = embedding_dict[embedding_concepts[i][1]].reshape(1,-1)\n",
    "    emb_with_cav = np.concatenate((emb_with_cav, word_vec))"
   ]
  },
  {
   "cell_type": "code",
   "execution_count": 340,
   "metadata": {},
   "outputs": [
    {
     "data": {
      "text/plain": [
       "(418, 300)"
      ]
     },
     "execution_count": 340,
     "metadata": {},
     "output_type": "execute_result"
    }
   ],
   "source": [
    "emb_with_cav.shape"
   ]
  },
  {
   "cell_type": "markdown",
   "metadata": {},
   "source": [
    "Randomly sample 10% of the data for testing. Instead of using train_test_split, random indices are samples to backtrack which array belongs to which concept."
   ]
  },
  {
   "cell_type": "code",
   "execution_count": 13,
   "metadata": {},
   "outputs": [],
   "source": [
    "indices = list(range(len(emb_with_cav)))"
   ]
  },
  {
   "cell_type": "code",
   "execution_count": 14,
   "metadata": {},
   "outputs": [],
   "source": [
    "test_idxs = np.asarray(random.sample(indices, 42))"
   ]
  },
  {
   "cell_type": "markdown",
   "metadata": {},
   "source": [
    "Divide the matrices into train and test data with a 10% split"
   ]
  },
  {
   "cell_type": "code",
   "execution_count": 154,
   "metadata": {},
   "outputs": [],
   "source": [
    "# use the GloVe word embeddings as input data\n",
    "X_train = np.delete(emb_with_cav, test_idxs, axis=0)\n",
    "X_test = emb_with_cav[test_idxs]\n",
    "    \n",
    "# use the CAVs as 'labels' for the word embedding\n",
    "y_train = np.delete(cavs_with_embedding, test_idxs, axis=0)\n",
    "y_test = cavs_with_embedding[test_idxs]"
   ]
  },
  {
   "cell_type": "code",
   "execution_count": 387,
   "metadata": {},
   "outputs": [],
   "source": [
    "n_concepts = 20\n",
    "\n",
    "test_concepts = [tc for ix, tc in embedding_concepts[:n_concepts]]\n",
    "\n",
    "test_embeddings = emb_with_cav[:n_concepts]\n",
    "test_cavs = cavs_with_embedding[:n_concepts]"
   ]
  },
  {
   "cell_type": "markdown",
   "metadata": {},
   "source": [
    "Initialize a canonical correlation model"
   ]
  },
  {
   "cell_type": "code",
   "execution_count": 388,
   "metadata": {},
   "outputs": [],
   "source": [
    "n_dimensions = 2\n",
    "cca = CCA(n_components = n_dimensions, scale = True, max_iter = 10000, tol=1e-06)"
   ]
  },
  {
   "cell_type": "code",
   "execution_count": 389,
   "metadata": {},
   "outputs": [
    {
     "data": {
      "text/plain": [
       "CCA(copy=True, max_iter=10000, n_components=2, scale=True, tol=1e-06)"
      ]
     },
     "execution_count": 389,
     "metadata": {},
     "output_type": "execute_result"
    }
   ],
   "source": [
    "cca.fit(test_embeddings, test_cavs)"
   ]
  },
  {
   "cell_type": "markdown",
   "metadata": {},
   "source": [
    "The transform function of the CCA does not seem to work properly as the data is not scaled. Therefore, the data is manually transformed by applying the dot product of the fitted weights and the input data after which it is scaled."
   ]
  },
  {
   "cell_type": "code",
   "execution_count": 390,
   "metadata": {},
   "outputs": [],
   "source": [
    "test_embeddings = normalize(emb_with_cav[:25], axis=0)\n",
    "test_cavs = normalize(cavs_with_embedding[:25], axis = 0)\n",
    "\n",
    "test_emb_c = np.dot(test_embeddings, cca.x_rotations_)\n",
    "test_cavs_c = np.dot(test_cavs, cca.y_rotations_)\n",
    "\n",
    "test_emb_c = scale(test_emb_c)\n",
    "test_cavs_c = scale(test_cavs_c)"
   ]
  },
  {
   "cell_type": "code",
   "execution_count": 392,
   "metadata": {},
   "outputs": [
    {
     "data": {
      "image/png": "[encoded data removed]",
      "text/plain": [
       "<Figure size 864x864 with 1 Axes>"
      ]
     },
     "metadata": {
      "needs_background": "light"
     },
     "output_type": "display_data"
    }
   ],
   "source": [
    "plt.figure(figsize=(8,8))\n",
    "plt.scatter(test_emb_c[:,0], test_emb_c[:,1], label='GloVe', alpha = 1)\n",
    "plt.scatter(test_cavs_c[:,0], test_cavs_c[:,1], label='CAV', alpha = 0.5)\n",
    "\n",
    "# for i, txt in enumerate(test_concepts):\n",
    "#     plt.annotate(str(txt), (test_emb_c[:,0][i], test_emb_c[:,1][i]))\n",
    "#     plt.annotate(str(txt), (test_cavs_c[:,0][i], test_cavs_c[:,1][i]))\n",
    "\n",
    "\n",
    "plt.legend()\n",
    "plt.show()"
   ]
  },
  {
   "cell_type": "markdown",
   "metadata": {},
   "source": [
    "## Perform Leave-One-Out cross validation"
   ]
  },
  {
   "cell_type": "code",
   "execution_count": 467,
   "metadata": {},
   "outputs": [],
   "source": [
    "def Transform(x, rotation):\n",
    "    \n",
    "    x_n = normalize(x, axis = 0)\n",
    "    x_c = np.dot(x_n, rotation)\n",
    "    #x_s = scale(x_c)\n",
    "    \n",
    "    return x_c"
   ]
  },
  {
   "cell_type": "code",
   "execution_count": 508,
   "metadata": {},
   "outputs": [],
   "source": [
    "num_concepts = 100\n",
    "\n",
    "test_idxs = np.asarray(random.sample(range(len(emb_with_cav)), num_concepts))\n",
    "test_concepts\n",
    "\n",
    "glove_embeddings = emb_with_cav[test_idxs]\n",
    "cavs_vector = cavs_with_embedding[test_idxs]"
   ]
  },
  {
   "cell_type": "code",
   "execution_count": 509,
   "metadata": {},
   "outputs": [],
   "source": [
    "loo = LeaveOneOut()\n",
    "\n",
    "n_dim = 50\n",
    "cca2 = CCA(n_components = n_dim, scale = True, max_iter = 10000, tol=1e-06)"
   ]
  },
  {
   "cell_type": "code",
   "execution_count": 510,
   "metadata": {},
   "outputs": [
    {
     "data": {
      "text/plain": [
       "100"
      ]
     },
     "execution_count": 510,
     "metadata": {},
     "output_type": "execute_result"
    }
   ],
   "source": [
    "loo.get_n_splits(glove_embeddings)"
   ]
  },
  {
   "cell_type": "code",
   "execution_count": 511,
   "metadata": {
    "scrolled": true
   },
   "outputs": [
    {
     "data": {
      "application/vnd.jupyter.widget-view+json": {
       "model_id": "65645cdba3214fa7b92e4007b509892f",
       "version_major": 2,
       "version_minor": 0
      },
      "text/plain": [
       "HBox(children=(IntProgress(value=1, bar_style='info', max=1), HTML(value='')))"
      ]
     },
     "metadata": {},
     "output_type": "display_data"
    },
    {
     "name": "stdout",
     "output_type": "stream",
     "text": [
      "\n",
      "Total accuracy:  14.0\n"
     ]
    }
   ],
   "source": [
    "correct = 0\n",
    "\n",
    "for train_index, test_index in tqdm(loo.split(glove_embeddings)):\n",
    "    #print(train_index, test_index)\n",
    "    test_embeddings_loo = glove_embeddings[train_index]\n",
    "    test_cavs_loo = cavs_vector[train_index]\n",
    "    \n",
    "    cca2.fit(test_embeddings_loo, test_cavs_loo)\n",
    "    \n",
    "    x_emb = Transform(glove_embeddings, cca2.x_rotations_)\n",
    "    #y_cav = Transform(cavs_vector[test_index], cca2.y_rotations_)\n",
    "    y_cav = normalize(test_cavs_loo, axis=0)\n",
    "    y_cav = np.dot(y_cav, cca2.y_rotations_)\n",
    "    y_cav_mean = y_cav.mean()\n",
    "    y_cav_std = y_cav.std()\n",
    "    \n",
    "    nbrs = NearestNeighbors(n_neighbors=1, radius= 1, algorithm='auto').fit(x_emb)\n",
    "    \n",
    "    y_cav_test = normalize(cavs_vector[test_index])\n",
    "    y_cav_test = np.dot(y_cav_test, cca2.y_rotations_)\n",
    "    #y_cav_test = (y_cav_test - y_cav_mean) / y_cav_std\n",
    "    #print(y_cav_test)\n",
    "    \n",
    "    distances, indices = nbrs.kneighbors(y_cav_test)\n",
    "    \n",
    "    if test_index.item() == indices[0][0]:\n",
    "        correct +=1\n",
    "    #print(test_index.item(), ': ', indices[0][0])\n",
    "    \n",
    "#     plt.figure(figsize=(6,6))\n",
    "#     plt.scatter(x_emb[:,0], x_emb[:,1], label='GloVe', alpha = 0.5)\n",
    "#     plt.scatter(y_cav_test[:,0], y_cav_test[:,1], label='LOO CAV', alpha = 0.5)\n",
    "\n",
    "#     for txt in range(num_concepts):\n",
    "#         plt.annotate(str(txt), (x_emb[:,0][txt], x_emb[:,1][txt]))\n",
    "#     plt.annotate(str(test_index.item()), (y_cav_test[:,0], y_cav_test[:,1]))\n",
    "\n",
    "#     plt.legend()\n",
    "#     plt.show()\n",
    "print(\"Total accuracy: \", round(correct/num_concepts * 100, 3))"
   ]
  },
  {
   "cell_type": "code",
   "execution_count": 442,
   "metadata": {},
   "outputs": [
    {
     "data": {
      "text/plain": [
       "5"
      ]
     },
     "execution_count": 442,
     "metadata": {},
     "output_type": "execute_result"
    }
   ],
   "source": [
    "correct"
   ]
  },
  {
   "cell_type": "code",
   "execution_count": 404,
   "metadata": {},
   "outputs": [
    {
     "data": {
      "image/png": "[encoded data removed]",
      "text/plain": [
       "<Figure size 432x432 with 1 Axes>"
      ]
     },
     "metadata": {
      "needs_background": "light"
     },
     "output_type": "display_data"
    }
   ],
   "source": []
  },
  {
   "cell_type": "code",
   "execution_count": 215,
   "metadata": {},
   "outputs": [
    {
     "data": {
      "text/plain": [
       "(1, 2)"
      ]
     },
     "execution_count": 215,
     "metadata": {},
     "output_type": "execute_result"
    }
   ],
   "source": [
    "y_cav.shape"
   ]
  },
  {
   "cell_type": "code",
   "execution_count": 142,
   "metadata": {},
   "outputs": [],
   "source": [
    "nbrs = NearestNeighbors(n_neighbors=1, algorithm='ball_tree').fit(test_emb_c)"
   ]
  },
  {
   "cell_type": "code",
   "execution_count": 143,
   "metadata": {},
   "outputs": [],
   "source": [
    "distances, indices = nbrs.kneighbors(test_cavs_c)"
   ]
  },
  {
   "cell_type": "code",
   "execution_count": 145,
   "metadata": {},
   "outputs": [
    {
     "data": {
      "text/plain": [
       "(50, 1)"
      ]
     },
     "execution_count": 145,
     "metadata": {},
     "output_type": "execute_result"
    }
   ],
   "source": [
    "indices.shape"
   ]
  },
  {
   "cell_type": "code",
   "execution_count": 146,
   "metadata": {},
   "outputs": [],
   "source": [
    "correct = [i for ix, i in enumerate(indices) if ix == i]"
   ]
  },
  {
   "cell_type": "code",
   "execution_count": 149,
   "metadata": {},
   "outputs": [
    {
     "name": "stdout",
     "output_type": "stream",
     "text": [
      "0.94\n"
     ]
    }
   ],
   "source": [
    "accuracy = len(correct)/len(indices)\n",
    "print(accuracy)"
   ]
  },
  {
   "cell_type": "code",
   "execution_count": 182,
   "metadata": {},
   "outputs": [
    {
     "data": {
      "text/plain": [
       "(9, 300)"
      ]
     },
     "execution_count": 182,
     "metadata": {},
     "output_type": "execute_result"
    }
   ],
   "source": [
    "test_embeddings_loo.shape"
   ]
  },
  {
   "cell_type": "code",
   "execution_count": 203,
   "metadata": {},
   "outputs": [
    {
     "data": {
      "text/plain": [
       "(300, 2)"
      ]
     },
     "execution_count": 203,
     "metadata": {},
     "output_type": "execute_result"
    }
   ],
   "source": [
    "cca2.x_rotations_.shape"
   ]
  },
  {
   "cell_type": "code",
   "execution_count": 351,
   "metadata": {},
   "outputs": [],
   "source": [
    "ccc = CCA(n_components = n_dim, scale = True, max_iter = 10000, tol=1e-06)"
   ]
  },
  {
   "cell_type": "code",
   "execution_count": 352,
   "metadata": {},
   "outputs": [],
   "source": [
    "test_x = emb_with_cav[:10]\n",
    "test_y = cavs_with_embedding[:10]"
   ]
  },
  {
   "cell_type": "code",
   "execution_count": 353,
   "metadata": {},
   "outputs": [
    {
     "data": {
      "text/plain": [
       "CCA(copy=True, max_iter=10000, n_components=2, scale=True, tol=1e-06)"
      ]
     },
     "execution_count": 353,
     "metadata": {},
     "output_type": "execute_result"
    }
   ],
   "source": [
    "ccc.fit(test_x, test_y)"
   ]
  },
  {
   "cell_type": "code",
   "execution_count": 354,
   "metadata": {},
   "outputs": [],
   "source": [
    "test_x_c = Transform(test_x, ccc.x_rotations_)\n",
    "test_y_c = Transform(test_y, ccc.y_rotations_)"
   ]
  },
  {
   "cell_type": "code",
   "execution_count": 355,
   "metadata": {},
   "outputs": [
    {
     "data": {
      "image/png": "[encoded data removed]",
      "text/plain": [
       "<Figure size 576x576 with 1 Axes>"
      ]
     },
     "metadata": {
      "needs_background": "light"
     },
     "output_type": "display_data"
    }
   ],
   "source": [
    "plt.figure(figsize=(8,8))\n",
    "plt.scatter(test_x_c[:,0], test_x_c[:,1], label='GloVe', alpha = 1)\n",
    "plt.scatter(test_y_c[:,0], test_y_c[:,1], label='CAV', alpha = 0.5)\n",
    "\n",
    "# for i, txt in enumerate(test_concepts):\n",
    "#     plt.annotate(str(txt), (x_emb[:,0][i], x_emb[:,1][i]))\n",
    "#     plt.annotate(str(txt), (y_cav[:,0][i], y_cav[:,1][i]))\n",
    "\n",
    "plt.legend()\n",
    "plt.show()"
   ]
  },
  {
   "cell_type": "code",
   "execution_count": 419,
   "metadata": {},
   "outputs": [
    {
     "data": {
      "text/plain": [
       "-0.0036850746"
      ]
     },
     "execution_count": 419,
     "metadata": {},
     "output_type": "execute_result"
    }
   ],
   "source": [
    "glove_embeddings.mean()"
   ]
  },
  {
   "cell_type": "code",
   "execution_count": 211,
   "metadata": {},
   "outputs": [],
   "source": [
    "nn = NearestNeighbors(n_neighbors=1, algorithm='ball_tree').fit(test_x_c)"
   ]
  },
  {
   "cell_type": "code",
   "execution_count": 212,
   "metadata": {},
   "outputs": [],
   "source": [
    "distances, indices = nn.kneighbors(test_y_c)"
   ]
  },
  {
   "cell_type": "code",
   "execution_count": 213,
   "metadata": {},
   "outputs": [
    {
     "data": {
      "text/plain": [
       "array([[0],\n",
       "       [1],\n",
       "       [2],\n",
       "       [3],\n",
       "       [4],\n",
       "       [5],\n",
       "       [6],\n",
       "       [7],\n",
       "       [8],\n",
       "       [9]])"
      ]
     },
     "execution_count": 213,
     "metadata": {},
     "output_type": "execute_result"
    }
   ],
   "source": [
    "indices"
   ]
  },
  {
   "cell_type": "code",
   "execution_count": 369,
   "metadata": {},
   "outputs": [
    {
     "data": {
      "text/plain": [
       "array([[ 0,  1,  2,  3,  4],\n",
       "       [ 5,  6,  7,  8,  9],\n",
       "       [10, 11, 12, 13, 14],\n",
       "       [15, 16, 17, 18, 19]])"
      ]
     },
     "execution_count": 369,
     "metadata": {},
     "output_type": "execute_result"
    }
   ],
   "source": [
    "arr = np.arange(20).reshape(4,-1)\n",
    "arr"
   ]
  },
  {
   "cell_type": "code",
   "execution_count": 376,
   "metadata": {},
   "outputs": [
    {
     "data": {
      "text/plain": [
       "(9, 300)"
      ]
     },
     "execution_count": 376,
     "metadata": {},
     "output_type": "execute_result"
    }
   ],
   "source": [
    "glove_embeddings[train_index].shape"
   ]
  },
  {
   "cell_type": "code",
   "execution_count": null,
   "metadata": {},
   "outputs": [],
   "source": []
  }
 ],
 "metadata": {
  "kernelspec": {
   "display_name": "Python 3",
   "language": "python",
   "name": "python3"
  },
  "language_info": {
   "codemirror_mode": {
    "name": "ipython",
    "version": 3
   },
   "file_extension": ".py",
   "mimetype": "text/x-python",
   "name": "python",
   "nbconvert_exporter": "python",
   "pygments_lexer": "ipython3",
   "version": "3.7.5"
  }
 },
 "nbformat": 4,
 "nbformat_minor": 2
}
