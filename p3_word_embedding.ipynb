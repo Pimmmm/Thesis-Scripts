{
 "cells": [
  {
   "cell_type": "code",
   "execution_count": 251,
   "metadata": {},
   "outputs": [],
   "source": [
    "import os\n",
    "import pickle\n",
    "import numpy as np\n",
    "import matplotlib.pyplot as plt\n",
    "import pandas as pd\n",
    "import numpy.matlib\n",
    "import pickle\n",
    "\n",
    "from scipy import linalg, sparse, stats\n",
    "from tqdm.notebook import tqdm\n",
    "from sklearn.preprocessing import normalize, scale\n",
    "from sklearn.neighbors import kneighbors_graph"
   ]
  },
  {
   "cell_type": "code",
   "execution_count": 2,
   "metadata": {},
   "outputs": [],
   "source": [
    "GLOVE_PATH = '/mnt/guanabana/raid/data/datasets/GloVe/pretrained/glove.6B.300d.txt'\n",
    "CAVS_PATH = '../data/filtered_broden_cavs.pickle'\n",
    "EMBEDDING_PATH = '../data/word_embedding_6B_300D.pickle'\n",
    "TEXTURE_PATH = \"/raid/data/datasets/broden1_384/c_texture.csv\""
   ]
  },
  {
   "cell_type": "code",
   "execution_count": 3,
   "metadata": {},
   "outputs": [],
   "source": [
    "textures = pd.read_csv(TEXTURE_PATH, index_col = 0)\n",
    "texture_list = list(textures['name'])"
   ]
  },
  {
   "cell_type": "markdown",
   "metadata": {},
   "source": [
    "Read the concept activation vectors from the Broden dataset as a dictionary"
   ]
  },
  {
   "cell_type": "code",
   "execution_count": 4,
   "metadata": {},
   "outputs": [],
   "source": [
    "with open(CAVS_PATH, 'rb') as handle:\n",
    "        cavs_broden = pickle.load(handle)"
   ]
  },
  {
   "cell_type": "markdown",
   "metadata": {},
   "source": [
    "Extract the word embeddings from the GloVe dataset. The word embeddings are stored in a dictionary, with the word as key and vector as value, and in a matrix (400 000 x 300). The dataset contains about 400K words."
   ]
  },
  {
   "cell_type": "code",
   "execution_count": 5,
   "metadata": {},
   "outputs": [],
   "source": [
    "if os.path.exists(EMBEDDING_PATH):\n",
    "    with open(EMBEDDING_PATH, 'rb') as handle:\n",
    "        embedding_dict = pickle.load(handle)\n",
    "\n",
    "    glove_embedding_matrix = np.load('../data/glove_embedding_matrix.npy')\n",
    "else:\n",
    "    embedding_dict = {}\n",
    "    glove_embedding_matrix = np.zeros((400000, 300))\n",
    "\n",
    "    with open(GLOVE_PATH, 'r', encoding=\"utf-8\") as f:\n",
    "        for i, line in tqdm(enumerate(f)):\n",
    "            \n",
    "            values = line.split()\n",
    "            word = values[0]\n",
    "            vector = np.asarray(values[1:], 'float32').reshape(1,-1)\n",
    "            embedding_dict[word] = vector\n",
    "\n",
    "            glove_embedding_matrix[i] = vector\n",
    "                        \n",
    "    with open(EMBEDDING_PATH, 'wb') as handle:\n",
    "        pickle.dump(embedding_dict, handle, protocol=pickle.HIGHEST_PROTOCOL)\n",
    "     \n",
    "    np.save('../data/glove_embedding_matrix.npy', glove_embedding_matrix)"
   ]
  },
  {
   "cell_type": "markdown",
   "metadata": {},
   "source": [
    "Select the concepts from the Broden dataset, which are also available as word embedding. Several concepts in the Broden dataset end with _'-s'_. This is removed to get more concepts linked with an embedding. "
   ]
  },
  {
   "cell_type": "code",
   "execution_count": 6,
   "metadata": {},
   "outputs": [],
   "source": [
    "# list all Broden concepts\n",
    "all_broden_concepts = list(cavs_broden.keys())\n",
    "\n",
    "# remove duplicates from concept list (e.g. mountain-s is stored when mountain and mountain-s are both in the dataset)\n",
    "# and remove the textures from the concepts\n",
    "no_dups_concepts = [c for c in all_broden_concepts if c +'-s' not in all_broden_concepts and c not in texture_list]"
   ]
  },
  {
   "cell_type": "code",
   "execution_count": 7,
   "metadata": {},
   "outputs": [
    {
     "data": {
      "text/plain": [
       "722"
      ]
     },
     "execution_count": 7,
     "metadata": {},
     "output_type": "execute_result"
    }
   ],
   "source": [
    "len(all_broden_concepts)"
   ]
  },
  {
   "cell_type": "code",
   "execution_count": 8,
   "metadata": {},
   "outputs": [],
   "source": [
    "# create a matrix of all cavs\n",
    "cav_matrix = np.zeros((len(no_dups_concepts), cavs_broden[no_dups_concepts[0]]['cav'].shape[1]))\n",
    "for i in range(len(no_dups_concepts)):\n",
    "    cav = cavs_broden[no_dups_concepts[i]]['cav']\n",
    "    cav_matrix[i] = cav\n",
    "\n",
    "# remove the '-s' from the concepts if present \n",
    "broden_concepts = [c[:-2] if c[-2:] == '-s' else c for c in no_dups_concepts]"
   ]
  },
  {
   "cell_type": "code",
   "execution_count": 9,
   "metadata": {},
   "outputs": [
    {
     "data": {
      "text/plain": [
       "(649, 2048)"
      ]
     },
     "execution_count": 9,
     "metadata": {},
     "output_type": "execute_result"
    }
   ],
   "source": [
    "cav_matrix.shape"
   ]
  },
  {
   "cell_type": "markdown",
   "metadata": {},
   "source": [
    "Remove the '-s' from the _scene_ concepts and store the matching cavs with the word embeddings. The index is stored to remove the unavailable concepts from the CAV matrix"
   ]
  },
  {
   "cell_type": "code",
   "execution_count": 10,
   "metadata": {},
   "outputs": [],
   "source": [
    "embedding_ix_concepts = [(idx, c) for idx, c in enumerate(broden_concepts) if c in embedding_dict.keys()]\n",
    "\n",
    "# store the indices of concepts which are present in both datasets\n",
    "embedding_idxs = [ix for ix, n in embedding_ix_concepts]\n",
    "embedding_concepts = [c for ix, c in embedding_ix_concepts]"
   ]
  },
  {
   "cell_type": "code",
   "execution_count": 11,
   "metadata": {},
   "outputs": [
    {
     "name": "stdout",
     "output_type": "stream",
     "text": [
      "The amount of CAVs with a corresponding word embedding:  373\n"
     ]
    }
   ],
   "source": [
    "print(\"The amount of CAVs with a corresponding word embedding: \", len(embedding_idxs))"
   ]
  },
  {
   "cell_type": "code",
   "execution_count": 12,
   "metadata": {},
   "outputs": [],
   "source": [
    "cavs_with_embedding = cav_matrix[embedding_idxs]"
   ]
  },
  {
   "cell_type": "code",
   "execution_count": 13,
   "metadata": {},
   "outputs": [
    {
     "data": {
      "text/plain": [
       "(373, 2048)"
      ]
     },
     "execution_count": 13,
     "metadata": {},
     "output_type": "execute_result"
    }
   ],
   "source": [
    "cavs_with_embedding.shape"
   ]
  },
  {
   "cell_type": "markdown",
   "metadata": {},
   "source": [
    "Create a matrix of the word embeddings for the concepts which also have a CAV."
   ]
  },
  {
   "cell_type": "code",
   "execution_count": 14,
   "metadata": {},
   "outputs": [],
   "source": [
    "embeddings_with_cav = np.zeros((len(embedding_idxs), 300))\n",
    "for i in range(len(embedding_concepts)):\n",
    "    word_vec = embedding_dict[embedding_concepts[i]].reshape(1,-1)\n",
    "    embeddings_with_cav[i] = word_vec"
   ]
  },
  {
   "cell_type": "code",
   "execution_count": 15,
   "metadata": {},
   "outputs": [
    {
     "data": {
      "text/plain": [
       "(373, 300)"
      ]
     },
     "execution_count": 15,
     "metadata": {},
     "output_type": "execute_result"
    }
   ],
   "source": [
    "embeddings_with_cav.shape"
   ]
  },
  {
   "cell_type": "markdown",
   "metadata": {},
   "source": [
    "Create matrix with CAVs which do not have a matching word embedding"
   ]
  },
  {
   "cell_type": "code",
   "execution_count": 16,
   "metadata": {},
   "outputs": [],
   "source": [
    "cav_no_glove = np.delete(cav_matrix, embedding_idxs, axis=0)"
   ]
  },
  {
   "cell_type": "markdown",
   "metadata": {},
   "source": [
    "Create matrix with GloVe embeddings which do not have a matching CAV"
   ]
  },
  {
   "cell_type": "code",
   "execution_count": 73,
   "metadata": {},
   "outputs": [],
   "source": [
    "glove_no_cav = np.zeros((400000 - len(embedding_concepts), 300))\n",
    "glove_no_cav_concept = []\n",
    "\n",
    "idx = 0\n",
    "for concpt in embedding_dict.keys():\n",
    "    if concpt not in embedding_concepts:\n",
    "        glove_no_cav_concept.append(concpt)\n",
    "        concpt_vec = embedding_dict[concpt]\n",
    "        glove_no_cav[idx] = concpt_vec\n",
    "        idx +=1\n",
    "\n",
    "glove_no_cav_subset = glove_no_cav[:1000]"
   ]
  },
  {
   "cell_type": "markdown",
   "metadata": {},
   "source": [
    "Concatenate the data together, the first 373 rows have correspondence between the datasets"
   ]
  },
  {
   "cell_type": "code",
   "execution_count": 74,
   "metadata": {},
   "outputs": [],
   "source": [
    "cavs_sorted = np.concatenate((cavs_with_embedding, cav_no_glove))\n",
    "glove_sorted = np.concatenate((embeddings_with_cav, glove_no_cav_subset))"
   ]
  },
  {
   "cell_type": "code",
   "execution_count": 75,
   "metadata": {},
   "outputs": [
    {
     "data": {
      "text/plain": [
       "(649, 2048)"
      ]
     },
     "execution_count": 75,
     "metadata": {},
     "output_type": "execute_result"
    }
   ],
   "source": [
    "cavs_sorted.shape"
   ]
  },
  {
   "cell_type": "markdown",
   "metadata": {},
   "source": [
    "## Manifold alignment"
   ]
  },
  {
   "cell_type": "code",
   "execution_count": 76,
   "metadata": {},
   "outputs": [],
   "source": [
    "def gen_eig(A, B, option, n_eig):\n",
    "    \"\"\"\n",
    "    Extracts generalized eigenvalues for problem A * U = B * U * landa\n",
    "    \"\"\"\n",
    "    \n",
    "    \n",
    "    n_eig = min(n_eig, np.linalg.matrix_rank(A), np.linalg.matrix_rank(B))\n",
    "    \n",
    "    B = (B + B.T) / 2\n",
    "    R = B.shape[0]\n",
    "    rango = np.linalg.matrix_rank(B)\n",
    "    \n",
    "    if rango == R:\n",
    "        U = np.zeros((R, n_eig))\n",
    "        D = np.zerose((n_eig, n_eig))\n",
    "        inv_B = np.linalg.inv(B)\n",
    "        for k in range(n_eig):\n",
    "            d, a = sparse.linalg.eigs(np.matmul(inv_B, A),1, which=option) #'a' are the eigenvectors in the matlab code\n",
    "            d = d.real\n",
    "            a = a.real\n",
    "            \n",
    "            ab = np.matmul(a.T, B)\n",
    "            a = np.divide(a, np.sqrt(np.matmul(ab, a)))\n",
    "            U[:,k] = a\n",
    "            D[k,k] = d\n",
    "            \n",
    "            ba = np.matmul(B, a)\n",
    "            aTb = np.matmul(a.T, B)\n",
    "            dba = np.matmul(d, ba)\n",
    "            A = A - np.matmul(dba, aTb)\n",
    "        \n",
    "        return U, D, n_eig\n",
    "    \n",
    "    else:\n",
    "        d, v = sparse.linalg.eigs(B, rango)\n",
    "        d = d.real\n",
    "        v = v.real\n",
    "        \n",
    "        B = np.matmul(v.T, B)\n",
    "        B = np.matmul(B, v)\n",
    "        \n",
    "        A = np.matmul(v.T, A)\n",
    "        A = np.matmul(A, v)\n",
    "        \n",
    "        U2 = np.zeros((rango, n_eig))\n",
    "        D = np.zeros((n_eig, n_eig))\n",
    "        inv_B = np.linalg.inv(B)\n",
    "        \n",
    "        for k in range(n_eig):\n",
    "            \n",
    "            d, a = sparse.linalg.eigs(np.matmul(inv_B, A),1, which=option)\n",
    "            d = d.real\n",
    "            a = a.real\n",
    "            \n",
    "            ab = np.matmul(a.T, B)\n",
    "            aba = np.matmul(ab, a)\n",
    "            a = np.divide(a, np.sqrt(aba))\n",
    "            \n",
    "            U2[:,k] = a.flatten()\n",
    "        \n",
    "            D[k,k] = d\n",
    "            \n",
    "            ba = np.matmul(B, a)\n",
    "            aTb = np.matmul(a.T, B)\n",
    "            \n",
    "            dba = d * ba\n",
    "            A = A - np.matmul(dba, aTb)\n",
    "        \n",
    "        U = np.matmul(v, U2)\n",
    "        return U, D, n_eig"
   ]
  },
  {
   "cell_type": "markdown",
   "metadata": {},
   "source": [
    "Normalize the data along each sample."
   ]
  },
  {
   "cell_type": "code",
   "execution_count": 212,
   "metadata": {},
   "outputs": [],
   "source": [
    "cavs_norm = normalize(cavs_with_embedding,axis=1)\n",
    "glove_norm = normalize(embeddings_with_cav,axis=1)\n",
    "\n",
    "cavs_sorted_norm = normalize(cavs_sorted, axis=1)\n",
    "glove_sorted_norm = normalize(glove_sorted, axis=1)"
   ]
  },
  {
   "cell_type": "markdown",
   "metadata": {},
   "source": [
    "Transpose the matrices to column matrices"
   ]
  },
  {
   "cell_type": "code",
   "execution_count": 213,
   "metadata": {},
   "outputs": [],
   "source": [
    "cavs_norm_col = cavs_norm.T\n",
    "glove_norm_col = glove_norm.T\n",
    "\n",
    "cavs_sorted_norm_col = cavs_sorted_norm.T\n",
    "glove_sorted_norm_col = glove_sorted_norm.T\n",
    "\n",
    "d1, n1 = cavs_sorted_norm_col.shape\n",
    "d2, n2 = glove_sorted_norm_col.shape"
   ]
  },
  {
   "cell_type": "code",
   "execution_count": 214,
   "metadata": {},
   "outputs": [
    {
     "data": {
      "text/plain": [
       "649"
      ]
     },
     "execution_count": 214,
     "metadata": {},
     "output_type": "execute_result"
    }
   ],
   "source": [
    "n1"
   ]
  },
  {
   "cell_type": "code",
   "execution_count": 216,
   "metadata": {},
   "outputs": [
    {
     "data": {
      "text/plain": [
       "2022"
      ]
     },
     "execution_count": 216,
     "metadata": {},
     "output_type": "execute_result"
    }
   ],
   "source": [
    "tot_samples = n1+n2\n",
    "tot_samples"
   ]
  },
  {
   "cell_type": "markdown",
   "metadata": {},
   "source": [
    "As the data is normalized to norm 1, the multiplication of the matrix with its transpose should show 1s along the diagonal"
   ]
  },
  {
   "cell_type": "code",
   "execution_count": 81,
   "metadata": {},
   "outputs": [],
   "source": [
    "# plt.imshow(np.matmul(cavs_sorted_norm_col.T, cavs_sorted_norm_col))"
   ]
  },
  {
   "cell_type": "markdown",
   "metadata": {},
   "source": [
    "To perform manifold allignment the MatLab code from Devis Tuia is followed: https://github.com/dtuia/KEMA/blob/master/general_routine/KMA.m"
   ]
  },
  {
   "cell_type": "code",
   "execution_count": 132,
   "metadata": {},
   "outputs": [],
   "source": [
    "n_samples = len(embedding_concepts)\n",
    "MU = 0.99\n",
    "LAMBDA = 0.5"
   ]
  },
  {
   "cell_type": "markdown",
   "metadata": {},
   "source": [
    "Compute the adjacency matrices for both the CAV and GloVe data"
   ]
  },
  {
   "cell_type": "code",
   "execution_count": 133,
   "metadata": {},
   "outputs": [],
   "source": [
    "n_neighbors = 15\n",
    "cav_knn_graph = kneighbors_graph(cavs_sorted_norm, n_neighbors, mode = 'connectivity')\n",
    "cav_knn_graph = cav_knn_graph.toarray()"
   ]
  },
  {
   "cell_type": "code",
   "execution_count": 134,
   "metadata": {},
   "outputs": [],
   "source": [
    "glove_knn_graph = kneighbors_graph(glove_sorted_norm, n_neighbors, mode = 'connectivity', n_jobs = 10)\n",
    "glove_knn_graph = glove_knn_graph.toarray()"
   ]
  },
  {
   "cell_type": "code",
   "execution_count": 135,
   "metadata": {},
   "outputs": [],
   "source": [
    "W = linalg.block_diag(cav_knn_graph, glove_knn_graph)"
   ]
  },
  {
   "cell_type": "code",
   "execution_count": 136,
   "metadata": {},
   "outputs": [],
   "source": [
    "#plt.imshow(W)"
   ]
  },
  {
   "cell_type": "markdown",
   "metadata": {},
   "source": [
    "Similarity matrix (Ws) encodes the samples belonging to the same class. In this research, there is a pairwise connections, every CAV only has a single match with a word embedding. This relation can be captured by the identity matrix. <br> The corresponding diagonal row sum matrix (Ds) results from summing Ws along the rows and converting the sums to a diagonal matrix."
   ]
  },
  {
   "cell_type": "code",
   "execution_count": 137,
   "metadata": {},
   "outputs": [
    {
     "data": {
      "text/plain": [
       "True"
      ]
     },
     "execution_count": 137,
     "metadata": {},
     "output_type": "execute_result"
    }
   ],
   "source": [
    "Ws = np.zeros((n1+n2, n1+n2))\n",
    "\n",
    "Ws1 = np.eye(n1)\n",
    "Ws2 = np.eye(n2)\n",
    "Ws3 = np.eye(n_samples)\n",
    "\n",
    "Ws[:n1, :n1] = Ws1\n",
    "Ws[n1:, n1:] = Ws2\n",
    "Ws[n1:(n1+n_samples), :n_samples] = Ws3\n",
    "Ws[:n_samples, n1:(n1+n_samples)] = Ws3\n",
    "\n",
    "Ws = Ws + np.eye(Ws.shape[0])\n",
    "\n",
    "# the identity matrices of Ws3 are not plotted on the imshow, but when plotting the right coordinates it does appear\n",
    "#plt.imshow(Ws)\n",
    "\n",
    "# should be True\n",
    "Ws[0, n1] == 1"
   ]
  },
  {
   "cell_type": "markdown",
   "metadata": {},
   "source": [
    "The dissimilarity matrix (Wd) encodes which samples do not belong to the same class. This is important to capture, otherwise every sample will end in the same location (the origin) as this will capture the similarity between the samples. In this research it is assumed that every sample is dissimilar from every other sample except from itself."
   ]
  },
  {
   "cell_type": "code",
   "execution_count": 138,
   "metadata": {},
   "outputs": [
    {
     "data": {
      "text/plain": [
       "array([[0., 1., 1., 1., 1.],\n",
       "       [1., 0., 1., 1., 1.],\n",
       "       [1., 1., 0., 1., 1.],\n",
       "       [1., 1., 1., 0., 1.],\n",
       "       [1., 1., 1., 1., 0.]])"
      ]
     },
     "execution_count": 138,
     "metadata": {},
     "output_type": "execute_result"
    }
   ],
   "source": [
    "Wd = np.ones((n1+n2, n1+n2))\n",
    "np.fill_diagonal(Wd, 0)\n",
    "\n",
    "Wd1 = np.ones((n_samples, n_samples))\n",
    "np.fill_diagonal(Wd1, 0)\n",
    "\n",
    "Wd[:n_samples, n1:(n1+n_samples)] = Wd1\n",
    "Wd[n1:(n1+n_samples), :n_samples] = Wd1\n",
    "\n",
    "Wd = Wd + np.eye(Wd.shape[0])\n",
    "\n",
    "#plt.imshow(Wd)\n",
    "\n",
    "Wd[n1:n1+5, :5]"
   ]
  },
  {
   "cell_type": "markdown",
   "metadata": {},
   "source": [
    "Normalize the data"
   ]
  },
  {
   "cell_type": "code",
   "execution_count": 139,
   "metadata": {},
   "outputs": [],
   "source": [
    "Sws = sum(sum(Ws))\n",
    "Swd = sum(sum(Wd))\n",
    "Sw = sum(sum(W))\n",
    "\n",
    "Ws = Ws / Sws * Sw\n",
    "Wd = Wd / Swd * Sw"
   ]
  },
  {
   "cell_type": "markdown",
   "metadata": {},
   "source": [
    "Extract the diagionals from the matrices"
   ]
  },
  {
   "cell_type": "code",
   "execution_count": 140,
   "metadata": {},
   "outputs": [],
   "source": [
    "Dd = np.diag(np.sum(Wd, axis=1))\n",
    "Ds = np.diag(np.sum(Ws, axis = 1))\n",
    "D = np.diag(np.sum(W, axis=1))"
   ]
  },
  {
   "cell_type": "code",
   "execution_count": 141,
   "metadata": {},
   "outputs": [
    {
     "data": {
      "text/plain": [
       "(2022, 2022)"
      ]
     },
     "execution_count": 141,
     "metadata": {},
     "output_type": "execute_result"
    }
   ],
   "source": [
    "D.shape"
   ]
  },
  {
   "cell_type": "markdown",
   "metadata": {},
   "source": [
    "Create the Laplacians which represent the structure of the data"
   ]
  },
  {
   "cell_type": "code",
   "execution_count": 142,
   "metadata": {},
   "outputs": [],
   "source": [
    "Ls = Ds - Ws # graph Laplacian of similarity \n",
    "Ld = Dd - Wd # Laplacian of dissimilarity\n",
    "\n",
    "L = D - W # Laplacian topology/geometry"
   ]
  },
  {
   "cell_type": "code",
   "execution_count": 143,
   "metadata": {},
   "outputs": [],
   "source": [
    "A = ((1 - MU) * L + MU * Ls) + LAMBDA * np.eye(Ls.shape[0])\n",
    "B = Ld"
   ]
  },
  {
   "cell_type": "code",
   "execution_count": 144,
   "metadata": {},
   "outputs": [
    {
     "data": {
      "text/plain": [
       "(2022, 2022)"
      ]
     },
     "execution_count": 144,
     "metadata": {},
     "output_type": "execute_result"
    }
   ],
   "source": [
    "L.shape"
   ]
  },
  {
   "cell_type": "code",
   "execution_count": 145,
   "metadata": {},
   "outputs": [
    {
     "data": {
      "text/plain": [
       "(2022, 2022)"
      ]
     },
     "execution_count": 145,
     "metadata": {},
     "output_type": "execute_result"
    }
   ],
   "source": [
    "A.shape"
   ]
  },
  {
   "cell_type": "code",
   "execution_count": 146,
   "metadata": {},
   "outputs": [],
   "source": [
    "kernel_cav = np.matmul(cavs_sorted_norm_col.T, cavs_sorted_norm_col)\n",
    "\n",
    "# #the kernel should have a diagonal of 1s\n",
    "# plt.imshow(kernel_cav)"
   ]
  },
  {
   "cell_type": "code",
   "execution_count": 147,
   "metadata": {},
   "outputs": [],
   "source": [
    "kernel_glove = np.matmul(glove_sorted_norm_col.T, glove_sorted_norm_col)\n",
    "# plt.imshow(kernel_glove)"
   ]
  },
  {
   "cell_type": "code",
   "execution_count": 148,
   "metadata": {},
   "outputs": [],
   "source": [
    "K = linalg.block_diag(kernel_cav, kernel_glove)"
   ]
  },
  {
   "cell_type": "code",
   "execution_count": 149,
   "metadata": {},
   "outputs": [],
   "source": [
    "# plt.imshow(K)"
   ]
  },
  {
   "cell_type": "code",
   "execution_count": 150,
   "metadata": {},
   "outputs": [],
   "source": [
    "KA = np.matmul(K,A)\n",
    "KB = np.matmul(K,B)\n",
    "\n",
    "KAK = np.matmul(KA, K)\n",
    "KBK = np.matmul(KB, K)"
   ]
  },
  {
   "cell_type": "code",
   "execution_count": 151,
   "metadata": {},
   "outputs": [],
   "source": [
    "# plt.imshow(KBK)"
   ]
  },
  {
   "cell_type": "markdown",
   "metadata": {},
   "source": [
    "Solve the generalized eigenvalue decomposition"
   ]
  },
  {
   "cell_type": "code",
   "execution_count": 152,
   "metadata": {},
   "outputs": [],
   "source": [
    "ALPHA, LAMBDA,n_eig = gen_eig(KAK, KBK, 'LM', 4)"
   ]
  },
  {
   "cell_type": "markdown",
   "metadata": {},
   "source": [
    "Sort the eigenvalues and vectors"
   ]
  },
  {
   "cell_type": "code",
   "execution_count": 153,
   "metadata": {},
   "outputs": [],
   "source": [
    "lambda_idxs = np.diag(LAMBDA).argsort()\n",
    "LAMBDA = np.sort(np.diag(LAMBDA))\n",
    "LAMBDA = LAMBDA.reshape(LAMBDA.shape[0],1)"
   ]
  },
  {
   "cell_type": "code",
   "execution_count": 154,
   "metadata": {},
   "outputs": [
    {
     "data": {
      "text/plain": [
       "array([[0.84407637],\n",
       "       [0.84761132],\n",
       "       [0.85263444],\n",
       "       [1.61716196]])"
      ]
     },
     "execution_count": 154,
     "metadata": {},
     "output_type": "execute_result"
    }
   ],
   "source": [
    "LAMBDA"
   ]
  },
  {
   "cell_type": "code",
   "execution_count": 155,
   "metadata": {},
   "outputs": [],
   "source": [
    "ALPHA = ALPHA[:, lambda_idxs]"
   ]
  },
  {
   "cell_type": "markdown",
   "metadata": {},
   "source": [
    "Divide the eigenvectors over the 2 datasets"
   ]
  },
  {
   "cell_type": "code",
   "execution_count": 156,
   "metadata": {},
   "outputs": [],
   "source": [
    "E1 = ALPHA[:n1, :] #eigenvectors for the first dataset (CAV)\n",
    "E2 = ALPHA[n1:, :] #eigenvectors for the second dataset (GloVe)"
   ]
  },
  {
   "cell_type": "markdown",
   "metadata": {},
   "source": [
    "Rotate axis is necessary"
   ]
  },
  {
   "cell_type": "code",
   "execution_count": 157,
   "metadata": {},
   "outputs": [],
   "source": [
    "sourceXpInv = (-1 * np.matmul(E1.T, kernel_cav)).T\n",
    "sourceXp = np.matmul(E1.T, kernel_cav).T\n",
    "targetXp = np.matmul(E2.T, kernel_glove).T"
   ]
  },
  {
   "cell_type": "code",
   "execution_count": 158,
   "metadata": {},
   "outputs": [],
   "source": [
    "sourceXpInv = stats.zscore(sourceXpInv)\n",
    "sourceXp = stats.zscore(sourceXp)\n",
    "targetXp = stats.zscore(targetXp)"
   ]
  },
  {
   "cell_type": "code",
   "execution_count": 159,
   "metadata": {},
   "outputs": [
    {
     "data": {
      "text/plain": [
       "(649, 4)"
      ]
     },
     "execution_count": 159,
     "metadata": {},
     "output_type": "execute_result"
    }
   ],
   "source": [
    "sourceXpInv.shape"
   ]
  },
  {
   "cell_type": "code",
   "execution_count": 160,
   "metadata": {},
   "outputs": [],
   "source": [
    "ErrRec = np.zeros((n1, ALPHA.shape[1]))\n",
    "ErrRecInv = np.zeros((n1, ALPHA.shape[1]))"
   ]
  },
  {
   "cell_type": "code",
   "execution_count": 161,
   "metadata": {},
   "outputs": [],
   "source": [
    "m1 = np.zeros((n1, ALPHA.shape[1]))\n",
    "m1inv = np.zeros((n1, ALPHA.shape[1]))\n",
    "m2 = np.zeros((n1, ALPHA.shape[1]))"
   ]
  },
  {
   "cell_type": "code",
   "execution_count": 162,
   "metadata": {},
   "outputs": [],
   "source": [
    "cls = np.arange(n1).reshape(-1,1)"
   ]
  },
  {
   "cell_type": "markdown",
   "metadata": {},
   "source": [
    "Compare the error of the inverted eigenvectors and the normal eigenvectors"
   ]
  },
  {
   "cell_type": "code",
   "execution_count": 163,
   "metadata": {},
   "outputs": [],
   "source": [
    "for j in range(ALPHA.shape[1]):\n",
    "    for i in range(n1):\n",
    "        m1inv[i,j] = np.mean(sourceXpInv[i, j])\n",
    "        #print('m1inv: ', m1inv)\n",
    "        m1[i,j] = np.mean(sourceXp[i, j])\n",
    "        #print('m1: ', m1)\n",
    "        m2[i,j] = np.mean(targetXp[i, j])\n",
    "        #print('m2: ', m2)\n",
    "        \n",
    "        ErrRec[i,j] = np.square(np.power(np.mean(sourceXp[i, j]) - np.mean(targetXp[i, j]), 2))\n",
    "        \n",
    "        ErrRecInv[i,j] = np.square(np.power(np.mean(sourceXpInv[i, j]) - np.mean(targetXp[i, j]),2))\n",
    "        \n"
   ]
  },
  {
   "cell_type": "code",
   "execution_count": 164,
   "metadata": {},
   "outputs": [],
   "source": [
    "Sc = ErrRec.max(axis=0) > ErrRecInv.max(axis=0)"
   ]
  },
  {
   "cell_type": "code",
   "execution_count": 165,
   "metadata": {},
   "outputs": [
    {
     "data": {
      "text/plain": [
       "array([ True,  True,  True,  True])"
      ]
     },
     "execution_count": 165,
     "metadata": {},
     "output_type": "execute_result"
    }
   ],
   "source": [
    "Sc"
   ]
  },
  {
   "cell_type": "markdown",
   "metadata": {},
   "source": [
    "Invert axis if necessary"
   ]
  },
  {
   "cell_type": "code",
   "execution_count": 166,
   "metadata": {},
   "outputs": [],
   "source": [
    "ALPHA[:n1, Sc] = ALPHA[:n1, Sc] * -1"
   ]
  },
  {
   "cell_type": "code",
   "execution_count": 167,
   "metadata": {},
   "outputs": [],
   "source": [
    "NF = 100"
   ]
  },
  {
   "cell_type": "code",
   "execution_count": 168,
   "metadata": {},
   "outputs": [],
   "source": [
    "nVectLin = min(NF, np.linalg.matrix_rank(KBK))\n",
    "nVectLin = min(nVectLin, np.linalg.matrix_rank(KAK))"
   ]
  },
  {
   "cell_type": "markdown",
   "metadata": {},
   "source": [
    "Transform data"
   ]
  },
  {
   "cell_type": "code",
   "execution_count": 200,
   "metadata": {},
   "outputs": [],
   "source": [
    "T1 = cavs_sorted_norm_col.shape[1]\n",
    "T2 = glove_sorted_norm_col.shape[1]\n",
    "\n",
    "for Nf in range(nVectLin):\n",
    "    E1 = ALPHA[:n1, :Nf+1]\n",
    "    E2 = ALPHA[n1:, :Nf+1]\n",
    "    \n",
    "    Phi1toF = np.matmul(E1.T, kernel_cav)\n",
    "    Phi2toF = np.matmul(E2.T, kernel_glove)\n",
    "    \n",
    "    Phi1TtoF = np.matmul(E1.T, kernel_cav) #KT1?\n",
    "    Phi2TtoF = np.matmul(E2.T, kernel_glove) #KT2?\n",
    "    \n",
    "    m1 = np.mean(Phi1toF.T, axis = 0)\n",
    "    m2 = np.mean(Phi2toF.T, axis = 0)\n",
    "    s1 = np.std(Phi1toF.T, axis = 0)\n",
    "    s2 = np.std(Phi2toF.T, axis =0)\n",
    "    \n",
    "    #Phi1toF = stats.zscore(Phi1toF).T\n",
    "    #Phi2toF = stats.zscore(Phi2toF).T\n",
    "    \n",
    "    Phi1TtoF = np.divide((Phi1TtoF.T - np.matlib.repmat(m1, T1, 1)), \n",
    "                         np.matlib.repmat(s1, T1, 1)).T\n",
    "    \n",
    "    Phi2TtoF = np.divide((Phi2TtoF.T - np.matlib.repmat(m2, T2 ,1)),\n",
    "                         np.matlib.repmat(s2, T2, 1)).T"
   ]
  },
  {
   "cell_type": "code",
   "execution_count": 208,
   "metadata": {},
   "outputs": [],
   "source": [
    "# Phi1TtoF_Lin = Phi1TtoF\n",
    "# Phi2TtoF_Lin = Phi2TtoF\n",
    "\n",
    "# Phi1TtoF_Lin = scale(Phi1TtoF, axis=0)\n",
    "# Phi2TtoF_Lin = scale(Phi2TtoF, axis=0)\n",
    "\n",
    "# Phi1TtoF_Lin = normalize(Phi1TtoF_Lin, axis=0)\n",
    "# Phi2TtoF_Lin = normalize(Phi2TtoF_Lin, axis=0)\n",
    "\n",
    "\n",
    "Phi1TtoF_Lin = normalize(Phi1TtoF, axis = 0)\n",
    "Phi2TtoF_Lin = normalize(Phi2TtoF, axis = 0)\n",
    "\n",
    "# Phi1TtoF_Lin = stats.zscore(Phi1TtoF, axis = 0)\n",
    "# Phi2TtoF_Lin = stats.zscore(Phi2TtoF, axis = 0)\n"
   ]
  },
  {
   "cell_type": "code",
   "execution_count": 209,
   "metadata": {},
   "outputs": [
    {
     "data": {
      "text/plain": [
       "Text(0.6549995054372064, 0.6451679736252596, 'church')"
      ]
     },
     "execution_count": 209,
     "metadata": {},
     "output_type": "execute_result"
    },
    {
     "data": {
      "image/png": "[encoded data removed]",
      "text/plain": [
       "<Figure size 576x576 with 1 Axes>"
      ]
     },
     "metadata": {
      "needs_background": "light"
     },
     "output_type": "display_data"
    }
   ],
   "source": [
    "num_concepts = 100\n",
    "\n",
    "new_glove = 500\n",
    "\n",
    "plt.figure(figsize=(8,8))\n",
    "plt.grid()\n",
    "plt.scatter(Phi1TtoF_Lin[0,:num_concepts], Phi1TtoF_Lin[1,:num_concepts], label = 'CAV', color = 'red')\n",
    "plt.scatter(Phi2TtoF_Lin[0,:num_concepts], Phi2TtoF_Lin[1,:num_concepts], label = 'GloVe', color = 'steelblue', alpha=0.5)\n",
    "plt.scatter(Phi2TtoF_Lin[0,n_samples + new_glove], Phi2TtoF_Lin[1,n_samples + new_glove], label = 'new GloVe', color='green')\n",
    "#plt.xlim([-2.5,2.5])\n",
    "#plt.ylim([-2.5, 2.5])\n",
    "\n",
    "\n",
    "plt.legend()\n",
    "\n",
    "for ii, txt in enumerate(embedding_concepts[:num_concepts]):\n",
    "    plt.annotate(txt, (Phi1TtoF_Lin[0,ii], Phi1TtoF_Lin[1,ii]))\n",
    "#     plt.annotate(txt, (Phi2TtoF_Lin[0,ii], Phi2TtoF_Lin[1,ii]))\n",
    "\n",
    "plt.annotate(glove_no_cav_concept[new_glove], (Phi2TtoF_Lin[0,n_samples + new_glove], Phi2TtoF_Lin[1,n_samples+new_glove]))"
   ]
  },
  {
   "cell_type": "markdown",
   "metadata": {},
   "source": [
    "## Explore new concepts related to scenicness"
   ]
  },
  {
   "cell_type": "markdown",
   "metadata": {},
   "source": [
    "### Compare GloVe concepts to the clusters"
   ]
  },
  {
   "cell_type": "code",
   "execution_count": null,
   "metadata": {},
   "outputs": [],
   "source": []
  },
  {
   "cell_type": "code",
   "execution_count": null,
   "metadata": {},
   "outputs": [],
   "source": []
  },
  {
   "cell_type": "code",
   "execution_count": null,
   "metadata": {},
   "outputs": [],
   "source": []
  },
  {
   "cell_type": "code",
   "execution_count": null,
   "metadata": {},
   "outputs": [],
   "source": []
  },
  {
   "cell_type": "code",
   "execution_count": null,
   "metadata": {},
   "outputs": [],
   "source": []
  },
  {
   "cell_type": "code",
   "execution_count": null,
   "metadata": {},
   "outputs": [],
   "source": []
  },
  {
   "cell_type": "markdown",
   "metadata": {},
   "source": [
    "### Convert GloVe to CAV"
   ]
  },
  {
   "cell_type": "markdown",
   "metadata": {},
   "source": [
    "The GloVe concepts are transformed to CAVs and then each new GloVe concepts is compared to scenicness using Kendalls Tau rank correlation"
   ]
  },
  {
   "cell_type": "code",
   "execution_count": 284,
   "metadata": {},
   "outputs": [
    {
     "data": {
      "text/plain": [
       "(300, 9000)"
      ]
     },
     "execution_count": 284,
     "metadata": {},
     "output_type": "execute_result"
    }
   ],
   "source": [
    "test_data = glove_no_cav[1000:10000].T\n",
    "test_data = normalize(test_data, axis=0)\n",
    "test_data.shape"
   ]
  },
  {
   "cell_type": "code",
   "execution_count": 285,
   "metadata": {},
   "outputs": [
    {
     "data": {
      "text/plain": [
       "(9000, 1373)"
      ]
     },
     "execution_count": 285,
     "metadata": {},
     "output_type": "execute_result"
    }
   ],
   "source": [
    "test_kernel = np.matmul(test_data.T, glove_sorted_norm_col)\n",
    "test_kernel.shape"
   ]
  },
  {
   "cell_type": "code",
   "execution_count": 286,
   "metadata": {},
   "outputs": [
    {
     "data": {
      "text/plain": [
       "(4, 9000)"
      ]
     },
     "execution_count": 286,
     "metadata": {},
     "output_type": "execute_result"
    }
   ],
   "source": [
    "test_transform = np.matmul(E2.T, test_kernel.T)\n",
    "test_transform.shape"
   ]
  },
  {
   "cell_type": "code",
   "execution_count": 287,
   "metadata": {},
   "outputs": [],
   "source": [
    "T3 = test_data.shape[1]"
   ]
  },
  {
   "cell_type": "code",
   "execution_count": 288,
   "metadata": {},
   "outputs": [],
   "source": [
    "new_concepts_in_latent = np.divide((test_transform.T - np.matlib.repmat(m2, T3 ,1)),\n",
    "                         np.matlib.repmat(s2, T3, 1)).T"
   ]
  },
  {
   "cell_type": "code",
   "execution_count": 289,
   "metadata": {},
   "outputs": [],
   "source": [
    "new_c_to_cav = np.multiply((new_concepts_in_latent.T + np.matlib.repmat(m1,T3,1)),\n",
    "                          np.matlib.repmat(s1, T3, 1)).T"
   ]
  },
  {
   "cell_type": "code",
   "execution_count": 290,
   "metadata": {},
   "outputs": [
    {
     "data": {
      "text/plain": [
       "(649, 9000)"
      ]
     },
     "execution_count": 290,
     "metadata": {},
     "output_type": "execute_result"
    }
   ],
   "source": [
    "new_concepts_cav = np.matmul(np.linalg.pinv(E1.T), new_c_to_cav)\n",
    "new_concepts_cav.shape"
   ]
  },
  {
   "cell_type": "code",
   "execution_count": 291,
   "metadata": {},
   "outputs": [],
   "source": [
    "new_concepts_cav = np.matmul(np.linalg.pinv(cavs_sorted_norm_col).T, new_concepts_cav)"
   ]
  },
  {
   "cell_type": "code",
   "execution_count": 292,
   "metadata": {},
   "outputs": [
    {
     "data": {
      "text/plain": [
       "(2048, 9000)"
      ]
     },
     "execution_count": 292,
     "metadata": {},
     "output_type": "execute_result"
    }
   ],
   "source": [
    "new_concepts_cav.shape"
   ]
  },
  {
   "cell_type": "markdown",
   "metadata": {},
   "source": [
    "---"
   ]
  },
  {
   "cell_type": "code",
   "execution_count": 281,
   "metadata": {},
   "outputs": [],
   "source": [
    "with open('../data/son_tensors.pickle', 'rb') as handle:\n",
    "        son_tensors = pickle.load(handle)"
   ]
  },
  {
   "cell_type": "code",
   "execution_count": 293,
   "metadata": {},
   "outputs": [],
   "source": [
    "concept_score_matrix = np.zeros((len(son_tensors), new_concepts_cav.shape[1]))"
   ]
  },
  {
   "cell_type": "code",
   "execution_count": 283,
   "metadata": {},
   "outputs": [
    {
     "data": {
      "application/vnd.jupyter.widget-view+json": {
       "model_id": "7ec0f4c9e8b8483d9358768d868a4fbe",
       "version_major": 2,
       "version_minor": 0
      },
      "text/plain": [
       "HBox(children=(IntProgress(value=0, max=212102), HTML(value='')))"
      ]
     },
     "metadata": {},
     "output_type": "display_data"
    },
    {
     "ename": "KeyboardInterrupt",
     "evalue": "",
     "output_type": "error",
     "traceback": [
      "\u001b[0;31m---------------------------------------------------------------------------\u001b[0m",
      "\u001b[0;31mKeyboardInterrupt\u001b[0m                         Traceback (most recent call last)",
      "\u001b[0;32m<ipython-input-283-6a5eecb8ced8>\u001b[0m in \u001b[0;36m<module>\u001b[0;34m\u001b[0m\n\u001b[1;32m      3\u001b[0m \u001b[0;34m\u001b[0m\u001b[0m\n\u001b[1;32m      4\u001b[0m     \u001b[0;32mfor\u001b[0m \u001b[0mc\u001b[0m \u001b[0;32min\u001b[0m \u001b[0mrange\u001b[0m\u001b[0;34m(\u001b[0m\u001b[0mnew_concepts_cav\u001b[0m\u001b[0;34m.\u001b[0m\u001b[0mshape\u001b[0m\u001b[0;34m[\u001b[0m\u001b[0;36m1\u001b[0m\u001b[0;34m]\u001b[0m\u001b[0;34m)\u001b[0m\u001b[0;34m:\u001b[0m\u001b[0;34m\u001b[0m\u001b[0;34m\u001b[0m\u001b[0m\n\u001b[0;32m----> 5\u001b[0;31m         \u001b[0mconcept_score\u001b[0m \u001b[0;34m=\u001b[0m \u001b[0mnp\u001b[0m\u001b[0;34m.\u001b[0m\u001b[0mdot\u001b[0m\u001b[0;34m(\u001b[0m\u001b[0mnew_concepts_cav\u001b[0m\u001b[0;34m[\u001b[0m\u001b[0;34m:\u001b[0m\u001b[0;34m,\u001b[0m\u001b[0mc\u001b[0m\u001b[0;34m]\u001b[0m\u001b[0;34m,\u001b[0m \u001b[0mson_img_tensor\u001b[0m\u001b[0;34m)\u001b[0m\u001b[0;34m\u001b[0m\u001b[0;34m\u001b[0m\u001b[0m\n\u001b[0m\u001b[1;32m      6\u001b[0m         \u001b[0mconcept_score_matrix\u001b[0m\u001b[0;34m[\u001b[0m\u001b[0mi\u001b[0m\u001b[0;34m]\u001b[0m\u001b[0;34m[\u001b[0m\u001b[0mc\u001b[0m\u001b[0;34m]\u001b[0m \u001b[0;34m=\u001b[0m \u001b[0mconcept_score\u001b[0m\u001b[0;34m\u001b[0m\u001b[0;34m\u001b[0m\u001b[0m\n",
      "\u001b[0;32m<__array_function__ internals>\u001b[0m in \u001b[0;36mdot\u001b[0;34m(*args, **kwargs)\u001b[0m\n",
      "\u001b[0;31mKeyboardInterrupt\u001b[0m: "
     ]
    }
   ],
   "source": [
    "for i in tqdm(range(len(son_tensors))):\n",
    "    son_img_tensor = son_tensors[list(son_tensors.keys())[i]][2].numpy()\n",
    "    \n",
    "    for c in range(new_concepts_cav.shape[1]):\n",
    "        concept_score = np.dot(new_concepts_cav[:,c], son_img_tensor)\n",
    "        concept_score_matrix[i][c] = concept_score"
   ]
  },
  {
   "cell_type": "code",
   "execution_count": 258,
   "metadata": {},
   "outputs": [
    {
     "data": {
      "text/plain": [
       "['1',\n",
       " '/raid/data/datasets/SoN/images/4/1.jpg',\n",
       " tensor([0.3566, 1.4949, 0.1739,  ..., 0.0140, 0.2987, 0.0557])]"
      ]
     },
     "execution_count": 258,
     "metadata": {},
     "output_type": "execute_result"
    }
   ],
   "source": [
    "son_tensors['0']"
   ]
  },
  {
   "cell_type": "code",
   "execution_count": null,
   "metadata": {},
   "outputs": [],
   "source": []
  }
 ],
 "metadata": {
  "kernelspec": {
   "display_name": "Python 3",
   "language": "python",
   "name": "python3"
  },
  "language_info": {
   "codemirror_mode": {
    "name": "ipython",
    "version": 3
   },
   "file_extension": ".py",
   "mimetype": "text/x-python",
   "name": "python",
   "nbconvert_exporter": "python",
   "pygments_lexer": "ipython3",
   "version": "3.7.5"
  }
 },
 "nbformat": 4,
 "nbformat_minor": 2
}
