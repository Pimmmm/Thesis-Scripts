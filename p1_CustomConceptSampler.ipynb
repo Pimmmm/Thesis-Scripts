{
 "cells": [
  {
   "cell_type": "markdown",
   "metadata": {},
   "source": [
    "# Custom Concept Sampler"
   ]
  },
  {
   "cell_type": "code",
   "execution_count": null,
   "metadata": {},
   "outputs": [],
   "source": [
    "import os\n",
    "import pandas as pd\n",
    "import numpy as np\n",
    "import random"
   ]
  },
  {
   "cell_type": "code",
   "execution_count": null,
   "metadata": {},
   "outputs": [],
   "source": [
    "training_df = pd.read_csv('../data/training_data.csv')"
   ]
  },
  {
   "cell_type": "code",
   "execution_count": null,
   "metadata": {},
   "outputs": [],
   "source": [
    "class ConceptSampler(Sampler):\n",
    "    \n",
    "    '''\n",
    "    The ConceptSampler returns a randomized list of image indices in which the specified concept is present.\n",
    "    The randomized list is an iterable object\n",
    "    \n",
    "    Args:\n",
    "    training_df: dataframe containing the training data\n",
    "    concept: a string of the concept\n",
    "    \n",
    "    Returns:\n",
    "    Iterable object of list containing indices\n",
    "    '''\n",
    "    \n",
    "    def __init__(self, training_df, concept):\n",
    "        self.temp_df = training_df\n",
    "        self.concept = concept\n",
    "        \n",
    "        #check if the concept is present as a concept\n",
    "        if self.concept not in self.temp_df.columns:\n",
    "            raise TypeError('Concept %s is not in dataset' % self.concept)\n",
    "        \n",
    "        #get the index values of all images in which the concepts is present\n",
    "        self.idxs = self.temp_df.loc[self.temp_df[self.concept] == 1, 'image'].index.tolist() \n",
    "        \n",
    "    def __iter__(self):\n",
    "        \n",
    "        #randomize the list of indices\n",
    "        self.random_list = random.sample(self.idxs, len(self.idxs))\n",
    "        return iter(self.random_list)\n",
    "    \n",
    "    def __len__(self):\n",
    "        return len(self.idxs) # the amount of images in which the concept is present\n"
   ]
  }
 ],
 "metadata": {
  "kernelspec": {
   "display_name": "Python 3",
   "language": "python",
   "name": "python3"
  },
  "language_info": {
   "codemirror_mode": {
    "name": "ipython",
    "version": 3
   },
   "file_extension": ".py",
   "mimetype": "text/x-python",
   "name": "python",
   "nbconvert_exporter": "python",
   "pygments_lexer": "ipython3",
   "version": "3.7.4"
  }
 },
 "nbformat": 4,
 "nbformat_minor": 2
}
