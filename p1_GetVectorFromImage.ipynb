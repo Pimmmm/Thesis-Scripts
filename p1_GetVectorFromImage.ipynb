{
 "cells": [
  {
   "cell_type": "code",
   "execution_count": 1,
   "metadata": {},
   "outputs": [],
   "source": [
    "import torch\n",
    "from torch.autograd import Variable"
   ]
  },
  {
   "cell_type": "code",
   "execution_count": 1,
   "metadata": {},
   "outputs": [],
   "source": [
    "def GetVector(img_tensor, net, output_layer):\n",
    "    \n",
    "    \"\"\"\n",
    "    The function extracts the feature vector of an image from the 'avgpool' layer in a model\n",
    "    \n",
    "    Args:\n",
    "        img_tensor (torch.Tensor): a tensor of an image\n",
    "        net (torchvision.model): a Neural Network or Convolutional NN\n",
    "        out_layer: a layer of the nn, from which the output will be extracted\n",
    "    \n",
    "    Returns:\n",
    "        torch.Tensor: the vector of the image in the out_layer\n",
    "    \"\"\"\n",
    "    \n",
    "    #Create a PyTorch Variable with the transformed image\n",
    "    img = Variable(img_tensor).unsqueeze(0)\n",
    "    \n",
    "    # Create a vector of zeros that will hold the feature vector of the image. \n",
    "    # The 'avgpool' layer of the ResNet50 has an output size of 2048\n",
    "    my_embedding = torch.zeros(2048)\n",
    "    \n",
    "    # Define a function that will copy the output of a layer\n",
    "    def copy_data(m, i, o):\n",
    "        my_embedding.copy_(o.data.squeeze())\n",
    "    \n",
    "    # Attach that function to our selected layer\n",
    "    h = output_layer.register_forward_hook(copy_data)\n",
    "    \n",
    "    # Run the model on our transformed image\n",
    "    net(img)\n",
    "    \n",
    "    # Detach our copy function from the layer\n",
    "    h.remove()\n",
    "    \n",
    "    # Return the feature vector\n",
    "    return my_embedding"
   ]
  },
  {
   "cell_type": "code",
   "execution_count": null,
   "metadata": {},
   "outputs": [],
   "source": []
  }
 ],
 "metadata": {
  "kernelspec": {
   "display_name": "Python 3",
   "language": "python",
   "name": "python3"
  },
  "language_info": {
   "codemirror_mode": {
    "name": "ipython",
    "version": 3
   },
   "file_extension": ".py",
   "mimetype": "text/x-python",
   "name": "python",
   "nbconvert_exporter": "python",
   "pygments_lexer": "ipython3",
   "version": "3.7.5"
  }
 },
 "nbformat": 4,
 "nbformat_minor": 2
}
