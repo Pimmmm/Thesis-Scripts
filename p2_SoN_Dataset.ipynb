{
 "cells": [
  {
   "cell_type": "code",
   "execution_count": 1,
   "metadata": {},
   "outputs": [],
   "source": [
    "from torch.utils.data import Dataset\n",
    "from PIL import Image\n",
    "from torchvision import transforms, utils\n",
    "\n",
    "import pandas as pd\n",
    "import numpy as np\n",
    "import os\n",
    "import torch\n",
    "import glob"
   ]
  },
  {
   "cell_type": "code",
   "execution_count": 2,
   "metadata": {},
   "outputs": [],
   "source": [
    "class SonDataset(Dataset):\n",
    "    \n",
    "    def __init__(self, updated_csv_path, img_path, transform = None):\n",
    "        self.img_path = img_path\n",
    "        self.votes_df = pd.read_csv(updated_csv_path)\n",
    "        self.transform = transform\n",
    "    \n",
    "    def __getitem__(self, idx):\n",
    "        self.img_score = self.votes_df.loc[idx, 'Average']\n",
    "        self.img_name = self.votes_df.loc[idx, 'ID'].astype(str)\n",
    "        self.img_file = []\n",
    "        \n",
    "        for directory, _ , _ in os.walk(self.img_path):\n",
    "            self.img_file.extend(glob.glob(os.path.join(directory, self.img_name + '.jpg')))\n",
    "            \n",
    "        im = Image.open(self.img_file[0])\n",
    "        img_as_img = im.convert('RGB')\n",
    "        \n",
    "        if self.transform:\n",
    "            img_as_img = self.transform(img_as_img)\n",
    "            \n",
    "        sample = {'image' : img_as_img,\n",
    "                  'image_name' : self.img_name,\n",
    "                  'image_path' : self.img_file[0],\n",
    "                  'image_score' : self.img_score}\n",
    "        return sample\n",
    "    \n",
    "    def __len__(self):\n",
    "        return len(votes_df)\n",
    "        \n",
    "        \n",
    "    "
   ]
  },
  {
   "cell_type": "code",
   "execution_count": 3,
   "metadata": {},
   "outputs": [],
   "source": [
    "#test the dataset\n",
    "son_dataset = SonDataset('../data/updated_votes.csv', \n",
    "                         '/raid/data/datasets/SoN/images', \n",
    "                         transform = transforms.Compose([transforms.CenterCrop(224),\n",
    "                                                         transforms.ToTensor(),\n",
    "                                                         transforms.Normalize(mean=[0.485, 0.456, 0.406],\n",
    "                                                                              std=[0.229, 0.224, 0.225])\n",
    "                                                        ]))"
   ]
  },
  {
   "cell_type": "code",
   "execution_count": 5,
   "metadata": {},
   "outputs": [
    {
     "data": {
      "text/plain": [
       "{'image': tensor([[[ 2.0948,  2.0948,  2.0948,  ...,  2.1462,  2.1290,  2.1119],\n",
       "          [ 2.0777,  2.0948,  2.0948,  ...,  2.1290,  2.1119,  2.1119],\n",
       "          [ 2.0948,  2.0948,  2.1119,  ...,  2.1119,  2.1119,  2.0948],\n",
       "          ...,\n",
       "          [-1.2617, -0.9877, -0.9877,  ..., -0.9877, -0.8507, -0.8678],\n",
       "          [-0.9534, -0.7650, -0.9705,  ..., -0.6965, -0.6109, -0.6965],\n",
       "          [-0.9705, -1.0562, -1.0904,  ..., -0.5424, -0.5938, -0.8164]],\n",
       " \n",
       "         [[ 2.1835,  2.1835,  2.1835,  ...,  2.2360,  2.2185,  2.2010],\n",
       "          [ 2.1660,  2.1835,  2.1835,  ...,  2.2185,  2.2010,  2.2010],\n",
       "          [ 2.1835,  2.1835,  2.2010,  ...,  2.2010,  2.2010,  2.1835],\n",
       "          ...,\n",
       "          [-1.3529, -1.0728, -1.0378,  ..., -1.0553, -0.9503, -0.9678],\n",
       "          [-1.0028, -0.8102, -0.9678,  ..., -0.8978, -0.7927, -0.8803],\n",
       "          [-1.0203, -1.0553, -1.0903,  ..., -0.8277, -0.8803, -1.1078]],\n",
       " \n",
       "         [[ 2.3437,  2.3437,  2.3437,  ...,  2.3960,  2.3786,  2.3611],\n",
       "          [ 2.3263,  2.3437,  2.3437,  ...,  2.3786,  2.3611,  2.3611],\n",
       "          [ 2.3437,  2.3437,  2.3611,  ...,  2.3611,  2.3611,  2.3437],\n",
       "          ...,\n",
       "          [-1.8044, -1.7870, -1.7696,  ..., -1.7522, -1.6302, -1.6476],\n",
       "          [-1.7696, -1.5779, -1.7522,  ..., -1.5430, -1.4733, -1.5604],\n",
       "          [-1.7870, -1.8044, -1.8044,  ..., -1.4733, -1.5256, -1.7522]]]),\n",
       " 'image_name': '1',\n",
       " 'image_path': '/raid/data/datasets/SoN/images/4/1.jpg',\n",
       " 'image_score': 4.1111}"
      ]
     },
     "execution_count": 5,
     "metadata": {},
     "output_type": "execute_result"
    }
   ],
   "source": [
    "son_dataset[0]"
   ]
  },
  {
   "cell_type": "code",
   "execution_count": null,
   "metadata": {},
   "outputs": [],
   "source": []
  }
 ],
 "metadata": {
  "kernelspec": {
   "display_name": "Python 3",
   "language": "python",
   "name": "python3"
  },
  "language_info": {
   "codemirror_mode": {
    "name": "ipython",
    "version": 3
   },
   "file_extension": ".py",
   "mimetype": "text/x-python",
   "name": "python",
   "nbconvert_exporter": "python",
   "pygments_lexer": "ipython3",
   "version": "3.7.5"
  }
 },
 "nbformat": 4,
 "nbformat_minor": 2
}
