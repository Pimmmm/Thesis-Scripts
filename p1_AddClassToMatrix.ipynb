{
 "cells": [
  {
   "cell_type": "code",
   "execution_count": null,
   "metadata": {},
   "outputs": [],
   "source": [
    "def AddClassToMatrix(classes_in_img, row_in_matrix, class_m):\n",
    "    \n",
    "    \"\"\"Adds the class numbers to the class matrix\n",
    "    \n",
    "    Args:\n",
    "    classes_in_img: np.array containing the class numbers\n",
    "    row_in_matrix: the row in the matrix represents the picture, this should be the same as the row of the image in index_df\n",
    "    class_m: matrix in which the images are linked to the classes\n",
    "    \n",
    "    Returns: matrix\n",
    "    \"\"\"\n",
    "    \n",
    "    import numpy as np\n",
    "    \n",
    "    for num in np.nditer(classes_in_img):\n",
    "        class_m[row_in_matrix, num] = 1\n",
    "    \n",
    "    return class_m"
   ]
  }
 ],
 "metadata": {
  "kernelspec": {
   "display_name": "Python 3",
   "language": "python",
   "name": "python3"
  },
  "language_info": {
   "codemirror_mode": {
    "name": "ipython",
    "version": 3
   },
   "file_extension": ".py",
   "mimetype": "text/x-python",
   "name": "python",
   "nbconvert_exporter": "python",
   "pygments_lexer": "ipython3",
   "version": "3.7.4"
  }
 },
 "nbformat": 4,
 "nbformat_minor": 2
}
